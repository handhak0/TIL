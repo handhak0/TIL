{
 "cells": [
  {
   "cell_type": "markdown",
   "source": [
    "- similarity\r\n",
    "- dissimilarity"
   ],
   "metadata": {}
  },
  {
   "cell_type": "markdown",
   "source": [
    "# 01. Minkowski distance "
   ],
   "metadata": {}
  },
  {
   "cell_type": "markdown",
   "source": [
    "## 1-1. Manhattan distance (L1)\r\n",
    "동일한 차원의 값을 다 빼서 더한 것 "
   ],
   "metadata": {}
  },
  {
   "cell_type": "code",
   "execution_count": 24,
   "source": [
    "a = np.array([1,2,3])\r\n",
    "b = np.array([-1,2,6])\r\n",
    "\r\n",
    "dist = sum(abs(a-b))\r\n",
    "dist"
   ],
   "outputs": [
    {
     "output_type": "execute_result",
     "data": {
      "text/plain": [
       "5"
      ]
     },
     "metadata": {},
     "execution_count": 24
    }
   ],
   "metadata": {}
  },
  {
   "cell_type": "markdown",
   "source": [
    "## 1-2. Euclidean distance (L2)\r\n",
    "직선 거리 \r\n"
   ],
   "metadata": {}
  },
  {
   "cell_type": "code",
   "execution_count": 2,
   "source": [
    "# numpy 사용 \r\n",
    "import numpy as np \r\n",
    "a = np.array([1,2,3])\r\n",
    "b = np.array([4,5,6])\r\n",
    "\r\n",
    "dist = np.linalg.norm(a-b)\r\n",
    "print(dist)"
   ],
   "outputs": [
    {
     "output_type": "stream",
     "name": "stdout",
     "text": [
      "5.196152422706632\n"
     ]
    }
   ],
   "metadata": {}
  },
  {
   "cell_type": "code",
   "execution_count": 3,
   "source": [
    "# scipy 사용 \r\n",
    "from scipy.spatial import distance \r\n",
    "print(distance.euclidean(a,b))"
   ],
   "outputs": [
    {
     "output_type": "stream",
     "name": "stdout",
     "text": [
      "5.196152422706632\n"
     ]
    }
   ],
   "metadata": {}
  },
  {
   "cell_type": "code",
   "execution_count": 16,
   "source": [
    "# 데이터프레임으로 거리 구해보기 \r\n",
    "import pandas as pd \r\n",
    "df = pd.DataFrame({\"a\" : a, \"b\" : b})\r\n",
    "df"
   ],
   "outputs": [
    {
     "output_type": "execute_result",
     "data": {
      "text/html": [
       "<div>\n",
       "<style scoped>\n",
       "    .dataframe tbody tr th:only-of-type {\n",
       "        vertical-align: middle;\n",
       "    }\n",
       "\n",
       "    .dataframe tbody tr th {\n",
       "        vertical-align: top;\n",
       "    }\n",
       "\n",
       "    .dataframe thead th {\n",
       "        text-align: right;\n",
       "    }\n",
       "</style>\n",
       "<table border=\"1\" class=\"dataframe\">\n",
       "  <thead>\n",
       "    <tr style=\"text-align: right;\">\n",
       "      <th></th>\n",
       "      <th>a</th>\n",
       "      <th>b</th>\n",
       "    </tr>\n",
       "  </thead>\n",
       "  <tbody>\n",
       "    <tr>\n",
       "      <th>0</th>\n",
       "      <td>1</td>\n",
       "      <td>4</td>\n",
       "    </tr>\n",
       "    <tr>\n",
       "      <th>1</th>\n",
       "      <td>2</td>\n",
       "      <td>5</td>\n",
       "    </tr>\n",
       "    <tr>\n",
       "      <th>2</th>\n",
       "      <td>3</td>\n",
       "      <td>6</td>\n",
       "    </tr>\n",
       "  </tbody>\n",
       "</table>\n",
       "</div>"
      ],
      "text/plain": [
       "   a  b\n",
       "0  1  4\n",
       "1  2  5\n",
       "2  3  6"
      ]
     },
     "metadata": {},
     "execution_count": 16
    }
   ],
   "metadata": {}
  },
  {
   "cell_type": "code",
   "execution_count": 22,
   "source": [
    "dist = np.linalg.norm(df['a']-df['b'])\r\n",
    "print(dist)\r\n",
    "\r\n",
    "dist1 = np.linalg.norm(df.iloc[0]-df.iloc[1])\r\n",
    "print(dist1)\r\n",
    "\r\n",
    "dist2 = np.linalg.norm(np.array([1,4])- np.array([2,5]))\r\n",
    "print(dist2)"
   ],
   "outputs": [
    {
     "output_type": "stream",
     "name": "stdout",
     "text": [
      "5.196152422706632\n",
      "1.4142135623730951\n",
      "1.4142135623730951\n"
     ]
    }
   ],
   "metadata": {}
  },
  {
   "cell_type": "markdown",
   "source": [
    "## 1-3. Supremum distance (Lmax)\r\n",
    "맨하탄 거리 중에서 제일 큰 놈만 남기고 나머지 다 죽임"
   ],
   "metadata": {}
  },
  {
   "cell_type": "markdown",
   "source": [
    "# +) The properties of distances \r\n",
    "\r\n",
    "1) Positivity : 거리는 양수여야 함 \r\n",
    "2) Symmetry : x,y (앞뒤)가 바뀌어도 똑같아야 함 \r\n",
    "3) Triangle inequality : x에서 z로 가는 것보다 x,y,x로 가는 것이 더 길어야 함 "
   ],
   "metadata": {}
  },
  {
   "cell_type": "markdown",
   "source": [
    "# 02. Similarity coefficients \r\n",
    "(상관성)\r\n",
    "\r\n",
    "binary data 사용함"
   ],
   "metadata": {}
  },
  {
   "cell_type": "markdown",
   "source": [
    "## 2-1 Simple Matching Coefficient"
   ],
   "metadata": {}
  },
  {
   "cell_type": "code",
   "execution_count": 29,
   "source": [
    "# simple matching coefficient \r\n",
    "\r\n",
    "x = np.array([1,0,0,1])\r\n",
    "y = np.array([1,0,1,1])\r\n",
    "\r\n",
    "# 똑같은 것이 몇 개니? \r\n",
    "\r\n",
    "def similarity (x,y) : \r\n",
    "    z = x - y \r\n",
    "    count = np.count_nonzero(z == 0)\r\n",
    "    return count/len(z) \r\n",
    "\r\n",
    "similarity(x,y)"
   ],
   "outputs": [
    {
     "output_type": "execute_result",
     "data": {
      "text/plain": [
       "0.75"
      ]
     },
     "metadata": {},
     "execution_count": 29
    }
   ],
   "metadata": {}
  },
  {
   "cell_type": "markdown",
   "source": [
    "## 2-2 Jaccard coefficient \r\n",
    "존재하는 것만 세기 \r\n",
    "\r\n",
    "ex) 아마존 같이 상품이 엄청 많으면 아무도 안 산 상품은 계산에서 제거하는 것 "
   ],
   "metadata": {}
  },
  {
   "cell_type": "code",
   "execution_count": 37,
   "source": [
    "x = np.array([1,0,0,0,0,0,1])\r\n",
    "y = np.array([0,0,0,0,0,1,1])\r\n",
    "\r\n",
    "f01, f10, f11 = 0, 0 , 0\r\n",
    "for i in range(len(x)) : \r\n",
    "    if (x[i]==0) & (y[i]==1):\r\n",
    "        f01 +=1 \r\n",
    "    elif (x[i]==1) & (y[i]==0):\r\n",
    "        f10 +=1\r\n",
    "    elif (x[i]==1) & (y[i]==1)  : \r\n",
    "        f11 += 1 \r\n",
    "f11/(f01+f10+f11)"
   ],
   "outputs": [
    {
     "output_type": "execute_result",
     "data": {
      "text/plain": [
       "0.3333333333333333"
      ]
     },
     "metadata": {},
     "execution_count": 37
    }
   ],
   "metadata": {}
  },
  {
   "cell_type": "markdown",
   "source": [
    "# 03. Cosine Similarity \r\n",
    "- 각도가 서로 붙으면? 값 최대화 \r\n",
    "- 각도와 유사도는 반비례 \r\n",
    "\r\n",
    "- 각도가 작다는 것은 서로 가까이 붙어있다는 것이니깐 유사도가 높은 것 \r\n",
    "\r\n",
    "- 0~180 : 유사도가 작아짐 \r\n",
    "- 180~360 : 유사도가 커짐 (다시 가까워지니깐)\r\n",
    "\r\n",
    "**공식 : X 내적의 합 / 벡터 x의 길이**\r\n",
    "- 내적이란? 똑같은 위치를 다 곱해서 더한 것 "
   ],
   "metadata": {}
  },
  {
   "cell_type": "code",
   "execution_count": null,
   "source": [
    "# a = np.random.randint(0,3,5)\r\n",
    "# b = np.random.randint(0,3,5)\r\n",
    "a = np.array([3,2,0,5,0,0,0,0,2,0,0])\r\n",
    "b = np.array([1,0,0,0,0,0,0,0,1,0,2])\r\n",
    "print(a,b)\r\n",
    "mul = sum(a*b)\r\n",
    "print(mul)\r\n",
    "\r\n",
    "len_a = (sum(a**2))**(1/2)\r\n",
    "len_b = (sum(b**2))**(1/2)\r\n",
    "\r\n",
    "print(len_a,len_b)\r\n",
    "\r\n",
    "cos = mul/(len_a*len_b)\r\n",
    "print(cos)"
   ],
   "outputs": [
    {
     "output_type": "stream",
     "name": "stdout",
     "text": [
      "[3 2 0 5 0 0 0 0 2 0 0] [1 0 0 0 0 0 0 0 1 0 2]\n",
      "5\n",
      "6.48074069840786 2.449489742783178\n",
      "0.314970394174356\n"
     ]
    }
   ],
   "metadata": {}
  },
  {
   "cell_type": "markdown",
   "source": [
    "# 04. Correlation\r\n",
    "- 2개의 attribute가 주어졌을 때, 값의 경향을 알고 싶은 것 \r\n",
    "- 나열된 순서는 중요하지 않음 "
   ],
   "metadata": {}
  },
  {
   "cell_type": "markdown",
   "source": [
    "## 4-1 Pearson's Correlation \r\n",
    "\r\n",
    "xy공분산 / (x 표준편차 * y 표준편차)"
   ],
   "metadata": {}
  },
  {
   "cell_type": "code",
   "execution_count": 56,
   "source": [
    "x = np.array([-3,6,0,3,-6])\r\n",
    "y = np.array([1,-2,0,-1,2])\r\n",
    "x,y"
   ],
   "outputs": [
    {
     "output_type": "execute_result",
     "data": {
      "text/plain": [
       "(array([-3,  6,  0,  3, -6]), array([ 1, -2,  0, -1,  2]))"
      ]
     },
     "metadata": {},
     "execution_count": 56
    }
   ],
   "metadata": {}
  },
  {
   "cell_type": "code",
   "execution_count": 57,
   "source": [
    "df = pd.DataFrame({\"x\" : x, \"y\" : y})\r\n",
    "df"
   ],
   "outputs": [
    {
     "output_type": "execute_result",
     "data": {
      "text/html": [
       "<div>\n",
       "<style scoped>\n",
       "    .dataframe tbody tr th:only-of-type {\n",
       "        vertical-align: middle;\n",
       "    }\n",
       "\n",
       "    .dataframe tbody tr th {\n",
       "        vertical-align: top;\n",
       "    }\n",
       "\n",
       "    .dataframe thead th {\n",
       "        text-align: right;\n",
       "    }\n",
       "</style>\n",
       "<table border=\"1\" class=\"dataframe\">\n",
       "  <thead>\n",
       "    <tr style=\"text-align: right;\">\n",
       "      <th></th>\n",
       "      <th>x</th>\n",
       "      <th>y</th>\n",
       "    </tr>\n",
       "  </thead>\n",
       "  <tbody>\n",
       "    <tr>\n",
       "      <th>0</th>\n",
       "      <td>-3</td>\n",
       "      <td>1</td>\n",
       "    </tr>\n",
       "    <tr>\n",
       "      <th>1</th>\n",
       "      <td>6</td>\n",
       "      <td>-2</td>\n",
       "    </tr>\n",
       "    <tr>\n",
       "      <th>2</th>\n",
       "      <td>0</td>\n",
       "      <td>0</td>\n",
       "    </tr>\n",
       "    <tr>\n",
       "      <th>3</th>\n",
       "      <td>3</td>\n",
       "      <td>-1</td>\n",
       "    </tr>\n",
       "    <tr>\n",
       "      <th>4</th>\n",
       "      <td>-6</td>\n",
       "      <td>2</td>\n",
       "    </tr>\n",
       "  </tbody>\n",
       "</table>\n",
       "</div>"
      ],
      "text/plain": [
       "   x  y\n",
       "0 -3  1\n",
       "1  6 -2\n",
       "2  0  0\n",
       "3  3 -1\n",
       "4 -6  2"
      ]
     },
     "metadata": {},
     "execution_count": 57
    }
   ],
   "metadata": {}
  },
  {
   "cell_type": "code",
   "execution_count": 59,
   "source": [
    "# 표본평균 \r\n",
    "x_bar = sum(df['x']) / len(df['x'])\r\n",
    "y_bar = sum(df['y']) / len(df['y'])\r\n",
    "\r\n",
    "# 편차\r\n",
    "df['x_dev'] = df['x'] - x_bar \r\n",
    "df['y_dev'] = df['y'] - y_bar\r\n",
    "\r\n",
    "# 편차 곱 \r\n",
    "df['dev_mul'] = df['x_dev']*df['y_dev']\r\n",
    "\r\n",
    "# 공분산 \r\n",
    "cov=sum(df['dev_mul'])/(df.shape[0]-1)\r\n",
    "\r\n",
    "# 표본표준편차 \r\n",
    "x_stdev = (sum(df['x_dev']**2)/(df.shape[0]-1))**(1/2)\r\n",
    "y_stdev = (sum(df['y_dev']**2)/(df.shape[0]-1))**(1/2)\r\n",
    "\r\n",
    "#피어슨 상관계수 \r\n",
    "\r\n",
    "pearson = cov/(x_stdev*y_stdev)\r\n",
    "print(pearson)\r\n",
    "df\r\n"
   ],
   "outputs": [
    {
     "output_type": "stream",
     "name": "stdout",
     "text": [
      "-0.9999999999999999\n"
     ]
    },
    {
     "output_type": "execute_result",
     "data": {
      "text/html": [
       "<div>\n",
       "<style scoped>\n",
       "    .dataframe tbody tr th:only-of-type {\n",
       "        vertical-align: middle;\n",
       "    }\n",
       "\n",
       "    .dataframe tbody tr th {\n",
       "        vertical-align: top;\n",
       "    }\n",
       "\n",
       "    .dataframe thead th {\n",
       "        text-align: right;\n",
       "    }\n",
       "</style>\n",
       "<table border=\"1\" class=\"dataframe\">\n",
       "  <thead>\n",
       "    <tr style=\"text-align: right;\">\n",
       "      <th></th>\n",
       "      <th>x</th>\n",
       "      <th>y</th>\n",
       "      <th>x_dev</th>\n",
       "      <th>y_dev</th>\n",
       "      <th>dev_mul</th>\n",
       "    </tr>\n",
       "  </thead>\n",
       "  <tbody>\n",
       "    <tr>\n",
       "      <th>0</th>\n",
       "      <td>-3</td>\n",
       "      <td>1</td>\n",
       "      <td>-3.0</td>\n",
       "      <td>1.0</td>\n",
       "      <td>-3.0</td>\n",
       "    </tr>\n",
       "    <tr>\n",
       "      <th>1</th>\n",
       "      <td>6</td>\n",
       "      <td>-2</td>\n",
       "      <td>6.0</td>\n",
       "      <td>-2.0</td>\n",
       "      <td>-12.0</td>\n",
       "    </tr>\n",
       "    <tr>\n",
       "      <th>2</th>\n",
       "      <td>0</td>\n",
       "      <td>0</td>\n",
       "      <td>0.0</td>\n",
       "      <td>0.0</td>\n",
       "      <td>0.0</td>\n",
       "    </tr>\n",
       "    <tr>\n",
       "      <th>3</th>\n",
       "      <td>3</td>\n",
       "      <td>-1</td>\n",
       "      <td>3.0</td>\n",
       "      <td>-1.0</td>\n",
       "      <td>-3.0</td>\n",
       "    </tr>\n",
       "    <tr>\n",
       "      <th>4</th>\n",
       "      <td>-6</td>\n",
       "      <td>2</td>\n",
       "      <td>-6.0</td>\n",
       "      <td>2.0</td>\n",
       "      <td>-12.0</td>\n",
       "    </tr>\n",
       "  </tbody>\n",
       "</table>\n",
       "</div>"
      ],
      "text/plain": [
       "   x  y  x_dev  y_dev  dev_mul\n",
       "0 -3  1   -3.0    1.0     -3.0\n",
       "1  6 -2    6.0   -2.0    -12.0\n",
       "2  0  0    0.0    0.0      0.0\n",
       "3  3 -1    3.0   -1.0     -3.0\n",
       "4 -6  2   -6.0    2.0    -12.0"
      ]
     },
     "metadata": {},
     "execution_count": 59
    }
   ],
   "metadata": {}
  },
  {
   "cell_type": "markdown",
   "source": [
    "## 실습 "
   ],
   "metadata": {}
  },
  {
   "cell_type": "code",
   "execution_count": 69,
   "source": [
    "x = np.array([1,2,4,3,0,0,0])\r\n",
    "y = np.array([6,7,8,9,5,5,5])\r\n",
    "# y= np.array([2,4,6,8,0,0,0])"
   ],
   "outputs": [],
   "metadata": {}
  },
  {
   "cell_type": "code",
   "execution_count": 70,
   "source": [
    "# 코사인 데이터 \r\n",
    "\r\n",
    "# 내적 / 벡터까지의 길이 \r\n",
    "\r\n",
    "mul = sum(x*y)\r\n",
    "\r\n",
    "x_len= (sum(x**2))**(1/2)\r\n",
    "y_len= (sum(y**2))**(1/2)\r\n",
    "\r\n",
    "cos = mul/(x_len*y_len)\r\n",
    "print(cos)"
   ],
   "outputs": [
    {
     "output_type": "stream",
     "name": "stdout",
     "text": [
      "0.8258792301131205\n"
     ]
    }
   ],
   "metadata": {}
  },
  {
   "cell_type": "code",
   "execution_count": 73,
   "source": [
    "# 피어슨 상관계수 \r\n",
    "\r\n",
    "# cov(x,y) / (stdev(x)*stdev(y))\r\n",
    "\r\n",
    "df = pd.DataFrame({\"x\" : x, 'y' : y})\r\n",
    "\r\n",
    "df.describe()\r\n"
   ],
   "outputs": [
    {
     "output_type": "execute_result",
     "data": {
      "text/html": [
       "<div>\n",
       "<style scoped>\n",
       "    .dataframe tbody tr th:only-of-type {\n",
       "        vertical-align: middle;\n",
       "    }\n",
       "\n",
       "    .dataframe tbody tr th {\n",
       "        vertical-align: top;\n",
       "    }\n",
       "\n",
       "    .dataframe thead th {\n",
       "        text-align: right;\n",
       "    }\n",
       "</style>\n",
       "<table border=\"1\" class=\"dataframe\">\n",
       "  <thead>\n",
       "    <tr style=\"text-align: right;\">\n",
       "      <th></th>\n",
       "      <th>x</th>\n",
       "      <th>y</th>\n",
       "    </tr>\n",
       "  </thead>\n",
       "  <tbody>\n",
       "    <tr>\n",
       "      <th>count</th>\n",
       "      <td>7.000000</td>\n",
       "      <td>7.000000</td>\n",
       "    </tr>\n",
       "    <tr>\n",
       "      <th>mean</th>\n",
       "      <td>1.428571</td>\n",
       "      <td>6.428571</td>\n",
       "    </tr>\n",
       "    <tr>\n",
       "      <th>std</th>\n",
       "      <td>1.618347</td>\n",
       "      <td>1.618347</td>\n",
       "    </tr>\n",
       "    <tr>\n",
       "      <th>min</th>\n",
       "      <td>0.000000</td>\n",
       "      <td>5.000000</td>\n",
       "    </tr>\n",
       "    <tr>\n",
       "      <th>25%</th>\n",
       "      <td>0.000000</td>\n",
       "      <td>5.000000</td>\n",
       "    </tr>\n",
       "    <tr>\n",
       "      <th>50%</th>\n",
       "      <td>1.000000</td>\n",
       "      <td>6.000000</td>\n",
       "    </tr>\n",
       "    <tr>\n",
       "      <th>75%</th>\n",
       "      <td>2.500000</td>\n",
       "      <td>7.500000</td>\n",
       "    </tr>\n",
       "    <tr>\n",
       "      <th>max</th>\n",
       "      <td>4.000000</td>\n",
       "      <td>9.000000</td>\n",
       "    </tr>\n",
       "  </tbody>\n",
       "</table>\n",
       "</div>"
      ],
      "text/plain": [
       "              x         y\n",
       "count  7.000000  7.000000\n",
       "mean   1.428571  6.428571\n",
       "std    1.618347  1.618347\n",
       "min    0.000000  5.000000\n",
       "25%    0.000000  5.000000\n",
       "50%    1.000000  6.000000\n",
       "75%    2.500000  7.500000\n",
       "max    4.000000  9.000000"
      ]
     },
     "metadata": {},
     "execution_count": 73
    }
   ],
   "metadata": {}
  },
  {
   "cell_type": "code",
   "execution_count": 79,
   "source": [
    "x_stdev = df['x'].std()\r\n",
    "y_stdev = df['y'].std()\r\n",
    "cov = df['x'].cov(df['y'])\r\n",
    "\r\n",
    "corr = cov/(x_stdev*y_stdev)\r\n",
    "corr"
   ],
   "outputs": [
    {
     "output_type": "execute_result",
     "data": {
      "text/plain": [
       "0.9363636363636361"
      ]
     },
     "metadata": {},
     "execution_count": 79
    }
   ],
   "metadata": {}
  },
  {
   "cell_type": "code",
   "execution_count": 81,
   "source": [
    "# 유클리디안 거리 \r\n",
    "from scipy.spatial import distance \r\n",
    "\r\n",
    "dist = distance.euclidean(df['x'], df['y'])\r\n",
    "dist"
   ],
   "outputs": [
    {
     "output_type": "execute_result",
     "data": {
      "text/plain": [
       "13.30413469565007"
      ]
     },
     "metadata": {},
     "execution_count": 81
    }
   ],
   "metadata": {}
  },
  {
   "cell_type": "markdown",
   "source": [
    "보통 코사인 유사도는 짧은 글과 긴 글을 비교할 때 의미있다. \r\n",
    "\r\n",
    "왜냐하면, 코사인 거리는 길이에 좌지우지하지 않기 때문이다 "
   ],
   "metadata": {}
  },
  {
   "cell_type": "markdown",
   "source": [
    "# 05. Issues in Proximity Calculation "
   ],
   "metadata": {}
  },
  {
   "cell_type": "markdown",
   "source": [
    "## 5-1. Standardization "
   ],
   "metadata": {}
  },
  {
   "cell_type": "code",
   "execution_count": 83,
   "source": [
    "# Rescaling [0,1]\r\n",
    "\r\n",
    "re_x = (x-min(x)) / (max(x)-min(x))\r\n",
    "\r\n",
    "# mean normalization [-1,1]\r\n",
    "norm_x = (x-x.mean()) / (max(x)-min(x))\r\n",
    "\r\n",
    "# Standardization (정규분포)\r\n",
    "stand_x = (x-x.mean()) / x.std()\r\n",
    "\r\n",
    "re_x, norm_x, stand_x\r\n"
   ],
   "outputs": [
    {
     "output_type": "execute_result",
     "data": {
      "text/plain": [
       "(array([0.25, 0.5 , 1.  , 0.75, 0.  , 0.  , 0.  ]),\n",
       " array([-0.10714286,  0.14285714,  0.64285714,  0.39285714, -0.35714286,\n",
       "        -0.35714286, -0.35714286]),\n",
       " array([-0.28603878,  0.38138504,  1.71623266,  1.04880885, -0.95346259,\n",
       "        -0.95346259, -0.95346259]))"
      ]
     },
     "metadata": {},
     "execution_count": 83
    }
   ],
   "metadata": {}
  },
  {
   "cell_type": "markdown",
   "source": [
    "## 5-2 Using weights "
   ],
   "metadata": {}
  }
 ],
 "metadata": {
  "orig_nbformat": 4,
  "language_info": {
   "name": "python",
   "version": "3.7.3",
   "mimetype": "text/x-python",
   "codemirror_mode": {
    "name": "ipython",
    "version": 3
   },
   "pygments_lexer": "ipython3",
   "nbconvert_exporter": "python",
   "file_extension": ".py"
  },
  "kernelspec": {
   "name": "python3",
   "display_name": "Python 3.7.3 64-bit ('base': conda)"
  },
  "interpreter": {
   "hash": "8ca95d9937370959fe53b3f81cea8b7fb579a8b2e40b3ed544c9c6bb9cfba242"
  }
 },
 "nbformat": 4,
 "nbformat_minor": 2
}