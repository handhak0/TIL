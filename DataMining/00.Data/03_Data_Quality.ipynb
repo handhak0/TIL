{
  "nbformat": 4,
  "nbformat_minor": 2,
  "metadata": {
    "colab": {
      "name": "03.Data Quality.ipynb",
      "provenance": [],
      "collapsed_sections": []
    },
    "kernelspec": {
      "name": "python3",
      "display_name": "Python 3.7.3 64-bit ('base': conda)"
    },
    "language_info": {
      "name": "python",
      "version": "3.7.3",
      "mimetype": "text/x-python",
      "codemirror_mode": {
        "name": "ipython",
        "version": 3
      },
      "pygments_lexer": "ipython3",
      "nbconvert_exporter": "python",
      "file_extension": ".py"
    },
    "interpreter": {
      "hash": "8ca95d9937370959fe53b3f81cea8b7fb579a8b2e40b3ed544c9c6bb9cfba242"
    }
  },
  "cells": [
    {
      "cell_type": "markdown",
      "source": [
        "# Prevent Data quality Problems \n",
        "- the detection and correction of problems \n",
        "- algorithms \n"
      ],
      "metadata": {
        "id": "5afZl-Lh_n98"
      }
    },
    {
      "cell_type": "markdown",
      "source": [
        "# Measurement and Data Collection Errors \n",
        "\n",
        "- Measurement error (측정자체의 오류) = Outlier \n",
        "  - Noise \n",
        "  - Artifact (기계가 망가진 경우) \n",
        "\n",
        "- Data collection error (수집 중 오류 - 데이터를 빼먹거나, 속성 값 하나 뺀 경우 등) = Outlier, Missing Values, Inconsistent Values, Duplicate Data \n",
        "\n",
        "[이상치, 결측치, 일관성 없는 값(음수인 키), 중복데이터] "
      ],
      "metadata": {
        "id": "gVEOHAJW_4Rl"
      }
    },
    {
      "cell_type": "markdown",
      "source": [
        "# Data Preprocessing \n",
        "\n",
        "## 01. Aggregation (집계연산)\n",
        "- 2개 이상의 objects를 한 개로 합침 \n",
        "\n",
        "- 왜 사용? \n",
        "  - less memory \n",
        "  - high-level view (각 상점 -> 각 지역)\n",
        "  - more stable (시간 별 온도 -> 하루 온도(평균)) \n",
        "\n",
        "- 단점 \n",
        "  - 원본데이터만큼의 정보가 날라간다"
      ],
      "metadata": {
        "id": "tF2gFVeWBP0U"
      }
    },
    {
      "cell_type": "code",
      "execution_count": 1,
      "source": [
        "department = [10,10,20,20,20,20,30,30,40,50,50,70,70,70,70,70]\r\n",
        "salary = [100,200,300,40,1000,200,340,500,60,700,100,2000,300,400,5000,100]\r\n",
        "import pandas as pd\r\n",
        "df = pd.DataFrame({\r\n",
        "    \"de\" : department, \r\n",
        "    \"sal\" : salary\r\n",
        "})\r\n",
        "df"
      ],
      "outputs": [
        {
          "output_type": "execute_result",
          "data": {
            "text/html": [
              "<div>\n",
              "<style scoped>\n",
              "    .dataframe tbody tr th:only-of-type {\n",
              "        vertical-align: middle;\n",
              "    }\n",
              "\n",
              "    .dataframe tbody tr th {\n",
              "        vertical-align: top;\n",
              "    }\n",
              "\n",
              "    .dataframe thead th {\n",
              "        text-align: right;\n",
              "    }\n",
              "</style>\n",
              "<table border=\"1\" class=\"dataframe\">\n",
              "  <thead>\n",
              "    <tr style=\"text-align: right;\">\n",
              "      <th></th>\n",
              "      <th>de</th>\n",
              "      <th>sal</th>\n",
              "    </tr>\n",
              "  </thead>\n",
              "  <tbody>\n",
              "    <tr>\n",
              "      <th>0</th>\n",
              "      <td>10</td>\n",
              "      <td>100</td>\n",
              "    </tr>\n",
              "    <tr>\n",
              "      <th>1</th>\n",
              "      <td>10</td>\n",
              "      <td>200</td>\n",
              "    </tr>\n",
              "    <tr>\n",
              "      <th>2</th>\n",
              "      <td>20</td>\n",
              "      <td>300</td>\n",
              "    </tr>\n",
              "    <tr>\n",
              "      <th>3</th>\n",
              "      <td>20</td>\n",
              "      <td>40</td>\n",
              "    </tr>\n",
              "    <tr>\n",
              "      <th>4</th>\n",
              "      <td>20</td>\n",
              "      <td>1000</td>\n",
              "    </tr>\n",
              "    <tr>\n",
              "      <th>5</th>\n",
              "      <td>20</td>\n",
              "      <td>200</td>\n",
              "    </tr>\n",
              "    <tr>\n",
              "      <th>6</th>\n",
              "      <td>30</td>\n",
              "      <td>340</td>\n",
              "    </tr>\n",
              "    <tr>\n",
              "      <th>7</th>\n",
              "      <td>30</td>\n",
              "      <td>500</td>\n",
              "    </tr>\n",
              "    <tr>\n",
              "      <th>8</th>\n",
              "      <td>40</td>\n",
              "      <td>60</td>\n",
              "    </tr>\n",
              "    <tr>\n",
              "      <th>9</th>\n",
              "      <td>50</td>\n",
              "      <td>700</td>\n",
              "    </tr>\n",
              "    <tr>\n",
              "      <th>10</th>\n",
              "      <td>50</td>\n",
              "      <td>100</td>\n",
              "    </tr>\n",
              "    <tr>\n",
              "      <th>11</th>\n",
              "      <td>70</td>\n",
              "      <td>2000</td>\n",
              "    </tr>\n",
              "    <tr>\n",
              "      <th>12</th>\n",
              "      <td>70</td>\n",
              "      <td>300</td>\n",
              "    </tr>\n",
              "    <tr>\n",
              "      <th>13</th>\n",
              "      <td>70</td>\n",
              "      <td>400</td>\n",
              "    </tr>\n",
              "    <tr>\n",
              "      <th>14</th>\n",
              "      <td>70</td>\n",
              "      <td>5000</td>\n",
              "    </tr>\n",
              "    <tr>\n",
              "      <th>15</th>\n",
              "      <td>70</td>\n",
              "      <td>100</td>\n",
              "    </tr>\n",
              "  </tbody>\n",
              "</table>\n",
              "</div>"
            ],
            "text/plain": [
              "    de   sal\n",
              "0   10   100\n",
              "1   10   200\n",
              "2   20   300\n",
              "3   20    40\n",
              "4   20  1000\n",
              "5   20   200\n",
              "6   30   340\n",
              "7   30   500\n",
              "8   40    60\n",
              "9   50   700\n",
              "10  50   100\n",
              "11  70  2000\n",
              "12  70   300\n",
              "13  70   400\n",
              "14  70  5000\n",
              "15  70   100"
            ]
          },
          "metadata": {},
          "execution_count": 1
        }
      ],
      "metadata": {
        "colab": {
          "base_uri": "https://localhost:8080/",
          "height": 545
        },
        "id": "Dh5g9Bbc96j0",
        "outputId": "9761b18c-b9dd-4fd4-92b2-74748d63980a"
      }
    },
    {
      "cell_type": "code",
      "execution_count": 5,
      "source": [
        "df2 = df.groupby('de').sum()\r\n",
        "df2.reset_index(inplace = True)\r\n",
        "df2"
      ],
      "outputs": [
        {
          "output_type": "execute_result",
          "data": {
            "text/html": [
              "<div>\n",
              "<style scoped>\n",
              "    .dataframe tbody tr th:only-of-type {\n",
              "        vertical-align: middle;\n",
              "    }\n",
              "\n",
              "    .dataframe tbody tr th {\n",
              "        vertical-align: top;\n",
              "    }\n",
              "\n",
              "    .dataframe thead th {\n",
              "        text-align: right;\n",
              "    }\n",
              "</style>\n",
              "<table border=\"1\" class=\"dataframe\">\n",
              "  <thead>\n",
              "    <tr style=\"text-align: right;\">\n",
              "      <th></th>\n",
              "      <th>de</th>\n",
              "      <th>sal</th>\n",
              "    </tr>\n",
              "  </thead>\n",
              "  <tbody>\n",
              "    <tr>\n",
              "      <th>0</th>\n",
              "      <td>10</td>\n",
              "      <td>300</td>\n",
              "    </tr>\n",
              "    <tr>\n",
              "      <th>1</th>\n",
              "      <td>20</td>\n",
              "      <td>1540</td>\n",
              "    </tr>\n",
              "    <tr>\n",
              "      <th>2</th>\n",
              "      <td>30</td>\n",
              "      <td>840</td>\n",
              "    </tr>\n",
              "    <tr>\n",
              "      <th>3</th>\n",
              "      <td>40</td>\n",
              "      <td>60</td>\n",
              "    </tr>\n",
              "    <tr>\n",
              "      <th>4</th>\n",
              "      <td>50</td>\n",
              "      <td>800</td>\n",
              "    </tr>\n",
              "    <tr>\n",
              "      <th>5</th>\n",
              "      <td>70</td>\n",
              "      <td>7800</td>\n",
              "    </tr>\n",
              "  </tbody>\n",
              "</table>\n",
              "</div>"
            ],
            "text/plain": [
              "   de   sal\n",
              "0  10   300\n",
              "1  20  1540\n",
              "2  30   840\n",
              "3  40    60\n",
              "4  50   800\n",
              "5  70  7800"
            ]
          },
          "metadata": {},
          "execution_count": 5
        }
      ],
      "metadata": {
        "colab": {
          "base_uri": "https://localhost:8080/",
          "height": 235
        },
        "id": "MZQ-pt5UC_Zr",
        "outputId": "d64bb9ec-5cfa-4c82-fbe7-b72289e91893"
      }
    },
    {
      "cell_type": "markdown",
      "source": [
        "## 02. Sampling \n",
        "\n",
        "- 왜 사용? \n",
        "  - 통계학자 : 전체 데이터 수집 too expensive \n",
        "  - 데이터 : 전체 데이터 전처리 too expensive \n",
        "\n",
        "- Key principle \n",
        "  - Use a representative sample "
      ],
      "metadata": {
        "id": "30FtaW_UDrrI"
      }
    },
    {
      "cell_type": "markdown",
      "source": [
        "### 2-1) simple random sampling "
      ],
      "metadata": {
        "id": "yktGVyzykBil"
      }
    },
    {
      "cell_type": "code",
      "execution_count": 6,
      "source": [
        "# simple random sampling \r\n",
        "\r\n",
        "## 복원 추출 \r\n",
        "import numpy as np \r\n",
        "\r\n",
        "### 1) 시드설정 \r\n",
        "np.random.seed(0)\r\n",
        "\r\n",
        "### 2) 난수생성 \r\n",
        "np.random.rand(16)"
      ],
      "outputs": [
        {
          "output_type": "execute_result",
          "data": {
            "text/plain": [
              "array([0.5488135 , 0.71518937, 0.60276338, 0.54488318, 0.4236548 ,\n",
              "       0.64589411, 0.43758721, 0.891773  , 0.96366276, 0.38344152,\n",
              "       0.79172504, 0.52889492, 0.56804456, 0.92559664, 0.07103606,\n",
              "       0.0871293 ])"
            ]
          },
          "metadata": {},
          "execution_count": 6
        }
      ],
      "metadata": {
        "colab": {
          "base_uri": "https://localhost:8080/"
        },
        "id": "OrYxhFv9DJUu",
        "outputId": "fd4f1534-1d41-4593-f51b-550aa0985705"
      }
    },
    {
      "cell_type": "code",
      "execution_count": 7,
      "source": [
        "### 3) 데이터 순서 바꾸기 \r\n",
        "x = np.arange(10)\r\n",
        "x "
      ],
      "outputs": [
        {
          "output_type": "execute_result",
          "data": {
            "text/plain": [
              "array([0, 1, 2, 3, 4, 5, 6, 7, 8, 9])"
            ]
          },
          "metadata": {},
          "execution_count": 7
        }
      ],
      "metadata": {
        "colab": {
          "base_uri": "https://localhost:8080/"
        },
        "id": "SJTThUTadJF1",
        "outputId": "14edd327-c2c5-437a-d823-6a8581a71b3d"
      }
    },
    {
      "cell_type": "code",
      "execution_count": 8,
      "source": [
        "np.random.shuffle(x) # inplace = True와 같음 \r\n",
        "x"
      ],
      "outputs": [
        {
          "output_type": "execute_result",
          "data": {
            "text/plain": [
              "array([4, 1, 6, 7, 2, 8, 5, 9, 0, 3])"
            ]
          },
          "metadata": {},
          "execution_count": 8
        }
      ],
      "metadata": {
        "colab": {
          "base_uri": "https://localhost:8080/"
        },
        "id": "NbWBHG6ldKqK",
        "outputId": "cc579dc6-2fd6-49c1-cf6e-941d8fa79e18"
      }
    },
    {
      "cell_type": "code",
      "execution_count": 9,
      "source": [
        "x = np.arange(10)\r\n",
        "x"
      ],
      "outputs": [
        {
          "output_type": "execute_result",
          "data": {
            "text/plain": [
              "array([0, 1, 2, 3, 4, 5, 6, 7, 8, 9])"
            ]
          },
          "metadata": {},
          "execution_count": 9
        }
      ],
      "metadata": {
        "colab": {
          "base_uri": "https://localhost:8080/"
        },
        "id": "hqlRLBx5dKgh",
        "outputId": "6ec1a716-db80-4033-89a1-4420d35f2b6f"
      }
    },
    {
      "cell_type": "code",
      "execution_count": 10,
      "source": [
        "np.random.permutation(x) # return만 "
      ],
      "outputs": [
        {
          "output_type": "execute_result",
          "data": {
            "text/plain": [
              "array([5, 2, 7, 4, 1, 0, 6, 8, 9, 3])"
            ]
          },
          "metadata": {},
          "execution_count": 10
        }
      ],
      "metadata": {
        "colab": {
          "base_uri": "https://localhost:8080/"
        },
        "id": "KgXypOMIdVIH",
        "outputId": "f19b120b-9b1a-49da-bdfb-0d1314c42b0a"
      }
    },
    {
      "cell_type": "markdown",
      "source": [
        "`np.random.choice(a, size = , replace =, p = )`\n",
        "\n",
        "- a : 배열이면 배열 자체, 정수면 arange(a)명령으로 배열 생성 \n",
        "- size : 정수, 샘플 숫자 \n",
        "- replace : True면 복원 추출, False 비복원추출 \n",
        "- p : 배열, 각 데이터가 선택될 수 있는 확률 \n",
        "\n",
        "\n"
      ],
      "metadata": {
        "id": "A8xn-9LcdtVm"
      }
    },
    {
      "cell_type": "code",
      "execution_count": 11,
      "source": [
        "### 4) 데이터 샘플링 \r\n",
        "np.random.choice(5,5, replace = True)"
      ],
      "outputs": [
        {
          "output_type": "execute_result",
          "data": {
            "text/plain": [
              "array([0, 2, 4, 3, 3])"
            ]
          },
          "metadata": {},
          "execution_count": 11
        }
      ],
      "metadata": {
        "colab": {
          "base_uri": "https://localhost:8080/"
        },
        "id": "YiNF1WGPW6O0",
        "outputId": "4720a046-5a13-49ec-d3dc-68264a40823c"
      }
    },
    {
      "cell_type": "code",
      "execution_count": 12,
      "source": [
        "x = np.arange(10)\r\n",
        "np.random.choice(x,5)"
      ],
      "outputs": [
        {
          "output_type": "execute_result",
          "data": {
            "text/plain": [
              "array([2, 7, 2, 0, 0])"
            ]
          },
          "metadata": {},
          "execution_count": 12
        }
      ],
      "metadata": {
        "colab": {
          "base_uri": "https://localhost:8080/"
        },
        "id": "nSxk4zykdq4X",
        "outputId": "29c6ec9a-3bad-4845-bfd0-83ec9136c74e"
      }
    },
    {
      "cell_type": "code",
      "execution_count": 14,
      "source": [
        "np.random.choice(x,5, replace = False)"
      ],
      "outputs": [
        {
          "output_type": "execute_result",
          "data": {
            "text/plain": [
              "array([2, 3, 7, 1, 9])"
            ]
          },
          "metadata": {},
          "execution_count": 14
        }
      ],
      "metadata": {
        "colab": {
          "base_uri": "https://localhost:8080/"
        },
        "id": "r1dC5Md-enl8",
        "outputId": "22957bef-e996-4f23-b0d3-36c8779a3151"
      }
    },
    {
      "cell_type": "code",
      "execution_count": 15,
      "source": [
        "### 5) 난수 생성 \r\n",
        "\r\n",
        "np.random.rand(5) # 0~1사이의 균일분포 "
      ],
      "outputs": [
        {
          "output_type": "execute_result",
          "data": {
            "text/plain": [
              "array([0.44994999, 0.61306346, 0.90234858, 0.09928035, 0.96980907])"
            ]
          },
          "metadata": {},
          "execution_count": 15
        }
      ],
      "metadata": {
        "colab": {
          "base_uri": "https://localhost:8080/"
        },
        "id": "gTNFj0AGeshb",
        "outputId": "69a2ba45-e7b3-46c6-872e-6761346e30f2"
      }
    },
    {
      "cell_type": "code",
      "execution_count": 16,
      "source": [
        "np.random.rand(5,5)"
      ],
      "outputs": [
        {
          "output_type": "execute_result",
          "data": {
            "text/plain": [
              "array([[0.65314004, 0.17090959, 0.35815217, 0.75068614, 0.60783067],\n",
              "       [0.32504723, 0.03842543, 0.63427406, 0.95894927, 0.65279032],\n",
              "       [0.63505887, 0.99529957, 0.58185033, 0.41436859, 0.4746975 ],\n",
              "       [0.6235101 , 0.33800761, 0.67475232, 0.31720174, 0.77834548],\n",
              "       [0.94957105, 0.66252687, 0.01357164, 0.6228461 , 0.67365963]])"
            ]
          },
          "metadata": {},
          "execution_count": 16
        }
      ],
      "metadata": {
        "colab": {
          "base_uri": "https://localhost:8080/"
        },
        "id": "AJrJ9mbHe5dY",
        "outputId": "67f7457d-0b77-4ad7-dc65-2b2454f45048"
      }
    },
    {
      "cell_type": "code",
      "execution_count": 17,
      "source": [
        "np.random.randn(10) # 가우시안 표준 정규분포 "
      ],
      "outputs": [
        {
          "output_type": "execute_result",
          "data": {
            "text/plain": [
              "array([-0.68658948,  0.01487332, -0.3756659 , -0.03822364,  0.36797447,\n",
              "       -0.0447237 , -0.30237513, -2.2244036 ,  0.72400636,  0.35900276])"
            ]
          },
          "metadata": {},
          "execution_count": 17
        }
      ],
      "metadata": {
        "colab": {
          "base_uri": "https://localhost:8080/"
        },
        "id": "VSeJ8B7_e7Cm",
        "outputId": "0d70589f-1334-4295-f973-d69b4f0278dc"
      }
    },
    {
      "cell_type": "code",
      "execution_count": 18,
      "source": [
        "np.random.randn(2,3)"
      ],
      "outputs": [
        {
          "output_type": "execute_result",
          "data": {
            "text/plain": [
              "array([[1.07612104, 0.19214083, 0.85292596],\n",
              "       [0.01835718, 0.42830357, 0.99627783]])"
            ]
          },
          "metadata": {},
          "execution_count": 18
        }
      ],
      "metadata": {
        "colab": {
          "base_uri": "https://localhost:8080/"
        },
        "id": "ydavCTnLfHBh",
        "outputId": "3433d915-d5c8-4064-ba1e-5d94a5dd9df2"
      }
    },
    {
      "cell_type": "code",
      "execution_count": 20,
      "source": [
        "np.random.randint(10, size = 5) # low , high = None, size = None \r\n",
        "# 0부터 10 사이의 정수 출력 "
      ],
      "outputs": [
        {
          "output_type": "execute_result",
          "data": {
            "text/plain": [
              "array([8, 8, 8, 2, 3])"
            ]
          },
          "metadata": {},
          "execution_count": 20
        }
      ],
      "metadata": {
        "colab": {
          "base_uri": "https://localhost:8080/"
        },
        "id": "Mm-okHR2fKE9",
        "outputId": "0952de71-a114-491b-f81d-757b19f046de"
      }
    },
    {
      "cell_type": "code",
      "execution_count": 21,
      "source": [
        "np.random.randint(10,30,size=(3,5))"
      ],
      "outputs": [
        {
          "output_type": "execute_result",
          "data": {
            "text/plain": [
              "array([[12, 21, 23, 26, 18],\n",
              "       [18, 29, 18, 12, 13],\n",
              "       [22, 24, 10, 14, 13]])"
            ]
          },
          "metadata": {},
          "execution_count": 21
        }
      ],
      "metadata": {
        "colab": {
          "base_uri": "https://localhost:8080/"
        },
        "id": "sidFBjAvfZjn",
        "outputId": "60380a48-5844-46e7-db6f-f17ca3b0a350"
      }
    },
    {
      "cell_type": "code",
      "execution_count": 25,
      "source": [
        " # 샘플링 해보기 \r\n",
        " sample_index = np.random.choice(df.index,size=5,replace=True)\r\n",
        " sample_index"
      ],
      "outputs": [
        {
          "output_type": "execute_result",
          "data": {
            "text/plain": [
              "array([ 6, 13,  9, 13, 11])"
            ]
          },
          "metadata": {},
          "execution_count": 25
        }
      ],
      "metadata": {
        "colab": {
          "base_uri": "https://localhost:8080/"
        },
        "id": "fEpR4E0eg-jN",
        "outputId": "1cc95397-7969-4d5c-a563-c02bb9b1d979"
      }
    },
    {
      "cell_type": "code",
      "execution_count": 40,
      "source": [
        "df_sample = pd.DataFrame(columns = [\"de\", \"sal\", \"랜덤\"])\r\n",
        "for i in sample_index : \r\n",
        "  df_sample = df_sample.append(df.loc[i]) # df.loc[i] : 전체 데이터프레임에서 인덱스 이름이 i인 행만 추출해줘 \r\n",
        "  # df.iloc[i] : 전체 데이터프레임에서 i번째 행에 있는 값들만 추출해줘 \r\n",
        "\r\n",
        "df_sample"
      ],
      "outputs": [
        {
          "output_type": "execute_result",
          "data": {
            "text/html": [
              "<div>\n",
              "<style scoped>\n",
              "    .dataframe tbody tr th:only-of-type {\n",
              "        vertical-align: middle;\n",
              "    }\n",
              "\n",
              "    .dataframe tbody tr th {\n",
              "        vertical-align: top;\n",
              "    }\n",
              "\n",
              "    .dataframe thead th {\n",
              "        text-align: right;\n",
              "    }\n",
              "</style>\n",
              "<table border=\"1\" class=\"dataframe\">\n",
              "  <thead>\n",
              "    <tr style=\"text-align: right;\">\n",
              "      <th></th>\n",
              "      <th>de</th>\n",
              "      <th>sal</th>\n",
              "      <th>랜덤</th>\n",
              "    </tr>\n",
              "  </thead>\n",
              "  <tbody>\n",
              "    <tr>\n",
              "      <th>6</th>\n",
              "      <td>30.0</td>\n",
              "      <td>340.0</td>\n",
              "      <td>0.315498</td>\n",
              "    </tr>\n",
              "    <tr>\n",
              "      <th>13</th>\n",
              "      <td>70.0</td>\n",
              "      <td>400.0</td>\n",
              "      <td>0.237143</td>\n",
              "    </tr>\n",
              "    <tr>\n",
              "      <th>9</th>\n",
              "      <td>50.0</td>\n",
              "      <td>700.0</td>\n",
              "      <td>0.390117</td>\n",
              "    </tr>\n",
              "    <tr>\n",
              "      <th>13</th>\n",
              "      <td>70.0</td>\n",
              "      <td>400.0</td>\n",
              "      <td>0.237143</td>\n",
              "    </tr>\n",
              "    <tr>\n",
              "      <th>11</th>\n",
              "      <td>70.0</td>\n",
              "      <td>2000.0</td>\n",
              "      <td>0.444931</td>\n",
              "    </tr>\n",
              "  </tbody>\n",
              "</table>\n",
              "</div>"
            ],
            "text/plain": [
              "      de     sal        랜덤\n",
              "6   30.0   340.0  0.315498\n",
              "13  70.0   400.0  0.237143\n",
              "9   50.0   700.0  0.390117\n",
              "13  70.0   400.0  0.237143\n",
              "11  70.0  2000.0  0.444931"
            ]
          },
          "metadata": {},
          "execution_count": 40
        }
      ],
      "metadata": {
        "colab": {
          "base_uri": "https://localhost:8080/",
          "height": 204
        },
        "id": "RHoJpcYThOXG",
        "outputId": "9a0c42b1-da6b-4ead-fd65-6a8b834bdf52"
      }
    },
    {
      "cell_type": "markdown",
      "source": [
        "### 2-2) Stratified sampling (층화 추출)\n",
        " - select objects from each group\n",
        "  - 같은 크기로 뽑음 \n",
        "  - 그룹의 크기에 비례해서 뽑을 수도 있음\n",
        "\n",
        "  [stratify](https://towardsdatascience.com/stratified-random-sampling-using-python-and-pandas-1c84f0362ebc)\n",
        "  "
      ],
      "metadata": {
        "id": "61mcU3VOkHoj"
      }
    },
    {
      "cell_type": "code",
      "execution_count": 41,
      "source": [
        "df"
      ],
      "outputs": [
        {
          "output_type": "execute_result",
          "data": {
            "text/html": [
              "<div>\n",
              "<style scoped>\n",
              "    .dataframe tbody tr th:only-of-type {\n",
              "        vertical-align: middle;\n",
              "    }\n",
              "\n",
              "    .dataframe tbody tr th {\n",
              "        vertical-align: top;\n",
              "    }\n",
              "\n",
              "    .dataframe thead th {\n",
              "        text-align: right;\n",
              "    }\n",
              "</style>\n",
              "<table border=\"1\" class=\"dataframe\">\n",
              "  <thead>\n",
              "    <tr style=\"text-align: right;\">\n",
              "      <th></th>\n",
              "      <th>de</th>\n",
              "      <th>sal</th>\n",
              "      <th>랜덤</th>\n",
              "    </tr>\n",
              "  </thead>\n",
              "  <tbody>\n",
              "    <tr>\n",
              "      <th>0</th>\n",
              "      <td>10</td>\n",
              "      <td>100</td>\n",
              "      <td>0.517878</td>\n",
              "    </tr>\n",
              "    <tr>\n",
              "      <th>1</th>\n",
              "      <td>10</td>\n",
              "      <td>200</td>\n",
              "      <td>0.960086</td>\n",
              "    </tr>\n",
              "    <tr>\n",
              "      <th>2</th>\n",
              "      <td>20</td>\n",
              "      <td>300</td>\n",
              "      <td>0.886876</td>\n",
              "    </tr>\n",
              "    <tr>\n",
              "      <th>3</th>\n",
              "      <td>20</td>\n",
              "      <td>40</td>\n",
              "      <td>0.362184</td>\n",
              "    </tr>\n",
              "    <tr>\n",
              "      <th>4</th>\n",
              "      <td>20</td>\n",
              "      <td>1000</td>\n",
              "      <td>0.644523</td>\n",
              "    </tr>\n",
              "    <tr>\n",
              "      <th>5</th>\n",
              "      <td>20</td>\n",
              "      <td>200</td>\n",
              "      <td>0.225139</td>\n",
              "    </tr>\n",
              "    <tr>\n",
              "      <th>6</th>\n",
              "      <td>30</td>\n",
              "      <td>340</td>\n",
              "      <td>0.315498</td>\n",
              "    </tr>\n",
              "    <tr>\n",
              "      <th>7</th>\n",
              "      <td>30</td>\n",
              "      <td>500</td>\n",
              "      <td>0.417479</td>\n",
              "    </tr>\n",
              "    <tr>\n",
              "      <th>8</th>\n",
              "      <td>40</td>\n",
              "      <td>60</td>\n",
              "      <td>0.131773</td>\n",
              "    </tr>\n",
              "    <tr>\n",
              "      <th>9</th>\n",
              "      <td>50</td>\n",
              "      <td>700</td>\n",
              "      <td>0.390117</td>\n",
              "    </tr>\n",
              "    <tr>\n",
              "      <th>10</th>\n",
              "      <td>50</td>\n",
              "      <td>100</td>\n",
              "      <td>0.069104</td>\n",
              "    </tr>\n",
              "    <tr>\n",
              "      <th>11</th>\n",
              "      <td>70</td>\n",
              "      <td>2000</td>\n",
              "      <td>0.444931</td>\n",
              "    </tr>\n",
              "    <tr>\n",
              "      <th>12</th>\n",
              "      <td>70</td>\n",
              "      <td>300</td>\n",
              "      <td>0.810185</td>\n",
              "    </tr>\n",
              "    <tr>\n",
              "      <th>13</th>\n",
              "      <td>70</td>\n",
              "      <td>400</td>\n",
              "      <td>0.237143</td>\n",
              "    </tr>\n",
              "    <tr>\n",
              "      <th>14</th>\n",
              "      <td>70</td>\n",
              "      <td>5000</td>\n",
              "      <td>0.485510</td>\n",
              "    </tr>\n",
              "    <tr>\n",
              "      <th>15</th>\n",
              "      <td>70</td>\n",
              "      <td>100</td>\n",
              "      <td>0.238398</td>\n",
              "    </tr>\n",
              "  </tbody>\n",
              "</table>\n",
              "</div>"
            ],
            "text/plain": [
              "    de   sal        랜덤\n",
              "0   10   100  0.517878\n",
              "1   10   200  0.960086\n",
              "2   20   300  0.886876\n",
              "3   20    40  0.362184\n",
              "4   20  1000  0.644523\n",
              "5   20   200  0.225139\n",
              "6   30   340  0.315498\n",
              "7   30   500  0.417479\n",
              "8   40    60  0.131773\n",
              "9   50   700  0.390117\n",
              "10  50   100  0.069104\n",
              "11  70  2000  0.444931\n",
              "12  70   300  0.810185\n",
              "13  70   400  0.237143\n",
              "14  70  5000  0.485510\n",
              "15  70   100  0.238398"
            ]
          },
          "metadata": {},
          "execution_count": 41
        }
      ],
      "metadata": {
        "colab": {
          "base_uri": "https://localhost:8080/",
          "height": 545
        },
        "id": "KBaKwtBiiVfB",
        "outputId": "5d7c28cf-2925-44a4-c9ee-648223b7267f"
      }
    },
    {
      "cell_type": "code",
      "execution_count": 45,
      "source": [
        "# preparing to stratify \r\n",
        "\r\n",
        "(df['de'].value_counts() / len(df)).sort_values()"
      ],
      "outputs": [
        {
          "output_type": "execute_result",
          "data": {
            "text/plain": [
              "40    0.0625\n",
              "30    0.1250\n",
              "10    0.1250\n",
              "50    0.1250\n",
              "20    0.2500\n",
              "70    0.3125\n",
              "Name: de, dtype: float64"
            ]
          },
          "metadata": {},
          "execution_count": 45
        }
      ],
      "metadata": {
        "colab": {
          "base_uri": "https://localhost:8080/"
        },
        "id": "QudVoUQKkayQ",
        "outputId": "240345b8-5a65-4f2a-de4b-6d512013f75e"
      }
    },
    {
      "cell_type": "code",
      "execution_count": 44,
      "source": [
        "df['de'].unique()"
      ],
      "outputs": [
        {
          "output_type": "execute_result",
          "data": {
            "text/plain": [
              "array([10, 20, 30, 40, 50, 70])"
            ]
          },
          "metadata": {},
          "execution_count": 44
        }
      ],
      "metadata": {
        "colab": {
          "base_uri": "https://localhost:8080/"
        },
        "id": "bvSUhjrbsvRU",
        "outputId": "62bcc721-3af6-46da-8385-862fe2bb48d4"
      }
    },
    {
      "cell_type": "code",
      "execution_count": 47,
      "source": [
        "def stratify_data(df_data, stratify_column_name, stratify_values, stratify_proportions, random_state=None):\r\n",
        "  \r\n",
        "    df_stratified = pd.DataFrame(columns = df_data.columns) # Create an empty DataFrame with column names matching df_data\r\n",
        "\r\n",
        "    pos = -1\r\n",
        "    for i in range(len(stratify_values)): # iterate over the stratify values (e.g. \"Male, Undergraduate\" etc.)\r\n",
        "        pos += 1\r\n",
        "        if pos == len(stratify_values) - 1: \r\n",
        "            ratio_len = len(df_data) - len(df_stratified) # if this is the final iteration make sure we calculate the number of values for the last set such that the return data has the same number of rows as the source data\r\n",
        "        else:\r\n",
        "            ratio_len = int(len(df_data) * stratify_proportions[i]) # Calculate the number of rows to match the desired proportion\r\n",
        "\r\n",
        "        df_filtered = df_data[df_data[stratify_column_name] ==stratify_values[i]] # Filter the source data based on the currently selected stratify value\r\n",
        "        df_temp = df_filtered.sample(replace=True, n=ratio_len, random_state=random_state) # Sample the filtered data using the calculated ratio\r\n",
        "        \r\n",
        "        df_stratified = pd.concat([df_stratified, df_temp]) # Add the sampled / stratified datasets together to produce the final result\r\n",
        "        \r\n",
        "    return df_stratified # Return the stratified, re-sampled data   "
      ],
      "outputs": [],
      "metadata": {
        "id": "XY3XWarduesJ"
      }
    },
    {
      "cell_type": "code",
      "execution_count": 49,
      "source": [
        "stratify_values = [10, 20, 30, 40, 50, 70]\r\n",
        "stratify_proportions = [0.125,0.25,0.125,0.125,0.3125]\r\n",
        "\r\n",
        "df_stratified = stratify_data(df, 'de', stratify_values, stratify_proportions, random_state=42)\r\n",
        "df_stratified"
      ],
      "outputs": [
        {
          "output_type": "execute_result",
          "data": {
            "text/html": [
              "<div>\n",
              "<style scoped>\n",
              "    .dataframe tbody tr th:only-of-type {\n",
              "        vertical-align: middle;\n",
              "    }\n",
              "\n",
              "    .dataframe tbody tr th {\n",
              "        vertical-align: top;\n",
              "    }\n",
              "\n",
              "    .dataframe thead th {\n",
              "        text-align: right;\n",
              "    }\n",
              "</style>\n",
              "<table border=\"1\" class=\"dataframe\">\n",
              "  <thead>\n",
              "    <tr style=\"text-align: right;\">\n",
              "      <th></th>\n",
              "      <th>de</th>\n",
              "      <th>sal</th>\n",
              "      <th>랜덤</th>\n",
              "    </tr>\n",
              "  </thead>\n",
              "  <tbody>\n",
              "    <tr>\n",
              "      <th>0</th>\n",
              "      <td>10</td>\n",
              "      <td>100</td>\n",
              "      <td>0.517878</td>\n",
              "    </tr>\n",
              "    <tr>\n",
              "      <th>1</th>\n",
              "      <td>10</td>\n",
              "      <td>200</td>\n",
              "      <td>0.960086</td>\n",
              "    </tr>\n",
              "    <tr>\n",
              "      <th>4</th>\n",
              "      <td>20</td>\n",
              "      <td>1000</td>\n",
              "      <td>0.644523</td>\n",
              "    </tr>\n",
              "    <tr>\n",
              "      <th>5</th>\n",
              "      <td>20</td>\n",
              "      <td>200</td>\n",
              "      <td>0.225139</td>\n",
              "    </tr>\n",
              "    <tr>\n",
              "      <th>2</th>\n",
              "      <td>20</td>\n",
              "      <td>300</td>\n",
              "      <td>0.886876</td>\n",
              "    </tr>\n",
              "    <tr>\n",
              "      <th>4</th>\n",
              "      <td>20</td>\n",
              "      <td>1000</td>\n",
              "      <td>0.644523</td>\n",
              "    </tr>\n",
              "    <tr>\n",
              "      <th>6</th>\n",
              "      <td>30</td>\n",
              "      <td>340</td>\n",
              "      <td>0.315498</td>\n",
              "    </tr>\n",
              "    <tr>\n",
              "      <th>7</th>\n",
              "      <td>30</td>\n",
              "      <td>500</td>\n",
              "      <td>0.417479</td>\n",
              "    </tr>\n",
              "    <tr>\n",
              "      <th>8</th>\n",
              "      <td>40</td>\n",
              "      <td>60</td>\n",
              "      <td>0.131773</td>\n",
              "    </tr>\n",
              "    <tr>\n",
              "      <th>8</th>\n",
              "      <td>40</td>\n",
              "      <td>60</td>\n",
              "      <td>0.131773</td>\n",
              "    </tr>\n",
              "    <tr>\n",
              "      <th>9</th>\n",
              "      <td>50</td>\n",
              "      <td>700</td>\n",
              "      <td>0.390117</td>\n",
              "    </tr>\n",
              "    <tr>\n",
              "      <th>10</th>\n",
              "      <td>50</td>\n",
              "      <td>100</td>\n",
              "      <td>0.069104</td>\n",
              "    </tr>\n",
              "    <tr>\n",
              "      <th>9</th>\n",
              "      <td>50</td>\n",
              "      <td>700</td>\n",
              "      <td>0.390117</td>\n",
              "    </tr>\n",
              "    <tr>\n",
              "      <th>9</th>\n",
              "      <td>50</td>\n",
              "      <td>700</td>\n",
              "      <td>0.390117</td>\n",
              "    </tr>\n",
              "    <tr>\n",
              "      <th>9</th>\n",
              "      <td>50</td>\n",
              "      <td>700</td>\n",
              "      <td>0.390117</td>\n",
              "    </tr>\n",
              "    <tr>\n",
              "      <th>14</th>\n",
              "      <td>70</td>\n",
              "      <td>5000</td>\n",
              "      <td>0.485510</td>\n",
              "    </tr>\n",
              "  </tbody>\n",
              "</table>\n",
              "</div>"
            ],
            "text/plain": [
              "    de   sal        랜덤\n",
              "0   10   100  0.517878\n",
              "1   10   200  0.960086\n",
              "4   20  1000  0.644523\n",
              "5   20   200  0.225139\n",
              "2   20   300  0.886876\n",
              "4   20  1000  0.644523\n",
              "6   30   340  0.315498\n",
              "7   30   500  0.417479\n",
              "8   40    60  0.131773\n",
              "8   40    60  0.131773\n",
              "9   50   700  0.390117\n",
              "10  50   100  0.069104\n",
              "9   50   700  0.390117\n",
              "9   50   700  0.390117\n",
              "9   50   700  0.390117\n",
              "14  70  5000  0.485510"
            ]
          },
          "metadata": {},
          "execution_count": 49
        }
      ],
      "metadata": {
        "colab": {
          "base_uri": "https://localhost:8080/",
          "height": 545
        },
        "id": "vQswmmLHtpna",
        "outputId": "fcb289ae-56d8-4734-e6b0-0ebef020da3e"
      }
    },
    {
      "cell_type": "code",
      "execution_count": 50,
      "source": [
        "df.drop('랜덤', axis = 1, inplace = True)"
      ],
      "outputs": [],
      "metadata": {
        "id": "btcKAOwk0eCC"
      }
    },
    {
      "cell_type": "code",
      "execution_count": 52,
      "source": [
        "# sklearn.model_selection 사용 \r\n",
        "!pip install sklearn\r\n",
        "from sklearn.model_selection import StratifiedShuffleSplit\r\n",
        "\r\n",
        "\r\n",
        "split = StratifiedShuffleSplit(n_splits=6, test_size=None, train_size=None, random_state=None)\r\n",
        "split.get_n_splits(df)"
      ],
      "outputs": [
        {
          "output_type": "stream",
          "name": "stdout",
          "text": [
            "Requirement already satisfied: sklearn in /usr/local/lib/python3.7/dist-packages (0.0)\n",
            "Requirement already satisfied: scikit-learn in /usr/local/lib/python3.7/dist-packages (from sklearn) (0.22.2.post1)\n",
            "Requirement already satisfied: joblib>=0.11 in /usr/local/lib/python3.7/dist-packages (from scikit-learn->sklearn) (1.0.1)\n",
            "Requirement already satisfied: scipy>=0.17.0 in /usr/local/lib/python3.7/dist-packages (from scikit-learn->sklearn) (1.4.1)\n",
            "Requirement already satisfied: numpy>=1.11.0 in /usr/local/lib/python3.7/dist-packages (from scikit-learn->sklearn) (1.19.5)\n"
          ]
        },
        {
          "output_type": "execute_result",
          "data": {
            "text/plain": [
              "6"
            ]
          },
          "metadata": {},
          "execution_count": 52
        }
      ],
      "metadata": {
        "colab": {
          "base_uri": "https://localhost:8080/"
        },
        "id": "loiEQjHfuOAp",
        "outputId": "1cc018e7-cd29-4d76-e123-34b4f1306a9c"
      }
    },
    {
      "cell_type": "markdown",
      "source": [
        "....음 여기부터는 언젠가 다시 하길 "
      ],
      "metadata": {
        "id": "SQR6FwgIL4FS"
      }
    },
    {
      "cell_type": "markdown",
      "source": [
        "### 2-3) Progressive sampling \n",
        "- 셈플을 작게 잡아서 모델 돌리고 \n",
        "- 점점 샘플 크게 허용 \n",
        "- 성능이 더이상 안늘어날 때까지 "
      ],
      "metadata": {
        "id": "D8mhSI0qSQAl"
      }
    },
    {
      "cell_type": "markdown",
      "source": [
        "## 03. Dimensionality Reduction\r\n",
        "\r\n",
        "- 주요 장점 \r\n",
        "    - 차원의 저주 X \r\n",
        "    - 모델이 간단해짐 \r\n",
        "    - 원본데이터의 특성은 유지하면서 양이 적어짐 → 알고리즘이 빨리 돌아감 \r\n",
        "    - 시각화하기 더 쉬워짐 \r\n",
        "\r\n",
        "- 차원이 많으면? \r\n",
        "    - 공간이 폭발적으로 증가 \r\n",
        "    - 공간에 데이터가 없는 경우가 발생 \r\n",
        "    "
      ],
      "metadata": {
        "id": "fxav4KgLVLOx"
      }
    },
    {
      "cell_type": "markdown",
      "source": [
        "### PCA"
      ],
      "metadata": {}
    },
    {
      "cell_type": "code",
      "execution_count": 2,
      "source": [
        "# 데이터 불러오기 \r\n",
        "import pandas as pd\r\n",
        "\r\n",
        "url = \"https://archive.ics.uci.edu/ml/machine-learning-databases/iris/iris.data\"\r\n",
        "\r\n",
        "\r\n",
        "df = pd.read_csv(url, names=['sepal length','sepal width','petal length','petal width','target'])\r\n",
        "df.head()"
      ],
      "outputs": [
        {
          "output_type": "execute_result",
          "data": {
            "text/html": [
              "<div>\n",
              "<style scoped>\n",
              "    .dataframe tbody tr th:only-of-type {\n",
              "        vertical-align: middle;\n",
              "    }\n",
              "\n",
              "    .dataframe tbody tr th {\n",
              "        vertical-align: top;\n",
              "    }\n",
              "\n",
              "    .dataframe thead th {\n",
              "        text-align: right;\n",
              "    }\n",
              "</style>\n",
              "<table border=\"1\" class=\"dataframe\">\n",
              "  <thead>\n",
              "    <tr style=\"text-align: right;\">\n",
              "      <th></th>\n",
              "      <th>sepal length</th>\n",
              "      <th>sepal width</th>\n",
              "      <th>petal length</th>\n",
              "      <th>petal width</th>\n",
              "      <th>target</th>\n",
              "    </tr>\n",
              "  </thead>\n",
              "  <tbody>\n",
              "    <tr>\n",
              "      <th>0</th>\n",
              "      <td>5.1</td>\n",
              "      <td>3.5</td>\n",
              "      <td>1.4</td>\n",
              "      <td>0.2</td>\n",
              "      <td>Iris-setosa</td>\n",
              "    </tr>\n",
              "    <tr>\n",
              "      <th>1</th>\n",
              "      <td>4.9</td>\n",
              "      <td>3.0</td>\n",
              "      <td>1.4</td>\n",
              "      <td>0.2</td>\n",
              "      <td>Iris-setosa</td>\n",
              "    </tr>\n",
              "    <tr>\n",
              "      <th>2</th>\n",
              "      <td>4.7</td>\n",
              "      <td>3.2</td>\n",
              "      <td>1.3</td>\n",
              "      <td>0.2</td>\n",
              "      <td>Iris-setosa</td>\n",
              "    </tr>\n",
              "    <tr>\n",
              "      <th>3</th>\n",
              "      <td>4.6</td>\n",
              "      <td>3.1</td>\n",
              "      <td>1.5</td>\n",
              "      <td>0.2</td>\n",
              "      <td>Iris-setosa</td>\n",
              "    </tr>\n",
              "    <tr>\n",
              "      <th>4</th>\n",
              "      <td>5.0</td>\n",
              "      <td>3.6</td>\n",
              "      <td>1.4</td>\n",
              "      <td>0.2</td>\n",
              "      <td>Iris-setosa</td>\n",
              "    </tr>\n",
              "  </tbody>\n",
              "</table>\n",
              "</div>"
            ],
            "text/plain": [
              "   sepal length  sepal width  petal length  petal width       target\n",
              "0           5.1          3.5           1.4          0.2  Iris-setosa\n",
              "1           4.9          3.0           1.4          0.2  Iris-setosa\n",
              "2           4.7          3.2           1.3          0.2  Iris-setosa\n",
              "3           4.6          3.1           1.5          0.2  Iris-setosa\n",
              "4           5.0          3.6           1.4          0.2  Iris-setosa"
            ]
          },
          "metadata": {},
          "execution_count": 2
        }
      ],
      "metadata": {
        "id": "6Uj2Zs0806Cg"
      }
    },
    {
      "cell_type": "code",
      "execution_count": null,
      "source": [
        "# 표준화하기 \r\n",
        "from sklearn.preprocessing import StandardScaler #  표준화 패키지 라이브러리 \r\n",
        "\r\n",
        "x = df.drop(['target'], axis = 1).values # 독립변수들의 value만 추출 \r\n",
        "y = df['target'].values # 종속변수 추출 "
      ],
      "outputs": [],
      "metadata": {}
    },
    {
      "cell_type": "code",
      "execution_count": 8,
      "source": [
        "x = StandardScaler().fit_transform(x) # x객체에 x를 표준화한 데이터를 저장 \r\n",
        "features = ['sepal length', 'sepal width', 'petal length', 'petal width']\r\n",
        "pd.DataFrame(x, columns = features).head() # 확인 "
      ],
      "outputs": [
        {
          "output_type": "execute_result",
          "data": {
            "text/html": [
              "<div>\n",
              "<style scoped>\n",
              "    .dataframe tbody tr th:only-of-type {\n",
              "        vertical-align: middle;\n",
              "    }\n",
              "\n",
              "    .dataframe tbody tr th {\n",
              "        vertical-align: top;\n",
              "    }\n",
              "\n",
              "    .dataframe thead th {\n",
              "        text-align: right;\n",
              "    }\n",
              "</style>\n",
              "<table border=\"1\" class=\"dataframe\">\n",
              "  <thead>\n",
              "    <tr style=\"text-align: right;\">\n",
              "      <th></th>\n",
              "      <th>sepal length</th>\n",
              "      <th>sepal width</th>\n",
              "      <th>petal length</th>\n",
              "      <th>petal width</th>\n",
              "    </tr>\n",
              "  </thead>\n",
              "  <tbody>\n",
              "    <tr>\n",
              "      <th>0</th>\n",
              "      <td>-0.900681</td>\n",
              "      <td>1.032057</td>\n",
              "      <td>-1.341272</td>\n",
              "      <td>-1.312977</td>\n",
              "    </tr>\n",
              "    <tr>\n",
              "      <th>1</th>\n",
              "      <td>-1.143017</td>\n",
              "      <td>-0.124958</td>\n",
              "      <td>-1.341272</td>\n",
              "      <td>-1.312977</td>\n",
              "    </tr>\n",
              "    <tr>\n",
              "      <th>2</th>\n",
              "      <td>-1.385353</td>\n",
              "      <td>0.337848</td>\n",
              "      <td>-1.398138</td>\n",
              "      <td>-1.312977</td>\n",
              "    </tr>\n",
              "    <tr>\n",
              "      <th>3</th>\n",
              "      <td>-1.506521</td>\n",
              "      <td>0.106445</td>\n",
              "      <td>-1.284407</td>\n",
              "      <td>-1.312977</td>\n",
              "    </tr>\n",
              "    <tr>\n",
              "      <th>4</th>\n",
              "      <td>-1.021849</td>\n",
              "      <td>1.263460</td>\n",
              "      <td>-1.341272</td>\n",
              "      <td>-1.312977</td>\n",
              "    </tr>\n",
              "  </tbody>\n",
              "</table>\n",
              "</div>"
            ],
            "text/plain": [
              "   sepal length  sepal width  petal length  petal width\n",
              "0     -0.900681     1.032057     -1.341272    -1.312977\n",
              "1     -1.143017    -0.124958     -1.341272    -1.312977\n",
              "2     -1.385353     0.337848     -1.398138    -1.312977\n",
              "3     -1.506521     0.106445     -1.284407    -1.312977\n",
              "4     -1.021849     1.263460     -1.341272    -1.312977"
            ]
          },
          "metadata": {},
          "execution_count": 8
        }
      ],
      "metadata": {}
    },
    {
      "cell_type": "code",
      "execution_count": 18,
      "source": [
        "# PCA 실행 \r\n",
        "\r\n",
        "from sklearn.decomposition import PCA\r\n",
        "pca = PCA(n_components = 2) # 주성분 개수 설정 \r\n",
        "principalComponents = pca.fit_transform(x) # 주성분 추출 \r\n",
        "df_principal = pd.DataFrame(data = principalComponents, columns = [\"pca1\", \"pca2\"]) # 주성분으로 이루어진 데이터프레임 \r\n",
        "df_principal.head()"
      ],
      "outputs": [
        {
          "output_type": "execute_result",
          "data": {
            "text/html": [
              "<div>\n",
              "<style scoped>\n",
              "    .dataframe tbody tr th:only-of-type {\n",
              "        vertical-align: middle;\n",
              "    }\n",
              "\n",
              "    .dataframe tbody tr th {\n",
              "        vertical-align: top;\n",
              "    }\n",
              "\n",
              "    .dataframe thead th {\n",
              "        text-align: right;\n",
              "    }\n",
              "</style>\n",
              "<table border=\"1\" class=\"dataframe\">\n",
              "  <thead>\n",
              "    <tr style=\"text-align: right;\">\n",
              "      <th></th>\n",
              "      <th>pca1</th>\n",
              "      <th>pca2</th>\n",
              "    </tr>\n",
              "  </thead>\n",
              "  <tbody>\n",
              "    <tr>\n",
              "      <th>0</th>\n",
              "      <td>-2.264542</td>\n",
              "      <td>0.505704</td>\n",
              "    </tr>\n",
              "    <tr>\n",
              "      <th>1</th>\n",
              "      <td>-2.086426</td>\n",
              "      <td>-0.655405</td>\n",
              "    </tr>\n",
              "    <tr>\n",
              "      <th>2</th>\n",
              "      <td>-2.367950</td>\n",
              "      <td>-0.318477</td>\n",
              "    </tr>\n",
              "    <tr>\n",
              "      <th>3</th>\n",
              "      <td>-2.304197</td>\n",
              "      <td>-0.575368</td>\n",
              "    </tr>\n",
              "    <tr>\n",
              "      <th>4</th>\n",
              "      <td>-2.388777</td>\n",
              "      <td>0.674767</td>\n",
              "    </tr>\n",
              "  </tbody>\n",
              "</table>\n",
              "</div>"
            ],
            "text/plain": [
              "       pca1      pca2\n",
              "0 -2.264542  0.505704\n",
              "1 -2.086426 -0.655405\n",
              "2 -2.367950 -0.318477\n",
              "3 -2.304197 -0.575368\n",
              "4 -2.388777  0.674767"
            ]
          },
          "metadata": {},
          "execution_count": 18
        }
      ],
      "metadata": {}
    },
    {
      "cell_type": "code",
      "execution_count": 11,
      "source": [
        "# 설정한 주성분의 개수로 전체 데이터의 분산을 얼마만큼 설명 가능한가?? \r\n",
        "pca.explained_variance_ratio_  # sklearn에서 언더바는 분석이 진행된 이후의 결과값을 나타냄 \r\n",
        "# 첫 번재 주성분은  0.72 설명, 두 번째는 0.23 설명 "
      ],
      "outputs": [
        {
          "output_type": "execute_result",
          "data": {
            "text/plain": [
              "array([0.72770452, 0.23030523])"
            ]
          },
          "metadata": {},
          "execution_count": 11
        }
      ],
      "metadata": {}
    },
    {
      "cell_type": "code",
      "execution_count": 12,
      "source": [
        "sum(pca.explained_variance_ratio_) # 두 개의 주성분은 전체 분산의 약 96% 설명 "
      ],
      "outputs": [
        {
          "output_type": "execute_result",
          "data": {
            "text/plain": [
              "0.9580097536148199"
            ]
          },
          "metadata": {},
          "execution_count": 12
        }
      ],
      "metadata": {}
    },
    {
      "cell_type": "code",
      "execution_count": 15,
      "source": [
        "# n = 3인 경우 \r\n",
        "\r\n",
        "pca = PCA(n_components= 3)\r\n",
        "principalComponents = pca.fit_transform(x)\r\n",
        "df_principal = pd.DataFrame(data = principalComponents, columns = [\"p1\",\"p2\",\"p3\"])\r\n",
        "df_principal.head()"
      ],
      "outputs": [
        {
          "output_type": "execute_result",
          "data": {
            "text/html": [
              "<div>\n",
              "<style scoped>\n",
              "    .dataframe tbody tr th:only-of-type {\n",
              "        vertical-align: middle;\n",
              "    }\n",
              "\n",
              "    .dataframe tbody tr th {\n",
              "        vertical-align: top;\n",
              "    }\n",
              "\n",
              "    .dataframe thead th {\n",
              "        text-align: right;\n",
              "    }\n",
              "</style>\n",
              "<table border=\"1\" class=\"dataframe\">\n",
              "  <thead>\n",
              "    <tr style=\"text-align: right;\">\n",
              "      <th></th>\n",
              "      <th>p1</th>\n",
              "      <th>p2</th>\n",
              "      <th>p3</th>\n",
              "    </tr>\n",
              "  </thead>\n",
              "  <tbody>\n",
              "    <tr>\n",
              "      <th>0</th>\n",
              "      <td>-2.264542</td>\n",
              "      <td>0.505704</td>\n",
              "      <td>-0.121943</td>\n",
              "    </tr>\n",
              "    <tr>\n",
              "      <th>1</th>\n",
              "      <td>-2.086426</td>\n",
              "      <td>-0.655405</td>\n",
              "      <td>-0.227251</td>\n",
              "    </tr>\n",
              "    <tr>\n",
              "      <th>2</th>\n",
              "      <td>-2.367950</td>\n",
              "      <td>-0.318477</td>\n",
              "      <td>0.051480</td>\n",
              "    </tr>\n",
              "    <tr>\n",
              "      <th>3</th>\n",
              "      <td>-2.304197</td>\n",
              "      <td>-0.575368</td>\n",
              "      <td>0.098860</td>\n",
              "    </tr>\n",
              "    <tr>\n",
              "      <th>4</th>\n",
              "      <td>-2.388777</td>\n",
              "      <td>0.674767</td>\n",
              "      <td>0.021428</td>\n",
              "    </tr>\n",
              "  </tbody>\n",
              "</table>\n",
              "</div>"
            ],
            "text/plain": [
              "         p1        p2        p3\n",
              "0 -2.264542  0.505704 -0.121943\n",
              "1 -2.086426 -0.655405 -0.227251\n",
              "2 -2.367950 -0.318477  0.051480\n",
              "3 -2.304197 -0.575368  0.098860\n",
              "4 -2.388777  0.674767  0.021428"
            ]
          },
          "metadata": {},
          "execution_count": 15
        }
      ],
      "metadata": {}
    },
    {
      "cell_type": "code",
      "execution_count": 16,
      "source": [
        "pca.explained_variance_ratio_"
      ],
      "outputs": [
        {
          "output_type": "execute_result",
          "data": {
            "text/plain": [
              "array([0.72770452, 0.23030523, 0.03683832])"
            ]
          },
          "metadata": {},
          "execution_count": 16
        }
      ],
      "metadata": {}
    },
    {
      "cell_type": "code",
      "execution_count": 17,
      "source": [
        "sum(pca.explained_variance_ratio_) # 3번째 분산 설명량이 매우 적다 따라서, 2개로 하는 것이 맞음 "
      ],
      "outputs": [
        {
          "output_type": "execute_result",
          "data": {
            "text/plain": [
              "0.9948480731910938"
            ]
          },
          "metadata": {},
          "execution_count": 17
        }
      ],
      "metadata": {}
    },
    {
      "cell_type": "code",
      "execution_count": 21,
      "source": [
        "import matplotlib.pyplot as plt \r\n",
        "\r\n",
        "fig = plt.figure(figsize = (8, 8))\r\n",
        "ax = fig.add_subplot(1, 1, 1)\r\n",
        "ax.set_xlabel('Principal Component 1', fontsize = 15)\r\n",
        "ax.set_ylabel('Principal Component 2', fontsize = 15)\r\n",
        "ax.set_title('2 component PCA', fontsize=20)\r\n",
        "\r\n",
        "df_principal['target'] = y\r\n",
        "\r\n",
        "targets = ['Iris-setosa', 'Iris-versicolor', 'Iris-virginica']\r\n",
        "colors = ['r', 'g', 'b']\r\n",
        "for target, color in zip(targets,colors):\r\n",
        "    indicesToKeep = df_principal['target'] == target\r\n",
        "    ax.scatter(df_principal.loc[indicesToKeep, 'pca1']\r\n",
        "               , df_principal.loc[indicesToKeep, 'pca2']\r\n",
        "               , c = color\r\n",
        "               , s = 50)\r\n",
        "ax.legend(targets)\r\n",
        "ax.grid()"
      ],
      "outputs": [
        {
          "output_type": "display_data",
          "data": {
            "image/png": "[encoded data removed]",
            "image/svg+xml": "<?xml version=\"1.0\" encoding=\"utf-8\" standalone=\"no\"?>\r\n<!DOCTYPE svg PUBLIC \"-//W3C//DTD SVG 1.1//EN\"\r\n  \"http://www.w3.org/Graphics/SVG/1.1/DTD/svg11.dtd\">\r\n<!-- Created with matplotlib (https://matplotlib.org/) -->\r\n<svg height=\"505.672187pt\" version=\"1.1\" viewBox=\"0 0 501.059375 505.672187\" width=\"501.059375pt\" xmlns=\"http://www.w3.org/2000/svg\" xmlns:xlink=\"http://www.w3.org/1999/xlink\">\r\n <metadata>\r\n  <rdf:RDF xmlns:cc=\"http://creativecommons.org/ns#\" xmlns:dc=\"http://purl.org/dc/elements/1.1/\" xmlns:rdf=\"http://www.w3.org/1999/02/22-rdf-syntax-ns#\">\r\n   <cc:Work>\r\n    <dc:type rdf:resource=\"http://purl.org/dc/dcmitype/StillImage\"/>\r\n    <dc:date>2021-09-14T16:05:50.626252</dc:date>\r\n    <dc:format>image/svg+xml</dc:format>\r\n    <dc:creator>\r\n     <cc:Agent>\r\n      <dc:title>Matplotlib v3.3.3, https://matplotlib.org/</dc:title>\r\n     </cc:Agent>\r\n    </dc:creator>\r\n   </cc:Work>\r\n  </rdf:RDF>\r\n </metadata>\r\n <defs>\r\n  <style type=\"text/css\">*{stroke-linecap:butt;stroke-linejoin:round;}</style>\r\n </defs>\r\n <g id=\"figure_1\">\r\n  <g id=\"patch_1\">\r\n   <path d=\"M 0 505.672187 \r\nL 501.059375 505.672187 \r\nL 501.059375 0 \r\nL 0 0 \r\nz\r\n\" style=\"fill:none;\"/>\r\n  </g>\r\n  <g id=\"axes_1\">\r\n   <g id=\"patch_2\">\r\n    <path d=\"M 47.459375 463.276875 \r\nL 493.859375 463.276875 \r\nL 493.859375 28.396875 \r\nL 47.459375 28.396875 \r\nz\r\n\" style=\"fill:#ffffff;\"/>\r\n   </g>\r\n   <g id=\"PathCollection_1\">\r\n    <defs>\r\n     <path d=\"M 0 3.535534 \r\nC 0.937635 3.535534 1.836992 3.163008 2.5 2.5 \r\nC 3.163008 1.836992 3.535534 0.937635 3.535534 0 \r\nC 3.535534 -0.937635 3.163008 -1.836992 2.5 -2.5 \r\nC 1.836992 -3.163008 0.937635 -3.535534 0 -3.535534 \r\nC -0.937635 -3.535534 -1.836992 -3.163008 -2.5 -2.5 \r\nC -3.163008 -1.836992 -3.535534 -0.937635 -3.535534 0 \r\nC -3.535534 0.937635 -3.163008 1.836992 -2.5 2.5 \r\nC -1.836992 3.163008 -0.937635 3.535534 0 3.535534 \r\nz\r\n\" id=\"m6c846df834\" style=\"stroke:#ff0000;\"/>\r\n    </defs>\r\n    <g clip-path=\"url(#p1a47312f5c)\">\r\n     <use style=\"fill:#ff0000;stroke:#ff0000;\" x=\"101.747615\" xlink:href=\"#m6c846df834\" y=\"211.041219\"/>\r\n     <use style=\"fill:#ff0000;stroke:#ff0000;\" x=\"113.629763\" xlink:href=\"#m6c846df834\" y=\"296.357578\"/>\r\n     <use style=\"fill:#ff0000;stroke:#ff0000;\" x=\"94.84921\" xlink:href=\"#m6c846df834\" y=\"271.600704\"/>\r\n     <use style=\"fill:#ff0000;stroke:#ff0000;\" x=\"99.102198\" xlink:href=\"#m6c846df834\" y=\"290.476589\"/>\r\n     <use style=\"fill:#ff0000;stroke:#ff0000;\" x=\"93.459837\" xlink:href=\"#m6c846df834\" y=\"198.61871\"/>\r\n     <use style=\"fill:#ff0000;stroke:#ff0000;\" x=\"114.689699\" xlink:href=\"#m6c846df834\" y=\"136.619053\"/>\r\n     <use style=\"fill:#ff0000;stroke:#ff0000;\" x=\"89.661775\" xlink:href=\"#m6c846df834\" y=\"242.72077\"/>\r\n     <use style=\"fill:#ff0000;stroke:#ff0000;\" x=\"103.795606\" xlink:href=\"#m6c846df834\" y=\"230.005247\"/>\r\n     <use style=\"fill:#ff0000;stroke:#ff0000;\" x=\"96.58319\" xlink:href=\"#m6c846df834\" y=\"328.669073\"/>\r\n     <use style=\"fill:#ff0000;stroke:#ff0000;\" x=\"106.80864\" xlink:href=\"#m6c846df834\" y=\"281.16404\"/>\r\n     <use style=\"fill:#ff0000;stroke:#ff0000;\" x=\"108.489014\" xlink:href=\"#m6c846df834\" y=\"169.533904\"/>\r\n     <use style=\"fill:#ff0000;stroke:#ff0000;\" x=\"97.555818\" xlink:href=\"#m6c846df834\" y=\"236.546767\"/>\r\n     <use style=\"fill:#ff0000;stroke:#ff0000;\" x=\"104.446638\" xlink:href=\"#m6c846df834\" y=\"300.304353\"/>\r\n     <use style=\"fill:#ff0000;stroke:#ff0000;\" x=\"76.71969\" xlink:href=\"#m6c846df834\" y=\"317.142935\"/>\r\n     <use style=\"fill:#ff0000;stroke:#ff0000;\" x=\"106.567433\" xlink:href=\"#m6c846df834\" y=\"109.326989\"/>\r\n     <use style=\"fill:#ff0000;stroke:#ff0000;\" x=\"102.61995\" xlink:href=\"#m6c846df834\" y=\"48.164148\"/>\r\n     <use style=\"fill:#ff0000;stroke:#ff0000;\" x=\"105.869714\" xlink:href=\"#m6c846df834\" y=\"136.971623\"/>\r\n     <use style=\"fill:#ff0000;stroke:#ff0000;\" x=\"106.708348\" xlink:href=\"#m6c846df834\" y=\"210.409275\"/>\r\n     <use style=\"fill:#ff0000;stroke:#ff0000;\" x=\"126.461528\" xlink:href=\"#m6c846df834\" y=\"143.043844\"/>\r\n     <use style=\"fill:#ff0000;stroke:#ff0000;\" x=\"96.717185\" xlink:href=\"#m6c846df834\" y=\"163.109114\"/>\r\n     <use style=\"fill:#ff0000;stroke:#ff0000;\" x=\"125.095166\" xlink:href=\"#m6c846df834\" y=\"216.569638\"/>\r\n     <use style=\"fill:#ff0000;stroke:#ff0000;\" x=\"105.743304\" xlink:href=\"#m6c846df834\" y=\"178.21451\"/>\r\n     <use style=\"fill:#ff0000;stroke:#ff0000;\" x=\"67.750284\" xlink:href=\"#m6c846df834\" y=\"212.230604\"/>\r\n     <use style=\"fill:#ff0000;stroke:#ff0000;\" x=\"131.375575\" xlink:href=\"#m6c846df834\" y=\"240.35564\"/>\r\n     <use style=\"fill:#ff0000;stroke:#ff0000;\" x=\"104.170807\" xlink:href=\"#m6c846df834\" y=\"236.282339\"/>\r\n     <use style=\"fill:#ff0000;stroke:#ff0000;\" x=\"122.262148\" xlink:href=\"#m6c846df834\" y=\"292.866462\"/>\r\n     <use style=\"fill:#ff0000;stroke:#ff0000;\" x=\"115.922068\" xlink:href=\"#m6c846df834\" y=\"228.653217\"/>\r\n     <use style=\"fill:#ff0000;stroke:#ff0000;\" x=\"108.175003\" xlink:href=\"#m6c846df834\" y=\"207.638245\"/>\r\n     <use style=\"fill:#ff0000;stroke:#ff0000;\" x=\"110.035393\" xlink:href=\"#m6c846df834\" y=\"223.463727\"/>\r\n     <use style=\"fill:#ff0000;stroke:#ff0000;\" x=\"101.464199\" xlink:href=\"#m6c846df834\" y=\"271.336277\"/>\r\n     <use style=\"fill:#ff0000;stroke:#ff0000;\" x=\"109.751977\" xlink:href=\"#m6c846df834\" y=\"283.758785\"/>\r\n     <use style=\"fill:#ff0000;stroke:#ff0000;\" x=\"130.606639\" xlink:href=\"#m6c846df834\" y=\"215.482036\"/>\r\n     <use style=\"fill:#ff0000;stroke:#ff0000;\" x=\"78.821952\" xlink:href=\"#m6c846df834\" y=\"113.846152\"/>\r\n     <use style=\"fill:#ff0000;stroke:#ff0000;\" x=\"90.179477\" xlink:href=\"#m6c846df834\" y=\"87.620518\"/>\r\n     <use style=\"fill:#ff0000;stroke:#ff0000;\" x=\"106.80864\" xlink:href=\"#m6c846df834\" y=\"281.16404\"/>\r\n     <use style=\"fill:#ff0000;stroke:#ff0000;\" x=\"105.31139\" xlink:href=\"#m6c846df834\" y=\"261.744353\"/>\r\n     <use style=\"fill:#ff0000;stroke:#ff0000;\" x=\"116.432186\" xlink:href=\"#m6c846df834\" y=\"197.870037\"/>\r\n     <use style=\"fill:#ff0000;stroke:#ff0000;\" x=\"106.80864\" xlink:href=\"#m6c846df834\" y=\"281.16404\"/>\r\n     <use style=\"fill:#ff0000;stroke:#ff0000;\" x=\"90.312808\" xlink:href=\"#m6c846df834\" y=\"313.019876\"/>\r\n     <use style=\"fill:#ff0000;stroke:#ff0000;\" x=\"108.017997\" xlink:href=\"#m6c846df834\" y=\"226.690416\"/>\r\n     <use style=\"fill:#ff0000;stroke:#ff0000;\" x=\"100.28096\" xlink:href=\"#m6c846df834\" y=\"213.812249\"/>\r\n     <use style=\"fill:#ff0000;stroke:#ff0000;\" x=\"127.953637\" xlink:href=\"#m6c846df834\" y=\"419.234477\"/>\r\n     <use style=\"fill:#ff0000;stroke:#ff0000;\" x=\"82.182035\" xlink:href=\"#m6c846df834\" y=\"281.545197\"/>\r\n     <use style=\"fill:#ff0000;stroke:#ff0000;\" x=\"121.778147\" xlink:href=\"#m6c846df834\" y=\"211.65199\"/>\r\n     <use style=\"fill:#ff0000;stroke:#ff0000;\" x=\"110.497903\" xlink:href=\"#m6c846df834\" y=\"162.124601\"/>\r\n     <use style=\"fill:#ff0000;stroke:#ff0000;\" x=\"114.368104\" xlink:href=\"#m6c846df834\" y=\"299.040466\"/>\r\n     <use style=\"fill:#ff0000;stroke:#ff0000;\" x=\"93.961448\" xlink:href=\"#m6c846df834\" y=\"163.652916\"/>\r\n     <use style=\"fill:#ff0000;stroke:#ff0000;\" x=\"92.831815\" xlink:href=\"#m6c846df834\" y=\"274.827392\"/>\r\n     <use style=\"fill:#ff0000;stroke:#ff0000;\" x=\"104.266622\" xlink:href=\"#m6c846df834\" y=\"172.848736\"/>\r\n     <use style=\"fill:#ff0000;stroke:#ff0000;\" x=\"105.655996\" xlink:href=\"#m6c846df834\" y=\"245.830729\"/>\r\n    </g>\r\n   </g>\r\n   <g id=\"PathCollection_2\">\r\n    <defs>\r\n     <path d=\"M 0 3.535534 \r\nC 0.937635 3.535534 1.836992 3.163008 2.5 2.5 \r\nC 3.163008 1.836992 3.535534 0.937635 3.535534 0 \r\nC 3.535534 -0.937635 3.163008 -1.836992 2.5 -2.5 \r\nC 1.836992 -3.163008 0.937635 -3.535534 0 -3.535534 \r\nC -0.937635 -3.535534 -1.836992 -3.163008 -2.5 -2.5 \r\nC -3.163008 -1.836992 -3.535534 -0.937635 -3.535534 0 \r\nC -3.535534 0.937635 -3.163008 1.836992 -2.5 2.5 \r\nC -1.836992 3.163008 -0.937635 3.535534 0 3.535534 \r\nz\r\n\" id=\"m636f1338ec\" style=\"stroke:#008000;\"/>\r\n    </defs>\r\n    <g clip-path=\"url(#p1a47312f5c)\">\r\n     <use style=\"fill:#008000;stroke:#008000;\" x=\"326.462891\" xlink:href=\"#m636f1338ec\" y=\"184.779425\"/>\r\n     <use style=\"fill:#008000;stroke:#008000;\" x=\"301.67928\" xlink:href=\"#m636f1338ec\" y=\"204.212752\"/>\r\n     <use style=\"fill:#008000;stroke:#008000;\" x=\"335.676611\" xlink:href=\"#m636f1338ec\" y=\"203.023367\"/>\r\n     <use style=\"fill:#008000;stroke:#008000;\" x=\"279.319784\" xlink:href=\"#m636f1338ec\" y=\"377.386886\"/>\r\n     <use style=\"fill:#008000;stroke:#008000;\" x=\"324.368214\" xlink:href=\"#m636f1338ec\" y=\"263.759137\"/>\r\n     <use style=\"fill:#008000;stroke:#008000;\" x=\"278.462617\" xlink:href=\"#m636f1338ec\" y=\"291.629814\"/>\r\n     <use style=\"fill:#008000;stroke:#008000;\" x=\"302.762227\" xlink:href=\"#m636f1338ec\" y=\"190.982015\"/>\r\n     <use style=\"fill:#008000;stroke:#008000;\" x=\"219.602874\" xlink:href=\"#m636f1338ec\" y=\"384.05136\"/>\r\n     <use style=\"fill:#008000;stroke:#008000;\" x=\"314.603753\" xlink:href=\"#m636f1338ec\" y=\"245.970853\"/>\r\n     <use style=\"fill:#008000;stroke:#008000;\" x=\"253.146799\" xlink:href=\"#m636f1338ec\" y=\"323.83822\"/>\r\n     <use style=\"fill:#008000;stroke:#008000;\" x=\"244.496804\" xlink:href=\"#m636f1338ec\" y=\"443.509602\"/>\r\n     <use style=\"fill:#008000;stroke:#008000;\" x=\"282.083105\" xlink:href=\"#m636f1338ec\" y=\"252.526013\"/>\r\n     <use style=\"fill:#008000;stroke:#008000;\" x=\"289.614931\" xlink:href=\"#m636f1338ec\" y=\"378.445901\"/>\r\n     <use style=\"fill:#008000;stroke:#008000;\" x=\"300.657523\" xlink:href=\"#m636f1338ec\" y=\"261.824922\"/>\r\n     <use style=\"fill:#008000;stroke:#008000;\" x=\"250.329872\" xlink:href=\"#m636f1338ec\" y=\"280.000587\"/>\r\n     <use style=\"fill:#008000;stroke:#008000;\" x=\"311.246113\" xlink:href=\"#m636f1338ec\" y=\"210.725685\"/>\r\n     <use style=\"fill:#008000;stroke:#008000;\" x=\"276.030918\" xlink:href=\"#m636f1338ec\" y=\"262.206079\"/>\r\n     <use style=\"fill:#008000;stroke:#008000;\" x=\"263.048211\" xlink:href=\"#m636f1338ec\" y=\"306.300724\"/>\r\n     <use style=\"fill:#008000;stroke:#008000;\" x=\"333.88836\" xlink:href=\"#m636f1338ec\" y=\"368.215809\"/>\r\n     <use style=\"fill:#008000;stroke:#008000;\" x=\"263.284941\" xlink:href=\"#m636f1338ec\" y=\"343.949406\"/>\r\n     <use style=\"fill:#008000;stroke:#008000;\" x=\"302.064508\" xlink:href=\"#m636f1338ec\" y=\"218.626649\"/>\r\n     <use style=\"fill:#008000;stroke:#008000;\" x=\"284.327203\" xlink:href=\"#m636f1338ec\" y=\"278.811202\"/>\r\n     <use style=\"fill:#008000;stroke:#008000;\" x=\"334.734578\" xlink:href=\"#m636f1338ec\" y=\"317.33639\"/>\r\n     <use style=\"fill:#008000;stroke:#008000;\" x=\"294.801444\" xlink:href=\"#m636f1338ec\" y=\"278.826149\"/>\r\n     <use style=\"fill:#008000;stroke:#008000;\" x=\"299.543981\" xlink:href=\"#m636f1338ec\" y=\"252.864943\"/>\r\n     <use style=\"fill:#008000;stroke:#008000;\" x=\"311.089107\" xlink:href=\"#m636f1338ec\" y=\"229.777855\"/>\r\n     <use style=\"fill:#008000;stroke:#008000;\" x=\"336.484649\" xlink:href=\"#m636f1338ec\" y=\"254.270302\"/>\r\n     <use style=\"fill:#008000;stroke:#008000;\" x=\"343.423675\" xlink:href=\"#m636f1338ec\" y=\"224.038339\"/>\r\n     <use style=\"fill:#008000;stroke:#008000;\" x=\"296.985872\" xlink:href=\"#m636f1338ec\" y=\"264.684094\"/>\r\n     <use style=\"fill:#008000;stroke:#008000;\" x=\"249.661228\" xlink:href=\"#m636f1338ec\" y=\"325.881748\"/>\r\n     <use style=\"fill:#008000;stroke:#008000;\" x=\"260.922939\" xlink:href=\"#m636f1338ec\" y=\"363.089718\"/>\r\n     <use style=\"fill:#008000;stroke:#008000;\" x=\"253.75721\" xlink:href=\"#m636f1338ec\" y=\"363.809805\"/>\r\n     <use style=\"fill:#008000;stroke:#008000;\" x=\"268.559685\" xlink:href=\"#m636f1338ec\" y=\"305.213121\"/>\r\n     <use style=\"fill:#008000;stroke:#008000;\" x=\"323.307355\" xlink:href=\"#m636f1338ec\" y=\"294.997975\"/>\r\n     <use style=\"fill:#008000;stroke:#008000;\" x=\"267.586134\" xlink:href=\"#m636f1338ec\" y=\"268.835741\"/>\r\n     <use style=\"fill:#008000;stroke:#008000;\" x=\"281.619673\" xlink:href=\"#m636f1338ec\" y=\"185.365453\"/>\r\n     <use style=\"fill:#008000;stroke:#008000;\" x=\"322.821834\" xlink:href=\"#m636f1338ec\" y=\"209.829314\"/>\r\n     <use style=\"fill:#008000;stroke:#008000;\" x=\"321.918904\" xlink:href=\"#m636f1338ec\" y=\"350.515668\"/>\r\n     <use style=\"fill:#008000;stroke:#008000;\" x=\"257.289467\" xlink:href=\"#m636f1338ec\" y=\"263.822536\"/>\r\n     <use style=\"fill:#008000;stroke:#008000;\" x=\"271.189011\" xlink:href=\"#m636f1338ec\" y=\"345.912207\"/>\r\n     <use style=\"fill:#008000;stroke:#008000;\" x=\"270.982877\" xlink:href=\"#m636f1338ec\" y=\"330.454241\"/>\r\n     <use style=\"fill:#008000;stroke:#008000;\" x=\"294.387141\" xlink:href=\"#m636f1338ec\" y=\"246.175725\"/>\r\n     <use style=\"fill:#008000;stroke:#008000;\" x=\"274.830067\" xlink:href=\"#m636f1338ec\" y=\"320.862318\"/>\r\n     <use style=\"fill:#008000;stroke:#008000;\" x=\"227.890652\" xlink:href=\"#m636f1338ec\" y=\"396.473869\"/>\r\n     <use style=\"fill:#008000;stroke:#008000;\" x=\"271.690623\" xlink:href=\"#m636f1338ec\" y=\"310.946412\"/>\r\n     <use style=\"fill:#008000;stroke:#008000;\" x=\"258.756122\" xlink:href=\"#m636f1338ec\" y=\"261.051506\"/>\r\n     <use style=\"fill:#008000;stroke:#008000;\" x=\"267.782242\" xlink:href=\"#m636f1338ec\" y=\"276.156902\"/>\r\n     <use style=\"fill:#008000;stroke:#008000;\" x=\"291.099197\" xlink:href=\"#m636f1338ec\" y=\"259.494605\"/>\r\n     <use style=\"fill:#008000;stroke:#008000;\" x=\"222.328015\" xlink:href=\"#m636f1338ec\" y=\"361.316842\"/>\r\n     <use style=\"fill:#008000;stroke:#008000;\" x=\"269.642632\" xlink:href=\"#m636f1338ec\" y=\"291.982384\"/>\r\n    </g>\r\n   </g>\r\n   <g id=\"PathCollection_3\">\r\n    <defs>\r\n     <path d=\"M 0 3.535534 \r\nC 0.937635 3.535534 1.836992 3.163008 2.5 2.5 \r\nC 3.163008 1.836992 3.535534 0.937635 3.535534 0 \r\nC 3.535534 -0.937635 3.163008 -1.836992 2.5 -2.5 \r\nC 1.836992 -3.163008 0.937635 -3.535534 0 -3.535534 \r\nC -0.937635 -3.535534 -1.836992 -3.163008 -2.5 -2.5 \r\nC -3.163008 -1.836992 -3.535534 -0.937635 -3.535534 0 \r\nC -3.535534 0.937635 -3.163008 1.836992 -2.5 2.5 \r\nC -1.836992 3.163008 -0.937635 3.535534 0 3.535534 \r\nz\r\n\" id=\"me6ef11b2e8\" style=\"stroke:#0000ff;\"/>\r\n    </defs>\r\n    <g clip-path=\"url(#p1a47312f5c)\">\r\n     <use style=\"fill:#0000ff;stroke:#0000ff;\" x=\"376.073775\" xlink:href=\"#me6ef11b2e8\" y=\"184.148671\"/>\r\n     <use style=\"fill:#0000ff;stroke:#0000ff;\" x=\"329.74477\" xlink:href=\"#me6ef11b2e8\" y=\"299.731806\"/>\r\n     <use style=\"fill:#0000ff;stroke:#0000ff;\" x=\"400.001141\" xlink:href=\"#me6ef11b2e8\" y=\"207.457958\"/>\r\n     <use style=\"fill:#0000ff;stroke:#0000ff;\" x=\"348.790205\" xlink:href=\"#me6ef11b2e8\" y=\"251.874204\"/>\r\n     <use style=\"fill:#0000ff;stroke:#0000ff;\" x=\"377.422526\" xlink:href=\"#me6ef11b2e8\" y=\"226.803143\"/>\r\n     <use style=\"fill:#0000ff;stroke:#0000ff;\" x=\"436.548074\" xlink:href=\"#me6ef11b2e8\" y=\"190.266806\"/>\r\n     <use style=\"fill:#0000ff;stroke:#0000ff;\" x=\"276.722573\" xlink:href=\"#me6ef11b2e8\" y=\"362.832706\"/>\r\n     <use style=\"fill:#0000ff;stroke:#0000ff;\" x=\"406.449097\" xlink:href=\"#me6ef11b2e8\" y=\"218.108897\"/>\r\n     <use style=\"fill:#0000ff;stroke:#0000ff;\" x=\"386.351311\" xlink:href=\"#me6ef11b2e8\" y=\"301.387953\"/>\r\n     <use style=\"fill:#0000ff;stroke:#0000ff;\" x=\"404.084138\" xlink:href=\"#me6ef11b2e8\" y=\"107.015031\"/>\r\n     <use style=\"fill:#0000ff;stroke:#0000ff;\" x=\"343.935314\" xlink:href=\"#me6ef11b2e8\" y=\"197.209348\"/>\r\n     <use style=\"fill:#0000ff;stroke:#0000ff;\" x=\"359.489114\" xlink:href=\"#me6ef11b2e8\" y=\"279.666535\"/>\r\n     <use style=\"fill:#0000ff;stroke:#0000ff;\" x=\"378.51398\" xlink:href=\"#me6ef11b2e8\" y=\"217.755021\"/>\r\n     <use style=\"fill:#0000ff;stroke:#0000ff;\" x=\"336.408888\" xlink:href=\"#me6ef11b2e8\" y=\"333.977515\"/>\r\n     <use style=\"fill:#0000ff;stroke:#0000ff;\" x=\"350.483048\" xlink:href=\"#me6ef11b2e8\" y=\"280.834748\"/>\r\n     <use style=\"fill:#0000ff;stroke:#0000ff;\" x=\"359.005113\" xlink:href=\"#me6ef11b2e8\" y=\"198.452063\"/>\r\n     <use style=\"fill:#0000ff;stroke:#0000ff;\" x=\"350.964606\" xlink:href=\"#me6ef11b2e8\" y=\"229.595345\"/>\r\n     <use style=\"fill:#0000ff;stroke:#0000ff;\" x=\"415.413104\" xlink:href=\"#me6ef11b2e8\" y=\"60.333174\"/>\r\n     <use style=\"fill:#0000ff;stroke:#0000ff;\" x=\"473.568466\" xlink:href=\"#me6ef11b2e8\" y=\"248.373019\"/>\r\n     <use style=\"fill:#0000ff;stroke:#0000ff;\" x=\"336.468558\" xlink:href=\"#me6ef11b2e8\" y=\"374.404759\"/>\r\n     <use style=\"fill:#0000ff;stroke:#0000ff;\" x=\"388.937057\" xlink:href=\"#me6ef11b2e8\" y=\"181.525339\"/>\r\n     <use style=\"fill:#0000ff;stroke:#0000ff;\" x=\"317.78534\" xlink:href=\"#me6ef11b2e8\" y=\"290.16847\"/>\r\n     <use style=\"fill:#0000ff;stroke:#0000ff;\" x=\"446.145502\" xlink:href=\"#me6ef11b2e8\" y=\"218.970456\"/>\r\n     <use style=\"fill:#0000ff;stroke:#0000ff;\" x=\"341.486004\" xlink:href=\"#me6ef11b2e8\" y=\"283.96588\"/>\r\n     <use style=\"fill:#0000ff;stroke:#0000ff;\" x=\"366.505422\" xlink:href=\"#me6ef11b2e8\" y=\"173.681549\"/>\r\n     <use style=\"fill:#0000ff;stroke:#0000ff;\" x=\"383.415557\" xlink:href=\"#me6ef11b2e8\" y=\"174.476137\"/>\r\n     <use style=\"fill:#0000ff;stroke:#0000ff;\" x=\"330.993229\" xlink:href=\"#me6ef11b2e8\" y=\"271.631514\"/>\r\n     <use style=\"fill:#0000ff;stroke:#0000ff;\" x=\"320.845061\" xlink:href=\"#me6ef11b2e8\" y=\"243.383523\"/>\r\n     <use style=\"fill:#0000ff;stroke:#0000ff;\" x=\"371.960182\" xlink:href=\"#me6ef11b2e8\" y=\"262.400881\"/>\r\n     <use style=\"fill:#0000ff;stroke:#0000ff;\" x=\"377.214872\" xlink:href=\"#me6ef11b2e8\" y=\"207.390988\"/>\r\n     <use style=\"fill:#0000ff;stroke:#0000ff;\" x=\"415.287616\" xlink:href=\"#me6ef11b2e8\" y=\"230.075747\"/>\r\n     <use style=\"fill:#0000ff;stroke:#0000ff;\" x=\"407.321433\" xlink:href=\"#me6ef11b2e8\" y=\"55.231826\"/>\r\n     <use style=\"fill:#0000ff;stroke:#0000ff;\" x=\"376.920915\" xlink:href=\"#me6ef11b2e8\" y=\"261.768938\"/>\r\n     <use style=\"fill:#0000ff;stroke:#0000ff;\" x=\"326.948411\" xlink:href=\"#me6ef11b2e8\" y=\"269.948087\"/>\r\n     <use style=\"fill:#0000ff;stroke:#0000ff;\" x=\"332.698649\" xlink:href=\"#me6ef11b2e8\" y=\"308.243659\"/>\r\n     <use style=\"fill:#0000ff;stroke:#0000ff;\" x=\"439.66695\" xlink:href=\"#me6ef11b2e8\" y=\"186.1288\"/>\r\n     <use style=\"fill:#0000ff;stroke:#0000ff;\" x=\"358.22767\" xlink:href=\"#me6ef11b2e8\" y=\"169.395845\"/>\r\n     <use style=\"fill:#0000ff;stroke:#0000ff;\" x=\"342.676828\" xlink:href=\"#me6ef11b2e8\" y=\"217.172837\"/>\r\n     <use style=\"fill:#0000ff;stroke:#0000ff;\" x=\"314.417673\" xlink:href=\"#me6ef11b2e8\" y=\"246.786497\"/>\r\n     <use style=\"fill:#0000ff;stroke:#0000ff;\" x=\"376.465989\" xlink:href=\"#me6ef11b2e8\" y=\"198.790993\"/>\r\n     <use style=\"fill:#0000ff;stroke:#0000ff;\" x=\"387.313397\" xlink:href=\"#me6ef11b2e8\" y=\"203.348539\"/>\r\n     <use style=\"fill:#0000ff;stroke:#0000ff;\" x=\"379.772466\" xlink:href=\"#me6ef11b2e8\" y=\"197.791533\"/>\r\n     <use style=\"fill:#0000ff;stroke:#0000ff;\" x=\"329.74477\" xlink:href=\"#me6ef11b2e8\" y=\"299.731806\"/>\r\n     <use style=\"fill:#0000ff;stroke:#0000ff;\" x=\"389.124658\" xlink:href=\"#me6ef11b2e8\" y=\"184.663885\"/>\r\n     <use style=\"fill:#0000ff;stroke:#0000ff;\" x=\"386.348353\" xlink:href=\"#me6ef11b2e8\" y=\"171.153774\"/>\r\n     <use style=\"fill:#0000ff;stroke:#0000ff;\" x=\"377.598065\" xlink:href=\"#me6ef11b2e8\" y=\"220.070392\"/>\r\n     <use style=\"fill:#0000ff;stroke:#0000ff;\" x=\"356.782506\" xlink:href=\"#me6ef11b2e8\" y=\"314.720473\"/>\r\n     <use style=\"fill:#0000ff;stroke:#0000ff;\" x=\"354.271083\" xlink:href=\"#me6ef11b2e8\" y=\"228.595885\"/>\r\n     <use style=\"fill:#0000ff;stroke:#0000ff;\" x=\"344.634553\" xlink:href=\"#me6ef11b2e8\" y=\"173.518904\"/>\r\n     <use style=\"fill:#0000ff;stroke:#0000ff;\" x=\"316.81027\" xlink:href=\"#me6ef11b2e8\" y=\"249.836901\"/>\r\n    </g>\r\n   </g>\r\n   <g id=\"matplotlib.axis_1\">\r\n    <g id=\"xtick_1\">\r\n     <g id=\"line2d_1\">\r\n      <path clip-path=\"url(#p1a47312f5c)\" d=\"M 52.685132 463.276875 \r\nL 52.685132 28.396875 \r\n\" style=\"fill:none;stroke:#b0b0b0;stroke-linecap:square;stroke-width:0.8;\"/>\r\n     </g>\r\n     <g id=\"line2d_2\">\r\n      <defs>\r\n       <path d=\"M 0 0 \r\nL 0 3.5 \r\n\" id=\"m061e1fcd3b\" style=\"stroke:#000000;stroke-width:0.8;\"/>\r\n      </defs>\r\n      <g>\r\n       <use style=\"stroke:#000000;stroke-width:0.8;\" x=\"52.685132\" xlink:href=\"#m061e1fcd3b\" y=\"463.276875\"/>\r\n      </g>\r\n     </g>\r\n     <g id=\"text_1\">\r\n      <!-- −3 -->\r\n      <g transform=\"translate(45.314038 477.875312)scale(0.1 -0.1)\">\r\n       <defs>\r\n        <path d=\"M 10.59375 35.5 \r\nL 73.1875 35.5 \r\nL 73.1875 27.203125 \r\nL 10.59375 27.203125 \r\nz\r\n\" id=\"DejaVuSans-8722\"/>\r\n        <path d=\"M 40.578125 39.3125 \r\nQ 47.65625 37.796875 51.625 33 \r\nQ 55.609375 28.21875 55.609375 21.1875 \r\nQ 55.609375 10.40625 48.1875 4.484375 \r\nQ 40.765625 -1.421875 27.09375 -1.421875 \r\nQ 22.515625 -1.421875 17.65625 -0.515625 \r\nQ 12.796875 0.390625 7.625 2.203125 \r\nL 7.625 11.71875 \r\nQ 11.71875 9.328125 16.59375 8.109375 \r\nQ 21.484375 6.890625 26.8125 6.890625 \r\nQ 36.078125 6.890625 40.9375 10.546875 \r\nQ 45.796875 14.203125 45.796875 21.1875 \r\nQ 45.796875 27.640625 41.28125 31.265625 \r\nQ 36.765625 34.90625 28.71875 34.90625 \r\nL 20.21875 34.90625 \r\nL 20.21875 43.015625 \r\nL 29.109375 43.015625 \r\nQ 36.375 43.015625 40.234375 45.921875 \r\nQ 44.09375 48.828125 44.09375 54.296875 \r\nQ 44.09375 59.90625 40.109375 62.90625 \r\nQ 36.140625 65.921875 28.71875 65.921875 \r\nQ 24.65625 65.921875 20.015625 65.03125 \r\nQ 15.375 64.15625 9.8125 62.3125 \r\nL 9.8125 71.09375 \r\nQ 15.4375 72.65625 20.34375 73.4375 \r\nQ 25.25 74.21875 29.59375 74.21875 \r\nQ 40.828125 74.21875 47.359375 69.109375 \r\nQ 53.90625 64.015625 53.90625 55.328125 \r\nQ 53.90625 49.265625 50.4375 45.09375 \r\nQ 46.96875 40.921875 40.578125 39.3125 \r\nz\r\n\" id=\"DejaVuSans-51\"/>\r\n       </defs>\r\n       <use xlink:href=\"#DejaVuSans-8722\"/>\r\n       <use x=\"83.789062\" xlink:href=\"#DejaVuSans-51\"/>\r\n      </g>\r\n     </g>\r\n    </g>\r\n    <g id=\"xtick_2\">\r\n     <g id=\"line2d_3\">\r\n      <path clip-path=\"url(#p1a47312f5c)\" d=\"M 119.395215 463.276875 \r\nL 119.395215 28.396875 \r\n\" style=\"fill:none;stroke:#b0b0b0;stroke-linecap:square;stroke-width:0.8;\"/>\r\n     </g>\r\n     <g id=\"line2d_4\">\r\n      <g>\r\n       <use style=\"stroke:#000000;stroke-width:0.8;\" x=\"119.395215\" xlink:href=\"#m061e1fcd3b\" y=\"463.276875\"/>\r\n      </g>\r\n     </g>\r\n     <g id=\"text_2\">\r\n      <!-- −2 -->\r\n      <g transform=\"translate(112.024122 477.875312)scale(0.1 -0.1)\">\r\n       <defs>\r\n        <path d=\"M 19.1875 8.296875 \r\nL 53.609375 8.296875 \r\nL 53.609375 0 \r\nL 7.328125 0 \r\nL 7.328125 8.296875 \r\nQ 12.9375 14.109375 22.625 23.890625 \r\nQ 32.328125 33.6875 34.8125 36.53125 \r\nQ 39.546875 41.84375 41.421875 45.53125 \r\nQ 43.3125 49.21875 43.3125 52.78125 \r\nQ 43.3125 58.59375 39.234375 62.25 \r\nQ 35.15625 65.921875 28.609375 65.921875 \r\nQ 23.96875 65.921875 18.8125 64.3125 \r\nQ 13.671875 62.703125 7.8125 59.421875 \r\nL 7.8125 69.390625 \r\nQ 13.765625 71.78125 18.9375 73 \r\nQ 24.125 74.21875 28.421875 74.21875 \r\nQ 39.75 74.21875 46.484375 68.546875 \r\nQ 53.21875 62.890625 53.21875 53.421875 \r\nQ 53.21875 48.921875 51.53125 44.890625 \r\nQ 49.859375 40.875 45.40625 35.40625 \r\nQ 44.1875 33.984375 37.640625 27.21875 \r\nQ 31.109375 20.453125 19.1875 8.296875 \r\nz\r\n\" id=\"DejaVuSans-50\"/>\r\n       </defs>\r\n       <use xlink:href=\"#DejaVuSans-8722\"/>\r\n       <use x=\"83.789062\" xlink:href=\"#DejaVuSans-50\"/>\r\n      </g>\r\n     </g>\r\n    </g>\r\n    <g id=\"xtick_3\">\r\n     <g id=\"line2d_5\">\r\n      <path clip-path=\"url(#p1a47312f5c)\" d=\"M 186.105299 463.276875 \r\nL 186.105299 28.396875 \r\n\" style=\"fill:none;stroke:#b0b0b0;stroke-linecap:square;stroke-width:0.8;\"/>\r\n     </g>\r\n     <g id=\"line2d_6\">\r\n      <g>\r\n       <use style=\"stroke:#000000;stroke-width:0.8;\" x=\"186.105299\" xlink:href=\"#m061e1fcd3b\" y=\"463.276875\"/>\r\n      </g>\r\n     </g>\r\n     <g id=\"text_3\">\r\n      <!-- −1 -->\r\n      <g transform=\"translate(178.734205 477.875312)scale(0.1 -0.1)\">\r\n       <defs>\r\n        <path d=\"M 12.40625 8.296875 \r\nL 28.515625 8.296875 \r\nL 28.515625 63.921875 \r\nL 10.984375 60.40625 \r\nL 10.984375 69.390625 \r\nL 28.421875 72.90625 \r\nL 38.28125 72.90625 \r\nL 38.28125 8.296875 \r\nL 54.390625 8.296875 \r\nL 54.390625 0 \r\nL 12.40625 0 \r\nz\r\n\" id=\"DejaVuSans-49\"/>\r\n       </defs>\r\n       <use xlink:href=\"#DejaVuSans-8722\"/>\r\n       <use x=\"83.789062\" xlink:href=\"#DejaVuSans-49\"/>\r\n      </g>\r\n     </g>\r\n    </g>\r\n    <g id=\"xtick_4\">\r\n     <g id=\"line2d_7\">\r\n      <path clip-path=\"url(#p1a47312f5c)\" d=\"M 252.815382 463.276875 \r\nL 252.815382 28.396875 \r\n\" style=\"fill:none;stroke:#b0b0b0;stroke-linecap:square;stroke-width:0.8;\"/>\r\n     </g>\r\n     <g id=\"line2d_8\">\r\n      <g>\r\n       <use style=\"stroke:#000000;stroke-width:0.8;\" x=\"252.815382\" xlink:href=\"#m061e1fcd3b\" y=\"463.276875\"/>\r\n      </g>\r\n     </g>\r\n     <g id=\"text_4\">\r\n      <!-- 0 -->\r\n      <g transform=\"translate(249.634132 477.875312)scale(0.1 -0.1)\">\r\n       <defs>\r\n        <path d=\"M 31.78125 66.40625 \r\nQ 24.171875 66.40625 20.328125 58.90625 \r\nQ 16.5 51.421875 16.5 36.375 \r\nQ 16.5 21.390625 20.328125 13.890625 \r\nQ 24.171875 6.390625 31.78125 6.390625 \r\nQ 39.453125 6.390625 43.28125 13.890625 \r\nQ 47.125 21.390625 47.125 36.375 \r\nQ 47.125 51.421875 43.28125 58.90625 \r\nQ 39.453125 66.40625 31.78125 66.40625 \r\nz\r\nM 31.78125 74.21875 \r\nQ 44.046875 74.21875 50.515625 64.515625 \r\nQ 56.984375 54.828125 56.984375 36.375 \r\nQ 56.984375 17.96875 50.515625 8.265625 \r\nQ 44.046875 -1.421875 31.78125 -1.421875 \r\nQ 19.53125 -1.421875 13.0625 8.265625 \r\nQ 6.59375 17.96875 6.59375 36.375 \r\nQ 6.59375 54.828125 13.0625 64.515625 \r\nQ 19.53125 74.21875 31.78125 74.21875 \r\nz\r\n\" id=\"DejaVuSans-48\"/>\r\n       </defs>\r\n       <use xlink:href=\"#DejaVuSans-48\"/>\r\n      </g>\r\n     </g>\r\n    </g>\r\n    <g id=\"xtick_5\">\r\n     <g id=\"line2d_9\">\r\n      <path clip-path=\"url(#p1a47312f5c)\" d=\"M 319.525465 463.276875 \r\nL 319.525465 28.396875 \r\n\" style=\"fill:none;stroke:#b0b0b0;stroke-linecap:square;stroke-width:0.8;\"/>\r\n     </g>\r\n     <g id=\"line2d_10\">\r\n      <g>\r\n       <use style=\"stroke:#000000;stroke-width:0.8;\" x=\"319.525465\" xlink:href=\"#m061e1fcd3b\" y=\"463.276875\"/>\r\n      </g>\r\n     </g>\r\n     <g id=\"text_5\">\r\n      <!-- 1 -->\r\n      <g transform=\"translate(316.344215 477.875312)scale(0.1 -0.1)\">\r\n       <use xlink:href=\"#DejaVuSans-49\"/>\r\n      </g>\r\n     </g>\r\n    </g>\r\n    <g id=\"xtick_6\">\r\n     <g id=\"line2d_11\">\r\n      <path clip-path=\"url(#p1a47312f5c)\" d=\"M 386.235549 463.276875 \r\nL 386.235549 28.396875 \r\n\" style=\"fill:none;stroke:#b0b0b0;stroke-linecap:square;stroke-width:0.8;\"/>\r\n     </g>\r\n     <g id=\"line2d_12\">\r\n      <g>\r\n       <use style=\"stroke:#000000;stroke-width:0.8;\" x=\"386.235549\" xlink:href=\"#m061e1fcd3b\" y=\"463.276875\"/>\r\n      </g>\r\n     </g>\r\n     <g id=\"text_6\">\r\n      <!-- 2 -->\r\n      <g transform=\"translate(383.054299 477.875312)scale(0.1 -0.1)\">\r\n       <use xlink:href=\"#DejaVuSans-50\"/>\r\n      </g>\r\n     </g>\r\n    </g>\r\n    <g id=\"xtick_7\">\r\n     <g id=\"line2d_13\">\r\n      <path clip-path=\"url(#p1a47312f5c)\" d=\"M 452.945632 463.276875 \r\nL 452.945632 28.396875 \r\n\" style=\"fill:none;stroke:#b0b0b0;stroke-linecap:square;stroke-width:0.8;\"/>\r\n     </g>\r\n     <g id=\"line2d_14\">\r\n      <g>\r\n       <use style=\"stroke:#000000;stroke-width:0.8;\" x=\"452.945632\" xlink:href=\"#m061e1fcd3b\" y=\"463.276875\"/>\r\n      </g>\r\n     </g>\r\n     <g id=\"text_7\">\r\n      <!-- 3 -->\r\n      <g transform=\"translate(449.764382 477.875312)scale(0.1 -0.1)\">\r\n       <use xlink:href=\"#DejaVuSans-51\"/>\r\n      </g>\r\n     </g>\r\n    </g>\r\n    <g id=\"text_8\">\r\n     <!-- Principal Component 1 -->\r\n     <g transform=\"translate(185.617578 495.352656)scale(0.15 -0.15)\">\r\n      <defs>\r\n       <path d=\"M 19.671875 64.796875 \r\nL 19.671875 37.40625 \r\nL 32.078125 37.40625 \r\nQ 38.96875 37.40625 42.71875 40.96875 \r\nQ 46.484375 44.53125 46.484375 51.125 \r\nQ 46.484375 57.671875 42.71875 61.234375 \r\nQ 38.96875 64.796875 32.078125 64.796875 \r\nz\r\nM 9.8125 72.90625 \r\nL 32.078125 72.90625 \r\nQ 44.34375 72.90625 50.609375 67.359375 \r\nQ 56.890625 61.8125 56.890625 51.125 \r\nQ 56.890625 40.328125 50.609375 34.8125 \r\nQ 44.34375 29.296875 32.078125 29.296875 \r\nL 19.671875 29.296875 \r\nL 19.671875 0 \r\nL 9.8125 0 \r\nz\r\n\" id=\"DejaVuSans-80\"/>\r\n       <path d=\"M 41.109375 46.296875 \r\nQ 39.59375 47.171875 37.8125 47.578125 \r\nQ 36.03125 48 33.890625 48 \r\nQ 26.265625 48 22.1875 43.046875 \r\nQ 18.109375 38.09375 18.109375 28.8125 \r\nL 18.109375 0 \r\nL 9.078125 0 \r\nL 9.078125 54.6875 \r\nL 18.109375 54.6875 \r\nL 18.109375 46.1875 \r\nQ 20.953125 51.171875 25.484375 53.578125 \r\nQ 30.03125 56 36.53125 56 \r\nQ 37.453125 56 38.578125 55.875 \r\nQ 39.703125 55.765625 41.0625 55.515625 \r\nz\r\n\" id=\"DejaVuSans-114\"/>\r\n       <path d=\"M 9.421875 54.6875 \r\nL 18.40625 54.6875 \r\nL 18.40625 0 \r\nL 9.421875 0 \r\nz\r\nM 9.421875 75.984375 \r\nL 18.40625 75.984375 \r\nL 18.40625 64.59375 \r\nL 9.421875 64.59375 \r\nz\r\n\" id=\"DejaVuSans-105\"/>\r\n       <path d=\"M 54.890625 33.015625 \r\nL 54.890625 0 \r\nL 45.90625 0 \r\nL 45.90625 32.71875 \r\nQ 45.90625 40.484375 42.875 44.328125 \r\nQ 39.84375 48.1875 33.796875 48.1875 \r\nQ 26.515625 48.1875 22.3125 43.546875 \r\nQ 18.109375 38.921875 18.109375 30.90625 \r\nL 18.109375 0 \r\nL 9.078125 0 \r\nL 9.078125 54.6875 \r\nL 18.109375 54.6875 \r\nL 18.109375 46.1875 \r\nQ 21.34375 51.125 25.703125 53.5625 \r\nQ 30.078125 56 35.796875 56 \r\nQ 45.21875 56 50.046875 50.171875 \r\nQ 54.890625 44.34375 54.890625 33.015625 \r\nz\r\n\" id=\"DejaVuSans-110\"/>\r\n       <path d=\"M 48.78125 52.59375 \r\nL 48.78125 44.1875 \r\nQ 44.96875 46.296875 41.140625 47.34375 \r\nQ 37.3125 48.390625 33.40625 48.390625 \r\nQ 24.65625 48.390625 19.8125 42.84375 \r\nQ 14.984375 37.3125 14.984375 27.296875 \r\nQ 14.984375 17.28125 19.8125 11.734375 \r\nQ 24.65625 6.203125 33.40625 6.203125 \r\nQ 37.3125 6.203125 41.140625 7.25 \r\nQ 44.96875 8.296875 48.78125 10.40625 \r\nL 48.78125 2.09375 \r\nQ 45.015625 0.34375 40.984375 -0.53125 \r\nQ 36.96875 -1.421875 32.421875 -1.421875 \r\nQ 20.0625 -1.421875 12.78125 6.34375 \r\nQ 5.515625 14.109375 5.515625 27.296875 \r\nQ 5.515625 40.671875 12.859375 48.328125 \r\nQ 20.21875 56 33.015625 56 \r\nQ 37.15625 56 41.109375 55.140625 \r\nQ 45.0625 54.296875 48.78125 52.59375 \r\nz\r\n\" id=\"DejaVuSans-99\"/>\r\n       <path d=\"M 18.109375 8.203125 \r\nL 18.109375 -20.796875 \r\nL 9.078125 -20.796875 \r\nL 9.078125 54.6875 \r\nL 18.109375 54.6875 \r\nL 18.109375 46.390625 \r\nQ 20.953125 51.265625 25.265625 53.625 \r\nQ 29.59375 56 35.59375 56 \r\nQ 45.5625 56 51.78125 48.09375 \r\nQ 58.015625 40.1875 58.015625 27.296875 \r\nQ 58.015625 14.40625 51.78125 6.484375 \r\nQ 45.5625 -1.421875 35.59375 -1.421875 \r\nQ 29.59375 -1.421875 25.265625 0.953125 \r\nQ 20.953125 3.328125 18.109375 8.203125 \r\nz\r\nM 48.6875 27.296875 \r\nQ 48.6875 37.203125 44.609375 42.84375 \r\nQ 40.53125 48.484375 33.40625 48.484375 \r\nQ 26.265625 48.484375 22.1875 42.84375 \r\nQ 18.109375 37.203125 18.109375 27.296875 \r\nQ 18.109375 17.390625 22.1875 11.75 \r\nQ 26.265625 6.109375 33.40625 6.109375 \r\nQ 40.53125 6.109375 44.609375 11.75 \r\nQ 48.6875 17.390625 48.6875 27.296875 \r\nz\r\n\" id=\"DejaVuSans-112\"/>\r\n       <path d=\"M 34.28125 27.484375 \r\nQ 23.390625 27.484375 19.1875 25 \r\nQ 14.984375 22.515625 14.984375 16.5 \r\nQ 14.984375 11.71875 18.140625 8.90625 \r\nQ 21.296875 6.109375 26.703125 6.109375 \r\nQ 34.1875 6.109375 38.703125 11.40625 \r\nQ 43.21875 16.703125 43.21875 25.484375 \r\nL 43.21875 27.484375 \r\nz\r\nM 52.203125 31.203125 \r\nL 52.203125 0 \r\nL 43.21875 0 \r\nL 43.21875 8.296875 \r\nQ 40.140625 3.328125 35.546875 0.953125 \r\nQ 30.953125 -1.421875 24.3125 -1.421875 \r\nQ 15.921875 -1.421875 10.953125 3.296875 \r\nQ 6 8.015625 6 15.921875 \r\nQ 6 25.140625 12.171875 29.828125 \r\nQ 18.359375 34.515625 30.609375 34.515625 \r\nL 43.21875 34.515625 \r\nL 43.21875 35.40625 \r\nQ 43.21875 41.609375 39.140625 45 \r\nQ 35.0625 48.390625 27.6875 48.390625 \r\nQ 23 48.390625 18.546875 47.265625 \r\nQ 14.109375 46.140625 10.015625 43.890625 \r\nL 10.015625 52.203125 \r\nQ 14.9375 54.109375 19.578125 55.046875 \r\nQ 24.21875 56 28.609375 56 \r\nQ 40.484375 56 46.34375 49.84375 \r\nQ 52.203125 43.703125 52.203125 31.203125 \r\nz\r\n\" id=\"DejaVuSans-97\"/>\r\n       <path d=\"M 9.421875 75.984375 \r\nL 18.40625 75.984375 \r\nL 18.40625 0 \r\nL 9.421875 0 \r\nz\r\n\" id=\"DejaVuSans-108\"/>\r\n       <path id=\"DejaVuSans-32\"/>\r\n       <path d=\"M 64.40625 67.28125 \r\nL 64.40625 56.890625 \r\nQ 59.421875 61.53125 53.78125 63.8125 \r\nQ 48.140625 66.109375 41.796875 66.109375 \r\nQ 29.296875 66.109375 22.65625 58.46875 \r\nQ 16.015625 50.828125 16.015625 36.375 \r\nQ 16.015625 21.96875 22.65625 14.328125 \r\nQ 29.296875 6.6875 41.796875 6.6875 \r\nQ 48.140625 6.6875 53.78125 8.984375 \r\nQ 59.421875 11.28125 64.40625 15.921875 \r\nL 64.40625 5.609375 \r\nQ 59.234375 2.09375 53.4375 0.328125 \r\nQ 47.65625 -1.421875 41.21875 -1.421875 \r\nQ 24.65625 -1.421875 15.125 8.703125 \r\nQ 5.609375 18.84375 5.609375 36.375 \r\nQ 5.609375 53.953125 15.125 64.078125 \r\nQ 24.65625 74.21875 41.21875 74.21875 \r\nQ 47.75 74.21875 53.53125 72.484375 \r\nQ 59.328125 70.75 64.40625 67.28125 \r\nz\r\n\" id=\"DejaVuSans-67\"/>\r\n       <path d=\"M 30.609375 48.390625 \r\nQ 23.390625 48.390625 19.1875 42.75 \r\nQ 14.984375 37.109375 14.984375 27.296875 \r\nQ 14.984375 17.484375 19.15625 11.84375 \r\nQ 23.34375 6.203125 30.609375 6.203125 \r\nQ 37.796875 6.203125 41.984375 11.859375 \r\nQ 46.1875 17.53125 46.1875 27.296875 \r\nQ 46.1875 37.015625 41.984375 42.703125 \r\nQ 37.796875 48.390625 30.609375 48.390625 \r\nz\r\nM 30.609375 56 \r\nQ 42.328125 56 49.015625 48.375 \r\nQ 55.71875 40.765625 55.71875 27.296875 \r\nQ 55.71875 13.875 49.015625 6.21875 \r\nQ 42.328125 -1.421875 30.609375 -1.421875 \r\nQ 18.84375 -1.421875 12.171875 6.21875 \r\nQ 5.515625 13.875 5.515625 27.296875 \r\nQ 5.515625 40.765625 12.171875 48.375 \r\nQ 18.84375 56 30.609375 56 \r\nz\r\n\" id=\"DejaVuSans-111\"/>\r\n       <path d=\"M 52 44.1875 \r\nQ 55.375 50.25 60.0625 53.125 \r\nQ 64.75 56 71.09375 56 \r\nQ 79.640625 56 84.28125 50.015625 \r\nQ 88.921875 44.046875 88.921875 33.015625 \r\nL 88.921875 0 \r\nL 79.890625 0 \r\nL 79.890625 32.71875 \r\nQ 79.890625 40.578125 77.09375 44.375 \r\nQ 74.3125 48.1875 68.609375 48.1875 \r\nQ 61.625 48.1875 57.5625 43.546875 \r\nQ 53.515625 38.921875 53.515625 30.90625 \r\nL 53.515625 0 \r\nL 44.484375 0 \r\nL 44.484375 32.71875 \r\nQ 44.484375 40.625 41.703125 44.40625 \r\nQ 38.921875 48.1875 33.109375 48.1875 \r\nQ 26.21875 48.1875 22.15625 43.53125 \r\nQ 18.109375 38.875 18.109375 30.90625 \r\nL 18.109375 0 \r\nL 9.078125 0 \r\nL 9.078125 54.6875 \r\nL 18.109375 54.6875 \r\nL 18.109375 46.1875 \r\nQ 21.1875 51.21875 25.484375 53.609375 \r\nQ 29.78125 56 35.6875 56 \r\nQ 41.65625 56 45.828125 52.96875 \r\nQ 50 49.953125 52 44.1875 \r\nz\r\n\" id=\"DejaVuSans-109\"/>\r\n       <path d=\"M 56.203125 29.59375 \r\nL 56.203125 25.203125 \r\nL 14.890625 25.203125 \r\nQ 15.484375 15.921875 20.484375 11.0625 \r\nQ 25.484375 6.203125 34.421875 6.203125 \r\nQ 39.59375 6.203125 44.453125 7.46875 \r\nQ 49.3125 8.734375 54.109375 11.28125 \r\nL 54.109375 2.78125 \r\nQ 49.265625 0.734375 44.1875 -0.34375 \r\nQ 39.109375 -1.421875 33.890625 -1.421875 \r\nQ 20.796875 -1.421875 13.15625 6.1875 \r\nQ 5.515625 13.8125 5.515625 26.8125 \r\nQ 5.515625 40.234375 12.765625 48.109375 \r\nQ 20.015625 56 32.328125 56 \r\nQ 43.359375 56 49.78125 48.890625 \r\nQ 56.203125 41.796875 56.203125 29.59375 \r\nz\r\nM 47.21875 32.234375 \r\nQ 47.125 39.59375 43.09375 43.984375 \r\nQ 39.0625 48.390625 32.421875 48.390625 \r\nQ 24.90625 48.390625 20.390625 44.140625 \r\nQ 15.875 39.890625 15.1875 32.171875 \r\nz\r\n\" id=\"DejaVuSans-101\"/>\r\n       <path d=\"M 18.3125 70.21875 \r\nL 18.3125 54.6875 \r\nL 36.8125 54.6875 \r\nL 36.8125 47.703125 \r\nL 18.3125 47.703125 \r\nL 18.3125 18.015625 \r\nQ 18.3125 11.328125 20.140625 9.421875 \r\nQ 21.96875 7.515625 27.59375 7.515625 \r\nL 36.8125 7.515625 \r\nL 36.8125 0 \r\nL 27.59375 0 \r\nQ 17.1875 0 13.234375 3.875 \r\nQ 9.28125 7.765625 9.28125 18.015625 \r\nL 9.28125 47.703125 \r\nL 2.6875 47.703125 \r\nL 2.6875 54.6875 \r\nL 9.28125 54.6875 \r\nL 9.28125 70.21875 \r\nz\r\n\" id=\"DejaVuSans-116\"/>\r\n      </defs>\r\n      <use xlink:href=\"#DejaVuSans-80\"/>\r\n      <use x=\"58.552734\" xlink:href=\"#DejaVuSans-114\"/>\r\n      <use x=\"99.666016\" xlink:href=\"#DejaVuSans-105\"/>\r\n      <use x=\"127.449219\" xlink:href=\"#DejaVuSans-110\"/>\r\n      <use x=\"190.828125\" xlink:href=\"#DejaVuSans-99\"/>\r\n      <use x=\"245.808594\" xlink:href=\"#DejaVuSans-105\"/>\r\n      <use x=\"273.591797\" xlink:href=\"#DejaVuSans-112\"/>\r\n      <use x=\"337.068359\" xlink:href=\"#DejaVuSans-97\"/>\r\n      <use x=\"398.347656\" xlink:href=\"#DejaVuSans-108\"/>\r\n      <use x=\"426.130859\" xlink:href=\"#DejaVuSans-32\"/>\r\n      <use x=\"457.917969\" xlink:href=\"#DejaVuSans-67\"/>\r\n      <use x=\"527.742188\" xlink:href=\"#DejaVuSans-111\"/>\r\n      <use x=\"588.923828\" xlink:href=\"#DejaVuSans-109\"/>\r\n      <use x=\"686.335938\" xlink:href=\"#DejaVuSans-112\"/>\r\n      <use x=\"749.8125\" xlink:href=\"#DejaVuSans-111\"/>\r\n      <use x=\"810.994141\" xlink:href=\"#DejaVuSans-110\"/>\r\n      <use x=\"874.373047\" xlink:href=\"#DejaVuSans-101\"/>\r\n      <use x=\"935.896484\" xlink:href=\"#DejaVuSans-110\"/>\r\n      <use x=\"999.275391\" xlink:href=\"#DejaVuSans-116\"/>\r\n      <use x=\"1038.484375\" xlink:href=\"#DejaVuSans-32\"/>\r\n      <use x=\"1070.271484\" xlink:href=\"#DejaVuSans-49\"/>\r\n     </g>\r\n    </g>\r\n   </g>\r\n   <g id=\"matplotlib.axis_2\">\r\n    <g id=\"ytick_1\">\r\n     <g id=\"line2d_15\">\r\n      <path clip-path=\"url(#p1a47312f5c)\" d=\"M 47.459375 395.156235 \r\nL 493.859375 395.156235 \r\n\" style=\"fill:none;stroke:#b0b0b0;stroke-linecap:square;stroke-width:0.8;\"/>\r\n     </g>\r\n     <g id=\"line2d_16\">\r\n      <defs>\r\n       <path d=\"M 0 0 \r\nL -3.5 0 \r\n\" id=\"m0d9e9b8417\" style=\"stroke:#000000;stroke-width:0.8;\"/>\r\n      </defs>\r\n      <g>\r\n       <use style=\"stroke:#000000;stroke-width:0.8;\" x=\"47.459375\" xlink:href=\"#m0d9e9b8417\" y=\"395.156235\"/>\r\n      </g>\r\n     </g>\r\n     <g id=\"text_9\">\r\n      <!-- −2 -->\r\n      <g transform=\"translate(25.717188 398.955454)scale(0.1 -0.1)\">\r\n       <use xlink:href=\"#DejaVuSans-8722\"/>\r\n       <use x=\"83.789062\" xlink:href=\"#DejaVuSans-50\"/>\r\n      </g>\r\n     </g>\r\n    </g>\r\n    <g id=\"ytick_2\">\r\n     <g id=\"line2d_17\">\r\n      <path clip-path=\"url(#p1a47312f5c)\" d=\"M 47.459375 321.677874 \r\nL 493.859375 321.677874 \r\n\" style=\"fill:none;stroke:#b0b0b0;stroke-linecap:square;stroke-width:0.8;\"/>\r\n     </g>\r\n     <g id=\"line2d_18\">\r\n      <g>\r\n       <use style=\"stroke:#000000;stroke-width:0.8;\" x=\"47.459375\" xlink:href=\"#m0d9e9b8417\" y=\"321.677874\"/>\r\n      </g>\r\n     </g>\r\n     <g id=\"text_10\">\r\n      <!-- −1 -->\r\n      <g transform=\"translate(25.717188 325.477093)scale(0.1 -0.1)\">\r\n       <use xlink:href=\"#DejaVuSans-8722\"/>\r\n       <use x=\"83.789062\" xlink:href=\"#DejaVuSans-49\"/>\r\n      </g>\r\n     </g>\r\n    </g>\r\n    <g id=\"ytick_3\">\r\n     <g id=\"line2d_19\">\r\n      <path clip-path=\"url(#p1a47312f5c)\" d=\"M 47.459375 248.199513 \r\nL 493.859375 248.199513 \r\n\" style=\"fill:none;stroke:#b0b0b0;stroke-linecap:square;stroke-width:0.8;\"/>\r\n     </g>\r\n     <g id=\"line2d_20\">\r\n      <g>\r\n       <use style=\"stroke:#000000;stroke-width:0.8;\" x=\"47.459375\" xlink:href=\"#m0d9e9b8417\" y=\"248.199513\"/>\r\n      </g>\r\n     </g>\r\n     <g id=\"text_11\">\r\n      <!-- 0 -->\r\n      <g transform=\"translate(34.096875 251.998732)scale(0.1 -0.1)\">\r\n       <use xlink:href=\"#DejaVuSans-48\"/>\r\n      </g>\r\n     </g>\r\n    </g>\r\n    <g id=\"ytick_4\">\r\n     <g id=\"line2d_21\">\r\n      <path clip-path=\"url(#p1a47312f5c)\" d=\"M 47.459375 174.721152 \r\nL 493.859375 174.721152 \r\n\" style=\"fill:none;stroke:#b0b0b0;stroke-linecap:square;stroke-width:0.8;\"/>\r\n     </g>\r\n     <g id=\"line2d_22\">\r\n      <g>\r\n       <use style=\"stroke:#000000;stroke-width:0.8;\" x=\"47.459375\" xlink:href=\"#m0d9e9b8417\" y=\"174.721152\"/>\r\n      </g>\r\n     </g>\r\n     <g id=\"text_12\">\r\n      <!-- 1 -->\r\n      <g transform=\"translate(34.096875 178.52037)scale(0.1 -0.1)\">\r\n       <use xlink:href=\"#DejaVuSans-49\"/>\r\n      </g>\r\n     </g>\r\n    </g>\r\n    <g id=\"ytick_5\">\r\n     <g id=\"line2d_23\">\r\n      <path clip-path=\"url(#p1a47312f5c)\" d=\"M 47.459375 101.242791 \r\nL 493.859375 101.242791 \r\n\" style=\"fill:none;stroke:#b0b0b0;stroke-linecap:square;stroke-width:0.8;\"/>\r\n     </g>\r\n     <g id=\"line2d_24\">\r\n      <g>\r\n       <use style=\"stroke:#000000;stroke-width:0.8;\" x=\"47.459375\" xlink:href=\"#m0d9e9b8417\" y=\"101.242791\"/>\r\n      </g>\r\n     </g>\r\n     <g id=\"text_13\">\r\n      <!-- 2 -->\r\n      <g transform=\"translate(34.096875 105.042009)scale(0.1 -0.1)\">\r\n       <use xlink:href=\"#DejaVuSans-50\"/>\r\n      </g>\r\n     </g>\r\n    </g>\r\n    <g id=\"text_14\">\r\n     <!-- Principal Component 2 -->\r\n     <g transform=\"translate(18.597656 330.878672)rotate(-90)scale(0.15 -0.15)\">\r\n      <use xlink:href=\"#DejaVuSans-80\"/>\r\n      <use x=\"58.552734\" xlink:href=\"#DejaVuSans-114\"/>\r\n      <use x=\"99.666016\" xlink:href=\"#DejaVuSans-105\"/>\r\n      <use x=\"127.449219\" xlink:href=\"#DejaVuSans-110\"/>\r\n      <use x=\"190.828125\" xlink:href=\"#DejaVuSans-99\"/>\r\n      <use x=\"245.808594\" xlink:href=\"#DejaVuSans-105\"/>\r\n      <use x=\"273.591797\" xlink:href=\"#DejaVuSans-112\"/>\r\n      <use x=\"337.068359\" xlink:href=\"#DejaVuSans-97\"/>\r\n      <use x=\"398.347656\" xlink:href=\"#DejaVuSans-108\"/>\r\n      <use x=\"426.130859\" xlink:href=\"#DejaVuSans-32\"/>\r\n      <use x=\"457.917969\" xlink:href=\"#DejaVuSans-67\"/>\r\n      <use x=\"527.742188\" xlink:href=\"#DejaVuSans-111\"/>\r\n      <use x=\"588.923828\" xlink:href=\"#DejaVuSans-109\"/>\r\n      <use x=\"686.335938\" xlink:href=\"#DejaVuSans-112\"/>\r\n      <use x=\"749.8125\" xlink:href=\"#DejaVuSans-111\"/>\r\n      <use x=\"810.994141\" xlink:href=\"#DejaVuSans-110\"/>\r\n      <use x=\"874.373047\" xlink:href=\"#DejaVuSans-101\"/>\r\n      <use x=\"935.896484\" xlink:href=\"#DejaVuSans-110\"/>\r\n      <use x=\"999.275391\" xlink:href=\"#DejaVuSans-116\"/>\r\n      <use x=\"1038.484375\" xlink:href=\"#DejaVuSans-32\"/>\r\n      <use x=\"1070.271484\" xlink:href=\"#DejaVuSans-50\"/>\r\n     </g>\r\n    </g>\r\n   </g>\r\n   <g id=\"patch_3\">\r\n    <path d=\"M 47.459375 463.276875 \r\nL 47.459375 28.396875 \r\n\" style=\"fill:none;stroke:#000000;stroke-linecap:square;stroke-linejoin:miter;stroke-width:0.8;\"/>\r\n   </g>\r\n   <g id=\"patch_4\">\r\n    <path d=\"M 493.859375 463.276875 \r\nL 493.859375 28.396875 \r\n\" style=\"fill:none;stroke:#000000;stroke-linecap:square;stroke-linejoin:miter;stroke-width:0.8;\"/>\r\n   </g>\r\n   <g id=\"patch_5\">\r\n    <path d=\"M 47.459375 463.276875 \r\nL 493.859375 463.276875 \r\n\" style=\"fill:none;stroke:#000000;stroke-linecap:square;stroke-linejoin:miter;stroke-width:0.8;\"/>\r\n   </g>\r\n   <g id=\"patch_6\">\r\n    <path d=\"M 47.459375 28.396875 \r\nL 493.859375 28.396875 \r\n\" style=\"fill:none;stroke:#000000;stroke-linecap:square;stroke-linejoin:miter;stroke-width:0.8;\"/>\r\n   </g>\r\n   <g id=\"text_15\">\r\n    <!-- 2 component PCA -->\r\n    <g transform=\"translate(181.514063 22.396875)scale(0.2 -0.2)\">\r\n     <defs>\r\n      <path d=\"M 34.1875 63.1875 \r\nL 20.796875 26.90625 \r\nL 47.609375 26.90625 \r\nz\r\nM 28.609375 72.90625 \r\nL 39.796875 72.90625 \r\nL 67.578125 0 \r\nL 57.328125 0 \r\nL 50.6875 18.703125 \r\nL 17.828125 18.703125 \r\nL 11.1875 0 \r\nL 0.78125 0 \r\nz\r\n\" id=\"DejaVuSans-65\"/>\r\n     </defs>\r\n     <use xlink:href=\"#DejaVuSans-50\"/>\r\n     <use x=\"63.623047\" xlink:href=\"#DejaVuSans-32\"/>\r\n     <use x=\"95.410156\" xlink:href=\"#DejaVuSans-99\"/>\r\n     <use x=\"150.390625\" xlink:href=\"#DejaVuSans-111\"/>\r\n     <use x=\"211.572266\" xlink:href=\"#DejaVuSans-109\"/>\r\n     <use x=\"308.984375\" xlink:href=\"#DejaVuSans-112\"/>\r\n     <use x=\"372.460938\" xlink:href=\"#DejaVuSans-111\"/>\r\n     <use x=\"433.642578\" xlink:href=\"#DejaVuSans-110\"/>\r\n     <use x=\"497.021484\" xlink:href=\"#DejaVuSans-101\"/>\r\n     <use x=\"558.544922\" xlink:href=\"#DejaVuSans-110\"/>\r\n     <use x=\"621.923828\" xlink:href=\"#DejaVuSans-116\"/>\r\n     <use x=\"661.132812\" xlink:href=\"#DejaVuSans-32\"/>\r\n     <use x=\"692.919922\" xlink:href=\"#DejaVuSans-80\"/>\r\n     <use x=\"753.222656\" xlink:href=\"#DejaVuSans-67\"/>\r\n     <use x=\"823.046875\" xlink:href=\"#DejaVuSans-65\"/>\r\n    </g>\r\n   </g>\r\n   <g id=\"legend_1\">\r\n    <g id=\"patch_7\">\r\n     <path d=\"M 387.670313 458.276875 \r\nL 486.859375 458.276875 \r\nQ 488.859375 458.276875 488.859375 456.276875 \r\nL 488.859375 413.2425 \r\nQ 488.859375 411.2425 486.859375 411.2425 \r\nL 387.670313 411.2425 \r\nQ 385.670313 411.2425 385.670313 413.2425 \r\nL 385.670313 456.276875 \r\nQ 385.670313 458.276875 387.670313 458.276875 \r\nz\r\n\" style=\"fill:#ffffff;opacity:0.8;stroke:#cccccc;stroke-linejoin:miter;\"/>\r\n    </g>\r\n    <g id=\"PathCollection_4\">\r\n     <g>\r\n      <use style=\"fill:#ff0000;stroke:#ff0000;\" x=\"399.670313\" xlink:href=\"#m6c846df834\" y=\"420.215937\"/>\r\n     </g>\r\n    </g>\r\n    <g id=\"text_16\">\r\n     <!-- Iris-setosa -->\r\n     <g transform=\"translate(417.670313 422.840937)scale(0.1 -0.1)\">\r\n      <defs>\r\n       <path d=\"M 9.8125 72.90625 \r\nL 19.671875 72.90625 \r\nL 19.671875 0 \r\nL 9.8125 0 \r\nz\r\n\" id=\"DejaVuSans-73\"/>\r\n       <path d=\"M 44.28125 53.078125 \r\nL 44.28125 44.578125 \r\nQ 40.484375 46.53125 36.375 47.5 \r\nQ 32.28125 48.484375 27.875 48.484375 \r\nQ 21.1875 48.484375 17.84375 46.4375 \r\nQ 14.5 44.390625 14.5 40.28125 \r\nQ 14.5 37.15625 16.890625 35.375 \r\nQ 19.28125 33.59375 26.515625 31.984375 \r\nL 29.59375 31.296875 \r\nQ 39.15625 29.25 43.1875 25.515625 \r\nQ 47.21875 21.78125 47.21875 15.09375 \r\nQ 47.21875 7.46875 41.1875 3.015625 \r\nQ 35.15625 -1.421875 24.609375 -1.421875 \r\nQ 20.21875 -1.421875 15.453125 -0.5625 \r\nQ 10.6875 0.296875 5.421875 2 \r\nL 5.421875 11.28125 \r\nQ 10.40625 8.6875 15.234375 7.390625 \r\nQ 20.0625 6.109375 24.8125 6.109375 \r\nQ 31.15625 6.109375 34.5625 8.28125 \r\nQ 37.984375 10.453125 37.984375 14.40625 \r\nQ 37.984375 18.0625 35.515625 20.015625 \r\nQ 33.0625 21.96875 24.703125 23.78125 \r\nL 21.578125 24.515625 \r\nQ 13.234375 26.265625 9.515625 29.90625 \r\nQ 5.8125 33.546875 5.8125 39.890625 \r\nQ 5.8125 47.609375 11.28125 51.796875 \r\nQ 16.75 56 26.8125 56 \r\nQ 31.78125 56 36.171875 55.265625 \r\nQ 40.578125 54.546875 44.28125 53.078125 \r\nz\r\n\" id=\"DejaVuSans-115\"/>\r\n       <path d=\"M 4.890625 31.390625 \r\nL 31.203125 31.390625 \r\nL 31.203125 23.390625 \r\nL 4.890625 23.390625 \r\nz\r\n\" id=\"DejaVuSans-45\"/>\r\n      </defs>\r\n      <use xlink:href=\"#DejaVuSans-73\"/>\r\n      <use x=\"29.492188\" xlink:href=\"#DejaVuSans-114\"/>\r\n      <use x=\"70.605469\" xlink:href=\"#DejaVuSans-105\"/>\r\n      <use x=\"98.388672\" xlink:href=\"#DejaVuSans-115\"/>\r\n      <use x=\"150.488281\" xlink:href=\"#DejaVuSans-45\"/>\r\n      <use x=\"186.572266\" xlink:href=\"#DejaVuSans-115\"/>\r\n      <use x=\"238.671875\" xlink:href=\"#DejaVuSans-101\"/>\r\n      <use x=\"300.195312\" xlink:href=\"#DejaVuSans-116\"/>\r\n      <use x=\"339.404297\" xlink:href=\"#DejaVuSans-111\"/>\r\n      <use x=\"400.585938\" xlink:href=\"#DejaVuSans-115\"/>\r\n      <use x=\"452.685547\" xlink:href=\"#DejaVuSans-97\"/>\r\n     </g>\r\n    </g>\r\n    <g id=\"PathCollection_5\">\r\n     <g>\r\n      <use style=\"fill:#008000;stroke:#008000;\" x=\"399.670313\" xlink:href=\"#m636f1338ec\" y=\"434.894062\"/>\r\n     </g>\r\n    </g>\r\n    <g id=\"text_17\">\r\n     <!-- Iris-versicolor -->\r\n     <g transform=\"translate(417.670313 437.519062)scale(0.1 -0.1)\">\r\n      <defs>\r\n       <path d=\"M 2.984375 54.6875 \r\nL 12.5 54.6875 \r\nL 29.59375 8.796875 \r\nL 46.6875 54.6875 \r\nL 56.203125 54.6875 \r\nL 35.6875 0 \r\nL 23.484375 0 \r\nz\r\n\" id=\"DejaVuSans-118\"/>\r\n      </defs>\r\n      <use xlink:href=\"#DejaVuSans-73\"/>\r\n      <use x=\"29.492188\" xlink:href=\"#DejaVuSans-114\"/>\r\n      <use x=\"70.605469\" xlink:href=\"#DejaVuSans-105\"/>\r\n      <use x=\"98.388672\" xlink:href=\"#DejaVuSans-115\"/>\r\n      <use x=\"150.488281\" xlink:href=\"#DejaVuSans-45\"/>\r\n      <use x=\"183.947266\" xlink:href=\"#DejaVuSans-118\"/>\r\n      <use x=\"243.126953\" xlink:href=\"#DejaVuSans-101\"/>\r\n      <use x=\"304.650391\" xlink:href=\"#DejaVuSans-114\"/>\r\n      <use x=\"345.763672\" xlink:href=\"#DejaVuSans-115\"/>\r\n      <use x=\"397.863281\" xlink:href=\"#DejaVuSans-105\"/>\r\n      <use x=\"425.646484\" xlink:href=\"#DejaVuSans-99\"/>\r\n      <use x=\"480.626953\" xlink:href=\"#DejaVuSans-111\"/>\r\n      <use x=\"541.808594\" xlink:href=\"#DejaVuSans-108\"/>\r\n      <use x=\"569.591797\" xlink:href=\"#DejaVuSans-111\"/>\r\n      <use x=\"630.773438\" xlink:href=\"#DejaVuSans-114\"/>\r\n     </g>\r\n    </g>\r\n    <g id=\"PathCollection_6\">\r\n     <g>\r\n      <use style=\"fill:#0000ff;stroke:#0000ff;\" x=\"399.670313\" xlink:href=\"#me6ef11b2e8\" y=\"449.572187\"/>\r\n     </g>\r\n    </g>\r\n    <g id=\"text_18\">\r\n     <!-- Iris-virginica -->\r\n     <g transform=\"translate(417.670313 452.197187)scale(0.1 -0.1)\">\r\n      <defs>\r\n       <path d=\"M 45.40625 27.984375 \r\nQ 45.40625 37.75 41.375 43.109375 \r\nQ 37.359375 48.484375 30.078125 48.484375 \r\nQ 22.859375 48.484375 18.828125 43.109375 \r\nQ 14.796875 37.75 14.796875 27.984375 \r\nQ 14.796875 18.265625 18.828125 12.890625 \r\nQ 22.859375 7.515625 30.078125 7.515625 \r\nQ 37.359375 7.515625 41.375 12.890625 \r\nQ 45.40625 18.265625 45.40625 27.984375 \r\nz\r\nM 54.390625 6.78125 \r\nQ 54.390625 -7.171875 48.1875 -13.984375 \r\nQ 42 -20.796875 29.203125 -20.796875 \r\nQ 24.46875 -20.796875 20.265625 -20.09375 \r\nQ 16.0625 -19.390625 12.109375 -17.921875 \r\nL 12.109375 -9.1875 \r\nQ 16.0625 -11.328125 19.921875 -12.34375 \r\nQ 23.78125 -13.375 27.78125 -13.375 \r\nQ 36.625 -13.375 41.015625 -8.765625 \r\nQ 45.40625 -4.15625 45.40625 5.171875 \r\nL 45.40625 9.625 \r\nQ 42.625 4.78125 38.28125 2.390625 \r\nQ 33.9375 0 27.875 0 \r\nQ 17.828125 0 11.671875 7.65625 \r\nQ 5.515625 15.328125 5.515625 27.984375 \r\nQ 5.515625 40.671875 11.671875 48.328125 \r\nQ 17.828125 56 27.875 56 \r\nQ 33.9375 56 38.28125 53.609375 \r\nQ 42.625 51.21875 45.40625 46.390625 \r\nL 45.40625 54.6875 \r\nL 54.390625 54.6875 \r\nz\r\n\" id=\"DejaVuSans-103\"/>\r\n      </defs>\r\n      <use xlink:href=\"#DejaVuSans-73\"/>\r\n      <use x=\"29.492188\" xlink:href=\"#DejaVuSans-114\"/>\r\n      <use x=\"70.605469\" xlink:href=\"#DejaVuSans-105\"/>\r\n      <use x=\"98.388672\" xlink:href=\"#DejaVuSans-115\"/>\r\n      <use x=\"150.488281\" xlink:href=\"#DejaVuSans-45\"/>\r\n      <use x=\"183.947266\" xlink:href=\"#DejaVuSans-118\"/>\r\n      <use x=\"243.126953\" xlink:href=\"#DejaVuSans-105\"/>\r\n      <use x=\"270.910156\" xlink:href=\"#DejaVuSans-114\"/>\r\n      <use x=\"310.273438\" xlink:href=\"#DejaVuSans-103\"/>\r\n      <use x=\"373.75\" xlink:href=\"#DejaVuSans-105\"/>\r\n      <use x=\"401.533203\" xlink:href=\"#DejaVuSans-110\"/>\r\n      <use x=\"464.912109\" xlink:href=\"#DejaVuSans-105\"/>\r\n      <use x=\"492.695312\" xlink:href=\"#DejaVuSans-99\"/>\r\n      <use x=\"547.675781\" xlink:href=\"#DejaVuSans-97\"/>\r\n     </g>\r\n    </g>\r\n   </g>\r\n  </g>\r\n </g>\r\n <defs>\r\n  <clipPath id=\"p1a47312f5c\">\r\n   <rect height=\"434.88\" width=\"446.4\" x=\"47.459375\" y=\"28.396875\"/>\r\n  </clipPath>\r\n </defs>\r\n</svg>\r\n",
            "text/plain": [
              "<Figure size 576x576 with 1 Axes>"
            ]
          },
          "metadata": {
            "needs_background": "light"
          }
        }
      ],
      "metadata": {}
    },
    {
      "cell_type": "markdown",
      "source": [
        "## 04. Feature Selection \r\n",
        "- 같은 의미라고 볼 수 있는 데이터 제거 \r\n",
        "- 아예 관계가 없는 데이터 제거 \r\n",
        "\r\n",
        "<방법>\r\n",
        "- 전문가가 알려줌 \r\n",
        "- embedded approaches 알고리즘이 알아서 결정 (ex decision tree, lasso, ridge)\r\n",
        "- filter approaches 알고리즘과 상관없이 feature만 보고 판단 (ex correlation 강하면 지우기)\r\n",
        "- wrapper approaches (feature 바꿔가면서 알고리즘이 좋은 성능을 낼 때까지 바꿔가면서 하기)\r\n",
        "\r\n",
        "https://subinium.github.io/feature-selection/"
      ],
      "metadata": {}
    },
    {
      "cell_type": "code",
      "execution_count": null,
      "source": [
        "# lasso \r\n",
        "\r\n",
        "# ridge \r\n"
      ],
      "outputs": [],
      "metadata": {}
    },
    {
      "cell_type": "markdown",
      "source": [
        "## +) feature weighting \r\n",
        "\r\n",
        "<방법>\r\n",
        " - 도메인 지식 사용 \r\n",
        " - 데이터 마이닝 알고리즘 사용 ex) SVM"
      ],
      "metadata": {}
    },
    {
      "cell_type": "markdown",
      "source": [
        "### SVM"
      ],
      "metadata": {}
    },
    {
      "cell_type": "code",
      "execution_count": 26,
      "source": [
        "from sklearn.svm import SVC\r\n",
        "\r\n",
        "classifier = SVC(kernel = \"linear\", c = 0.01) # 선형 svm 생성, 초평면(hyperplane)은 무조건 feature 수보다 한 차원 낮음 \r\n",
        "# 파라미터 c : 이상치 허용 의미 \r\n",
        "# c값이 클수록 하드마진, 작을수록 소프트마진 default 1 \r\n",
        "\r\n",
        "training_points = [[1, 2], [1, 5], [2, 2], [7, 5], [9, 4], [8, 2]]\r\n",
        "labels = [1, 1, 1, 0, 0, 0]\r\n",
        "\r\n",
        "classifier.fit(training_points, labels) # 학습데이터와 레이블 넣고 모델 생성 "
      ],
      "outputs": [
        {
          "output_type": "execute_result",
          "data": {
            "text/plain": [
              "SVC(C=1.0, break_ties=False, cache_size=200, class_weight=None, coef0=0.0,\n",
              "    decision_function_shape='ovr', degree=3, gamma='scale', kernel='linear',\n",
              "    max_iter=-1, probability=False, random_state=None, shrinking=True,\n",
              "    tol=0.001, verbose=False)"
            ]
          },
          "metadata": {},
          "execution_count": 26
        }
      ],
      "metadata": {}
    },
    {
      "cell_type": "code",
      "execution_count": 28,
      "source": [
        "print(classifier.predict([[3,2]])) # 예측해보기"
      ],
      "outputs": [
        {
          "output_type": "stream",
          "name": "stdout",
          "text": [
            "[1]\n"
          ]
        }
      ],
      "metadata": {}
    },
    {
      "cell_type": "code",
      "execution_count": 29,
      "source": [
        "classifier.support_vectors_ # 결정경계를 정의하는 서포트 벡터 확인 "
      ],
      "outputs": [
        {
          "output_type": "execute_result",
          "data": {
            "text/plain": [
              "array([[7., 5.],\n",
              "       [8., 2.],\n",
              "       [2., 2.]])"
            ]
          },
          "metadata": {},
          "execution_count": 29
        }
      ],
      "metadata": {}
    },
    {
      "cell_type": "markdown",
      "source": [
        "## 05. Feature Creation \r\n",
        "\r\n",
        "- mass, volume -> density \r\n",
        "\r\n",
        "## 06. Discretization and Binarization \r\n",
        "\r\n",
        "- 이산화,  이진화\r\n",
        "- 왜? 알고리즘이 요구하니깐 "
      ],
      "metadata": {}
    },
    {
      "cell_type": "markdown",
      "source": [
        "### 6- 1) Binarization"
      ],
      "metadata": {}
    },
    {
      "cell_type": "code",
      "execution_count": 30,
      "source": [
        "# one-hot encoding \r\n",
        "from tensorflow.keras.preprocessing.text import Tokenizer # 토큰화하는 것 \r\n",
        "from tensorflow.keras.utils import to_categorical # 카테고리형으로 변화 \r\n",
        "\r\n",
        "text = \"나랑 점심 먹자 점심\"\r\n",
        "\r\n",
        "t = Tokenizer()\r\n",
        "t.fit_on_texts([text]) # 토큰화 \r\n",
        "print(t.word_index)"
      ],
      "outputs": [
        {
          "output_type": "stream",
          "name": "stdout",
          "text": [
            "{'점심': 1, '나랑': 2, '먹자': 3}\n"
          ]
        }
      ],
      "metadata": {}
    },
    {
      "cell_type": "code",
      "execution_count": 31,
      "source": [
        "encoded = t.texts_to_sequences([text])[0]\r\n",
        "encoded"
      ],
      "outputs": [
        {
          "output_type": "execute_result",
          "data": {
            "text/plain": [
              "[2, 1, 3, 1]"
            ]
          },
          "metadata": {},
          "execution_count": 31
        }
      ],
      "metadata": {}
    },
    {
      "cell_type": "code",
      "execution_count": 33,
      "source": [
        "one_hot = to_categorical(encoded)\r\n",
        "one_hot"
      ],
      "outputs": [
        {
          "output_type": "execute_result",
          "data": {
            "text/plain": [
              "array([[0., 0., 1., 0.],\n",
              "       [0., 1., 0., 0.],\n",
              "       [0., 0., 0., 1.],\n",
              "       [0., 1., 0., 0.]], dtype=float32)"
            ]
          },
          "metadata": {},
          "execution_count": 33
        }
      ],
      "metadata": {}
    },
    {
      "cell_type": "code",
      "execution_count": 34,
      "source": [
        "#pd.get_dummies()\r\n",
        "\r\n",
        "fruit = [\"사과\",\"바나나\",\"딸기\"]\r\n",
        "\r\n",
        "df = pd.DataFrame({'과일' : fruit})\r\n",
        "df"
      ],
      "outputs": [
        {
          "output_type": "execute_result",
          "data": {
            "text/html": [
              "<div>\n",
              "<style scoped>\n",
              "    .dataframe tbody tr th:only-of-type {\n",
              "        vertical-align: middle;\n",
              "    }\n",
              "\n",
              "    .dataframe tbody tr th {\n",
              "        vertical-align: top;\n",
              "    }\n",
              "\n",
              "    .dataframe thead th {\n",
              "        text-align: right;\n",
              "    }\n",
              "</style>\n",
              "<table border=\"1\" class=\"dataframe\">\n",
              "  <thead>\n",
              "    <tr style=\"text-align: right;\">\n",
              "      <th></th>\n",
              "      <th>과일</th>\n",
              "    </tr>\n",
              "  </thead>\n",
              "  <tbody>\n",
              "    <tr>\n",
              "      <th>0</th>\n",
              "      <td>사과</td>\n",
              "    </tr>\n",
              "    <tr>\n",
              "      <th>1</th>\n",
              "      <td>바나나</td>\n",
              "    </tr>\n",
              "    <tr>\n",
              "      <th>2</th>\n",
              "      <td>딸기</td>\n",
              "    </tr>\n",
              "  </tbody>\n",
              "</table>\n",
              "</div>"
            ],
            "text/plain": [
              "    과일\n",
              "0   사과\n",
              "1  바나나\n",
              "2   딸기"
            ]
          },
          "metadata": {},
          "execution_count": 34
        }
      ],
      "metadata": {}
    },
    {
      "cell_type": "code",
      "execution_count": 35,
      "source": [
        "pd.get_dummies(df)"
      ],
      "outputs": [
        {
          "output_type": "execute_result",
          "data": {
            "text/html": [
              "<div>\n",
              "<style scoped>\n",
              "    .dataframe tbody tr th:only-of-type {\n",
              "        vertical-align: middle;\n",
              "    }\n",
              "\n",
              "    .dataframe tbody tr th {\n",
              "        vertical-align: top;\n",
              "    }\n",
              "\n",
              "    .dataframe thead th {\n",
              "        text-align: right;\n",
              "    }\n",
              "</style>\n",
              "<table border=\"1\" class=\"dataframe\">\n",
              "  <thead>\n",
              "    <tr style=\"text-align: right;\">\n",
              "      <th></th>\n",
              "      <th>과일_딸기</th>\n",
              "      <th>과일_바나나</th>\n",
              "      <th>과일_사과</th>\n",
              "    </tr>\n",
              "  </thead>\n",
              "  <tbody>\n",
              "    <tr>\n",
              "      <th>0</th>\n",
              "      <td>0</td>\n",
              "      <td>0</td>\n",
              "      <td>1</td>\n",
              "    </tr>\n",
              "    <tr>\n",
              "      <th>1</th>\n",
              "      <td>0</td>\n",
              "      <td>1</td>\n",
              "      <td>0</td>\n",
              "    </tr>\n",
              "    <tr>\n",
              "      <th>2</th>\n",
              "      <td>1</td>\n",
              "      <td>0</td>\n",
              "      <td>0</td>\n",
              "    </tr>\n",
              "  </tbody>\n",
              "</table>\n",
              "</div>"
            ],
            "text/plain": [
              "   과일_딸기  과일_바나나  과일_사과\n",
              "0      0       0      1\n",
              "1      0       1      0\n",
              "2      1       0      0"
            ]
          },
          "metadata": {},
          "execution_count": 35
        }
      ],
      "metadata": {}
    },
    {
      "cell_type": "code",
      "execution_count": 36,
      "source": [
        "pd.get_dummies(df, drop_first= True) # 2가지 열로 3개를 구분할 수 있기 때문에"
      ],
      "outputs": [
        {
          "output_type": "execute_result",
          "data": {
            "text/html": [
              "<div>\n",
              "<style scoped>\n",
              "    .dataframe tbody tr th:only-of-type {\n",
              "        vertical-align: middle;\n",
              "    }\n",
              "\n",
              "    .dataframe tbody tr th {\n",
              "        vertical-align: top;\n",
              "    }\n",
              "\n",
              "    .dataframe thead th {\n",
              "        text-align: right;\n",
              "    }\n",
              "</style>\n",
              "<table border=\"1\" class=\"dataframe\">\n",
              "  <thead>\n",
              "    <tr style=\"text-align: right;\">\n",
              "      <th></th>\n",
              "      <th>과일_바나나</th>\n",
              "      <th>과일_사과</th>\n",
              "    </tr>\n",
              "  </thead>\n",
              "  <tbody>\n",
              "    <tr>\n",
              "      <th>0</th>\n",
              "      <td>0</td>\n",
              "      <td>1</td>\n",
              "    </tr>\n",
              "    <tr>\n",
              "      <th>1</th>\n",
              "      <td>1</td>\n",
              "      <td>0</td>\n",
              "    </tr>\n",
              "    <tr>\n",
              "      <th>2</th>\n",
              "      <td>0</td>\n",
              "      <td>0</td>\n",
              "    </tr>\n",
              "  </tbody>\n",
              "</table>\n",
              "</div>"
            ],
            "text/plain": [
              "   과일_바나나  과일_사과\n",
              "0       0      1\n",
              "1       1      0\n",
              "2       0      0"
            ]
          },
          "metadata": {},
          "execution_count": 36
        }
      ],
      "metadata": {}
    },
    {
      "cell_type": "code",
      "execution_count": 37,
      "source": [
        "pd.get_dummies(df['과일'])"
      ],
      "outputs": [
        {
          "output_type": "execute_result",
          "data": {
            "text/html": [
              "<div>\n",
              "<style scoped>\n",
              "    .dataframe tbody tr th:only-of-type {\n",
              "        vertical-align: middle;\n",
              "    }\n",
              "\n",
              "    .dataframe tbody tr th {\n",
              "        vertical-align: top;\n",
              "    }\n",
              "\n",
              "    .dataframe thead th {\n",
              "        text-align: right;\n",
              "    }\n",
              "</style>\n",
              "<table border=\"1\" class=\"dataframe\">\n",
              "  <thead>\n",
              "    <tr style=\"text-align: right;\">\n",
              "      <th></th>\n",
              "      <th>딸기</th>\n",
              "      <th>바나나</th>\n",
              "      <th>사과</th>\n",
              "    </tr>\n",
              "  </thead>\n",
              "  <tbody>\n",
              "    <tr>\n",
              "      <th>0</th>\n",
              "      <td>0</td>\n",
              "      <td>0</td>\n",
              "      <td>1</td>\n",
              "    </tr>\n",
              "    <tr>\n",
              "      <th>1</th>\n",
              "      <td>0</td>\n",
              "      <td>1</td>\n",
              "      <td>0</td>\n",
              "    </tr>\n",
              "    <tr>\n",
              "      <th>2</th>\n",
              "      <td>1</td>\n",
              "      <td>0</td>\n",
              "      <td>0</td>\n",
              "    </tr>\n",
              "  </tbody>\n",
              "</table>\n",
              "</div>"
            ],
            "text/plain": [
              "   딸기  바나나  사과\n",
              "0   0    0   1\n",
              "1   0    1   0\n",
              "2   1    0   0"
            ]
          },
          "metadata": {},
          "execution_count": 37
        }
      ],
      "metadata": {}
    },
    {
      "cell_type": "markdown",
      "source": [
        "### 6-2) Discretization \r\n",
        "- 몇 개 카테고리로 할 지 결정 \r\n",
        "- 연속 데이터를 n개의 간격으로 나눔 \r\n",
        "- 각 카테고리에 연결 \r\n",
        "\r\n",
        "<접근법>\r\n",
        "- 고정된 길이 사용 \r\n",
        "- 고정된 개수 사용 \r\n",
        "- clustering-based discretization ex) k-means "
      ],
      "metadata": {}
    },
    {
      "cell_type": "code",
      "execution_count": 41,
      "source": [
        "age = pd.Series([12,13,15,20,40,33,42,27,31,35])\r\n",
        "\r\n",
        "age_category = pd.Series([10,20,30,40]) \r\n",
        "age_category = age_category.astype(\"category\")\r\n",
        "age_category"
      ],
      "outputs": [
        {
          "output_type": "execute_result",
          "data": {
            "text/plain": [
              "0    10\n",
              "1    20\n",
              "2    30\n",
              "3    40\n",
              "dtype: category\n",
              "Categories (4, int64): [10, 20, 30, 40]"
            ]
          },
          "metadata": {},
          "execution_count": 41
        }
      ],
      "metadata": {}
    },
    {
      "cell_type": "code",
      "execution_count": 47,
      "source": [
        "for i in range(len(age)) :  # 코드가 굉장히 비효율적이군... 어차피 값 치환하고나서 나중에 category화 해주는 것이 낫겠군 \r\n",
        "    if age[i] <20 : \r\n",
        "        age[i] = age_category[0]\r\n",
        "    elif age[i] < 30 : \r\n",
        "        age[i] = age_category[1]\r\n",
        "    elif age[i] < 40 : \r\n",
        "        age[i] = age_category[2]\r\n",
        "    else : \r\n",
        "        age[i] = age_category[3]\r\n",
        "age"
      ],
      "outputs": [
        {
          "output_type": "execute_result",
          "data": {
            "text/plain": [
              "0    10\n",
              "1    10\n",
              "2    10\n",
              "3    20\n",
              "4    40\n",
              "5    30\n",
              "6    40\n",
              "7    20\n",
              "8    30\n",
              "9    30\n",
              "dtype: int64"
            ]
          },
          "metadata": {},
          "execution_count": 47
        }
      ],
      "metadata": {}
    },
    {
      "cell_type": "markdown",
      "source": [
        "## 07. Variable Transformation \r\n",
        "\r\n",
        "- simple functions ex) log\r\n",
        "- normalization or standardization (정규화 또는 표준화)"
      ],
      "metadata": {}
    },
    {
      "cell_type": "code",
      "execution_count": 48,
      "source": [
        "df = pd.DataFrame({\"age\" : [24,67,25],\r\n",
        "    \"salary\": [25000, 25050, 25100]})\r\n",
        "df"
      ],
      "outputs": [
        {
          "output_type": "execute_result",
          "data": {
            "text/html": [
              "<div>\n",
              "<style scoped>\n",
              "    .dataframe tbody tr th:only-of-type {\n",
              "        vertical-align: middle;\n",
              "    }\n",
              "\n",
              "    .dataframe tbody tr th {\n",
              "        vertical-align: top;\n",
              "    }\n",
              "\n",
              "    .dataframe thead th {\n",
              "        text-align: right;\n",
              "    }\n",
              "</style>\n",
              "<table border=\"1\" class=\"dataframe\">\n",
              "  <thead>\n",
              "    <tr style=\"text-align: right;\">\n",
              "      <th></th>\n",
              "      <th>age</th>\n",
              "      <th>salary</th>\n",
              "    </tr>\n",
              "  </thead>\n",
              "  <tbody>\n",
              "    <tr>\n",
              "      <th>0</th>\n",
              "      <td>24</td>\n",
              "      <td>25000</td>\n",
              "    </tr>\n",
              "    <tr>\n",
              "      <th>1</th>\n",
              "      <td>67</td>\n",
              "      <td>25050</td>\n",
              "    </tr>\n",
              "    <tr>\n",
              "      <th>2</th>\n",
              "      <td>25</td>\n",
              "      <td>25100</td>\n",
              "    </tr>\n",
              "  </tbody>\n",
              "</table>\n",
              "</div>"
            ],
            "text/plain": [
              "   age  salary\n",
              "0   24   25000\n",
              "1   67   25050\n",
              "2   25   25100"
            ]
          },
          "metadata": {},
          "execution_count": 48
        }
      ],
      "metadata": {}
    },
    {
      "cell_type": "code",
      "execution_count": null,
      "source": [
        "df = pd.DataFrame({\r\n",
        "    \"x\" : [10,20,30,10,22,30,44,7,53]\r\n",
        "})\r\n",
        "df"
      ],
      "outputs": [],
      "metadata": {}
    },
    {
      "cell_type": "code",
      "execution_count": 54,
      "source": [
        "# 평균 \r\n",
        "x_bar = sum(df.x)/len(df.x)\r\n",
        "x_bar"
      ],
      "outputs": [
        {
          "output_type": "execute_result",
          "data": {
            "text/plain": [
              "25.11111111111111"
            ]
          },
          "metadata": {},
          "execution_count": 54
        }
      ],
      "metadata": {}
    },
    {
      "cell_type": "code",
      "execution_count": 55,
      "source": [
        "# 모분산 \r\n",
        "df['편차'] = df['x'] - x_bar\r\n",
        "df['편차제곱'] = df['편차']**2\r\n",
        "var = sum(df['편차제곱'])/len(df)\r\n",
        "var"
      ],
      "outputs": [
        {
          "output_type": "execute_result",
          "data": {
            "text/plain": [
              "222.54320987654324"
            ]
          },
          "metadata": {},
          "execution_count": 55
        }
      ],
      "metadata": {}
    },
    {
      "cell_type": "code",
      "execution_count": 56,
      "source": [
        "# 모표준편차\r\n",
        "stdev = var**(1/2)\r\n",
        "stdev"
      ],
      "outputs": [
        {
          "output_type": "execute_result",
          "data": {
            "text/plain": [
              "14.917882218215267"
            ]
          },
          "metadata": {},
          "execution_count": 56
        }
      ],
      "metadata": {}
    },
    {
      "cell_type": "code",
      "execution_count": 58,
      "source": [
        "# 표준화\r\n",
        "# numpy \r\n",
        "import numpy as np \r\n",
        "(df['x']-np.mean(df['x']))/np.std(df['x'])"
      ],
      "outputs": [
        {
          "output_type": "execute_result",
          "data": {
            "text/plain": [
              "0   -1.012953\n",
              "1   -0.342616\n",
              "2    0.327720\n",
              "3   -1.012953\n",
              "4   -0.208549\n",
              "5    0.327720\n",
              "6    1.266191\n",
              "7   -1.214054\n",
              "8    1.869494\n",
              "Name: x, dtype: float64"
            ]
          },
          "metadata": {},
          "execution_count": 58
        }
      ],
      "metadata": {}
    },
    {
      "cell_type": "code",
      "execution_count": 59,
      "source": [
        "# zscore \r\n",
        "import scipy.stats as ss \r\n",
        "data_ss = ss.zscore(df['x'])\r\n",
        "data_ss"
      ],
      "outputs": [
        {
          "output_type": "execute_result",
          "data": {
            "text/plain": [
              "array([-1.01295284, -0.3426164 ,  0.32772004, -1.01295284, -0.20854911,\n",
              "        0.32772004,  1.26619105, -1.21405377,  1.86949384])"
            ]
          },
          "metadata": {},
          "execution_count": 59
        }
      ],
      "metadata": {}
    },
    {
      "cell_type": "code",
      "execution_count": 87,
      "source": [
        "# sklearn\r\n",
        "import sklearn \r\n",
        "from sklearn.preprocessing import *\r\n",
        "\r\n",
        "data = np.random.randint(30, size = (3,1))\r\n",
        "\r\n",
        "ss_data = StandardScaler().fit_transform(data)\r\n",
        "ss_data"
      ],
      "outputs": [
        {
          "output_type": "execute_result",
          "data": {
            "text/plain": [
              "array([[ 0.56195149],\n",
              "       [-1.40487872],\n",
              "       [ 0.84292723]])"
            ]
          },
          "metadata": {},
          "execution_count": 87
        }
      ],
      "metadata": {}
    },
    {
      "cell_type": "code",
      "execution_count": 95,
      "source": [
        "# 정규화 (0~1)\r\n",
        "# 수식\r\n",
        "data = np.random.randint(1,100,size=(4,5))\r\n",
        "data_mm = (data - data.min(axis = 0)) / (data.max(axis = 0) - data.min(axis = 0))\r\n",
        "print(data_mm)"
      ],
      "outputs": [
        {
          "output_type": "stream",
          "name": "stdout",
          "text": [
            "[[0.59493671 0.17647059 0.         1.         0.93506494]\n",
            " [0.35443038 0.         1.         0.         0.51948052]\n",
            " [1.         1.         0.61702128 0.84285714 0.        ]\n",
            " [0.         0.52941176 0.21276596 0.01428571 1.        ]]\n"
          ]
        }
      ],
      "metadata": {}
    },
    {
      "cell_type": "code",
      "execution_count": 97,
      "source": [
        "# sklearn.preprocessing \r\n",
        "data_ms=MinMaxScaler().fit_transform(data)\r\n",
        "print(data_ms)\r\n"
      ],
      "outputs": [
        {
          "output_type": "stream",
          "name": "stdout",
          "text": [
            "[[0.59493671 0.17647059 0.         1.         0.93506494]\n",
            " [0.35443038 0.         1.         0.         0.51948052]\n",
            " [1.         1.         0.61702128 0.84285714 0.        ]\n",
            " [0.         0.52941176 0.21276596 0.01428571 1.        ]]\n"
          ]
        }
      ],
      "metadata": {}
    },
    {
      "cell_type": "code",
      "execution_count": null,
      "source": [],
      "outputs": [],
      "metadata": {}
    }
  ]
}