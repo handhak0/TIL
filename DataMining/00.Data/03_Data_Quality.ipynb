{
  "nbformat": 4,
  "nbformat_minor": 0,
  "metadata": {
    "colab": {
      "name": "03.Data Quality.ipynb",
      "provenance": [],
      "collapsed_sections": []
    },
    "kernelspec": {
      "name": "python3",
      "display_name": "Python 3"
    },
    "language_info": {
      "name": "python"
    }
  },
  "cells": [
    {
      "cell_type": "markdown",
      "metadata": {
        "id": "5afZl-Lh_n98"
      },
      "source": [
        "# Prevent Data quality Problems \n",
        "- the detection and correction of problems \n",
        "- algorithms \n"
      ]
    },
    {
      "cell_type": "markdown",
      "metadata": {
        "id": "gVEOHAJW_4Rl"
      },
      "source": [
        "# Measurement and Data Collection Errors \n",
        "\n",
        "- Measurement error (측정자체의 오류) = Outlier \n",
        "  - Noise \n",
        "  - Artifact (기계가 망가진 경우) \n",
        "\n",
        "- Data collection error (수집 중 오류 - 데이터를 빼먹거나, 속성 값 하나 뺀 경우 등) = Outlier, Missing Values, Inconsistent Values, Duplicate Data \n",
        "\n",
        "[이상치, 결측치, 일관성 없는 값(음수인 키), 중복데이터] "
      ]
    },
    {
      "cell_type": "markdown",
      "metadata": {
        "id": "tF2gFVeWBP0U"
      },
      "source": [
        "# Data Preprocessing \n",
        "\n",
        "## 01. Aggregation (집계연산)\n",
        "- 2개 이상의 objects를 한 개로 합침 \n",
        "\n",
        "- 왜 사용? \n",
        "  - less memory \n",
        "  - high-level view (각 상점 -> 각 지역)\n",
        "  - more stable (시간 별 온도 -> 하루 온도(평균)) \n",
        "\n",
        "- 단점 \n",
        "  - 원본데이터만큼의 정보가 날라간다"
      ]
    },
    {
      "cell_type": "code",
      "metadata": {
        "colab": {
          "base_uri": "https://localhost:8080/",
          "height": 545
        },
        "id": "Dh5g9Bbc96j0",
        "outputId": "9761b18c-b9dd-4fd4-92b2-74748d63980a"
      },
      "source": [
        "department = [10,10,20,20,20,20,30,30,40,50,50,70,70,70,70,70]\n",
        "salary = [100,200,300,40,1000,200,340,500,60,700,100,2000,300,400,5000,100]\n",
        "import pandas as pd\n",
        "df = pd.DataFrame({\n",
        "    \"de\" : department, \n",
        "    \"sal\" : salary\n",
        "})\n",
        "df"
      ],
      "execution_count": 3,
      "outputs": [
        {
          "output_type": "execute_result",
          "data": {
            "text/html": [
              "<div>\n",
              "<style scoped>\n",
              "    .dataframe tbody tr th:only-of-type {\n",
              "        vertical-align: middle;\n",
              "    }\n",
              "\n",
              "    .dataframe tbody tr th {\n",
              "        vertical-align: top;\n",
              "    }\n",
              "\n",
              "    .dataframe thead th {\n",
              "        text-align: right;\n",
              "    }\n",
              "</style>\n",
              "<table border=\"1\" class=\"dataframe\">\n",
              "  <thead>\n",
              "    <tr style=\"text-align: right;\">\n",
              "      <th></th>\n",
              "      <th>de</th>\n",
              "      <th>sal</th>\n",
              "    </tr>\n",
              "  </thead>\n",
              "  <tbody>\n",
              "    <tr>\n",
              "      <th>0</th>\n",
              "      <td>10</td>\n",
              "      <td>100</td>\n",
              "    </tr>\n",
              "    <tr>\n",
              "      <th>1</th>\n",
              "      <td>10</td>\n",
              "      <td>200</td>\n",
              "    </tr>\n",
              "    <tr>\n",
              "      <th>2</th>\n",
              "      <td>20</td>\n",
              "      <td>300</td>\n",
              "    </tr>\n",
              "    <tr>\n",
              "      <th>3</th>\n",
              "      <td>20</td>\n",
              "      <td>40</td>\n",
              "    </tr>\n",
              "    <tr>\n",
              "      <th>4</th>\n",
              "      <td>20</td>\n",
              "      <td>1000</td>\n",
              "    </tr>\n",
              "    <tr>\n",
              "      <th>5</th>\n",
              "      <td>20</td>\n",
              "      <td>200</td>\n",
              "    </tr>\n",
              "    <tr>\n",
              "      <th>6</th>\n",
              "      <td>30</td>\n",
              "      <td>340</td>\n",
              "    </tr>\n",
              "    <tr>\n",
              "      <th>7</th>\n",
              "      <td>30</td>\n",
              "      <td>500</td>\n",
              "    </tr>\n",
              "    <tr>\n",
              "      <th>8</th>\n",
              "      <td>40</td>\n",
              "      <td>60</td>\n",
              "    </tr>\n",
              "    <tr>\n",
              "      <th>9</th>\n",
              "      <td>50</td>\n",
              "      <td>700</td>\n",
              "    </tr>\n",
              "    <tr>\n",
              "      <th>10</th>\n",
              "      <td>50</td>\n",
              "      <td>100</td>\n",
              "    </tr>\n",
              "    <tr>\n",
              "      <th>11</th>\n",
              "      <td>70</td>\n",
              "      <td>2000</td>\n",
              "    </tr>\n",
              "    <tr>\n",
              "      <th>12</th>\n",
              "      <td>70</td>\n",
              "      <td>300</td>\n",
              "    </tr>\n",
              "    <tr>\n",
              "      <th>13</th>\n",
              "      <td>70</td>\n",
              "      <td>400</td>\n",
              "    </tr>\n",
              "    <tr>\n",
              "      <th>14</th>\n",
              "      <td>70</td>\n",
              "      <td>5000</td>\n",
              "    </tr>\n",
              "    <tr>\n",
              "      <th>15</th>\n",
              "      <td>70</td>\n",
              "      <td>100</td>\n",
              "    </tr>\n",
              "  </tbody>\n",
              "</table>\n",
              "</div>"
            ],
            "text/plain": [
              "    de   sal\n",
              "0   10   100\n",
              "1   10   200\n",
              "2   20   300\n",
              "3   20    40\n",
              "4   20  1000\n",
              "5   20   200\n",
              "6   30   340\n",
              "7   30   500\n",
              "8   40    60\n",
              "9   50   700\n",
              "10  50   100\n",
              "11  70  2000\n",
              "12  70   300\n",
              "13  70   400\n",
              "14  70  5000\n",
              "15  70   100"
            ]
          },
          "metadata": {},
          "execution_count": 3
        }
      ]
    },
    {
      "cell_type": "code",
      "metadata": {
        "colab": {
          "base_uri": "https://localhost:8080/",
          "height": 235
        },
        "id": "MZQ-pt5UC_Zr",
        "outputId": "d64bb9ec-5cfa-4c82-fbe7-b72289e91893"
      },
      "source": [
        "df2 = df.groupby('de').sum()\n",
        "df2.reset_index(inplace = True)\n",
        "df2"
      ],
      "execution_count": 5,
      "outputs": [
        {
          "output_type": "execute_result",
          "data": {
            "text/html": [
              "<div>\n",
              "<style scoped>\n",
              "    .dataframe tbody tr th:only-of-type {\n",
              "        vertical-align: middle;\n",
              "    }\n",
              "\n",
              "    .dataframe tbody tr th {\n",
              "        vertical-align: top;\n",
              "    }\n",
              "\n",
              "    .dataframe thead th {\n",
              "        text-align: right;\n",
              "    }\n",
              "</style>\n",
              "<table border=\"1\" class=\"dataframe\">\n",
              "  <thead>\n",
              "    <tr style=\"text-align: right;\">\n",
              "      <th></th>\n",
              "      <th>de</th>\n",
              "      <th>sal</th>\n",
              "    </tr>\n",
              "  </thead>\n",
              "  <tbody>\n",
              "    <tr>\n",
              "      <th>0</th>\n",
              "      <td>10</td>\n",
              "      <td>300</td>\n",
              "    </tr>\n",
              "    <tr>\n",
              "      <th>1</th>\n",
              "      <td>20</td>\n",
              "      <td>1540</td>\n",
              "    </tr>\n",
              "    <tr>\n",
              "      <th>2</th>\n",
              "      <td>30</td>\n",
              "      <td>840</td>\n",
              "    </tr>\n",
              "    <tr>\n",
              "      <th>3</th>\n",
              "      <td>40</td>\n",
              "      <td>60</td>\n",
              "    </tr>\n",
              "    <tr>\n",
              "      <th>4</th>\n",
              "      <td>50</td>\n",
              "      <td>800</td>\n",
              "    </tr>\n",
              "    <tr>\n",
              "      <th>5</th>\n",
              "      <td>70</td>\n",
              "      <td>7800</td>\n",
              "    </tr>\n",
              "  </tbody>\n",
              "</table>\n",
              "</div>"
            ],
            "text/plain": [
              "   de   sal\n",
              "0  10   300\n",
              "1  20  1540\n",
              "2  30   840\n",
              "3  40    60\n",
              "4  50   800\n",
              "5  70  7800"
            ]
          },
          "metadata": {},
          "execution_count": 5
        }
      ]
    },
    {
      "cell_type": "markdown",
      "metadata": {
        "id": "30FtaW_UDrrI"
      },
      "source": [
        "## 02. Sampling \n",
        "\n",
        "- 왜 사용? \n",
        "  - 통계학자 : 전체 데이터 수집 too expensive \n",
        "  - 데이터 : 전체 데이터 전처리 too expensive \n",
        "\n",
        "- Key principle \n",
        "  - Use a representative sample "
      ]
    },
    {
      "cell_type": "markdown",
      "metadata": {
        "id": "yktGVyzykBil"
      },
      "source": [
        "### 2-1) simple random sampling "
      ]
    },
    {
      "cell_type": "code",
      "metadata": {
        "colab": {
          "base_uri": "https://localhost:8080/"
        },
        "id": "OrYxhFv9DJUu",
        "outputId": "fd4f1534-1d41-4593-f51b-550aa0985705"
      },
      "source": [
        "# simple random sampling \n",
        "\n",
        "## 복원 추출 \n",
        "import numpy as np \n",
        "\n",
        "### 1) 시드설정 \n",
        "np.random.seed(0)\n",
        "\n",
        "### 2) 난수생성 \n",
        "np.random.rand(16)"
      ],
      "execution_count": 6,
      "outputs": [
        {
          "output_type": "execute_result",
          "data": {
            "text/plain": [
              "array([0.5488135 , 0.71518937, 0.60276338, 0.54488318, 0.4236548 ,\n",
              "       0.64589411, 0.43758721, 0.891773  , 0.96366276, 0.38344152,\n",
              "       0.79172504, 0.52889492, 0.56804456, 0.92559664, 0.07103606,\n",
              "       0.0871293 ])"
            ]
          },
          "metadata": {},
          "execution_count": 6
        }
      ]
    },
    {
      "cell_type": "code",
      "metadata": {
        "colab": {
          "base_uri": "https://localhost:8080/"
        },
        "id": "SJTThUTadJF1",
        "outputId": "14edd327-c2c5-437a-d823-6a8581a71b3d"
      },
      "source": [
        "### 3) 데이터 순서 바꾸기 \n",
        "x = np.arange(10)\n",
        "x "
      ],
      "execution_count": 7,
      "outputs": [
        {
          "output_type": "execute_result",
          "data": {
            "text/plain": [
              "array([0, 1, 2, 3, 4, 5, 6, 7, 8, 9])"
            ]
          },
          "metadata": {},
          "execution_count": 7
        }
      ]
    },
    {
      "cell_type": "code",
      "metadata": {
        "colab": {
          "base_uri": "https://localhost:8080/"
        },
        "id": "NbWBHG6ldKqK",
        "outputId": "cc579dc6-2fd6-49c1-cf6e-941d8fa79e18"
      },
      "source": [
        "np.random.shuffle(x) # inplace = True와 같음 \n",
        "x"
      ],
      "execution_count": 8,
      "outputs": [
        {
          "output_type": "execute_result",
          "data": {
            "text/plain": [
              "array([4, 1, 6, 7, 2, 8, 5, 9, 0, 3])"
            ]
          },
          "metadata": {},
          "execution_count": 8
        }
      ]
    },
    {
      "cell_type": "code",
      "metadata": {
        "colab": {
          "base_uri": "https://localhost:8080/"
        },
        "id": "hqlRLBx5dKgh",
        "outputId": "6ec1a716-db80-4033-89a1-4420d35f2b6f"
      },
      "source": [
        "x = np.arange(10)\n",
        "x"
      ],
      "execution_count": 9,
      "outputs": [
        {
          "output_type": "execute_result",
          "data": {
            "text/plain": [
              "array([0, 1, 2, 3, 4, 5, 6, 7, 8, 9])"
            ]
          },
          "metadata": {},
          "execution_count": 9
        }
      ]
    },
    {
      "cell_type": "code",
      "metadata": {
        "colab": {
          "base_uri": "https://localhost:8080/"
        },
        "id": "KgXypOMIdVIH",
        "outputId": "f19b120b-9b1a-49da-bdfb-0d1314c42b0a"
      },
      "source": [
        "np.random.permutation(x) # return만 "
      ],
      "execution_count": 10,
      "outputs": [
        {
          "output_type": "execute_result",
          "data": {
            "text/plain": [
              "array([5, 2, 7, 4, 1, 0, 6, 8, 9, 3])"
            ]
          },
          "metadata": {},
          "execution_count": 10
        }
      ]
    },
    {
      "cell_type": "markdown",
      "metadata": {
        "id": "A8xn-9LcdtVm"
      },
      "source": [
        "`np.random.choice(a, size = , replace =, p = )`\n",
        "\n",
        "- a : 배열이면 배열 자체, 정수면 arange(a)명령으로 배열 생성 \n",
        "- size : 정수, 샘플 숫자 \n",
        "- replace : True면 복원 추출, False 비복원추출 \n",
        "- p : 배열, 각 데이터가 선택될 수 있는 확률 \n",
        "\n",
        "\n"
      ]
    },
    {
      "cell_type": "code",
      "metadata": {
        "colab": {
          "base_uri": "https://localhost:8080/"
        },
        "id": "YiNF1WGPW6O0",
        "outputId": "4720a046-5a13-49ec-d3dc-68264a40823c"
      },
      "source": [
        "### 4) 데이터 샘플링 \n",
        "np.random.choice(5,5, replace = True)"
      ],
      "execution_count": 11,
      "outputs": [
        {
          "output_type": "execute_result",
          "data": {
            "text/plain": [
              "array([0, 2, 4, 3, 3])"
            ]
          },
          "metadata": {},
          "execution_count": 11
        }
      ]
    },
    {
      "cell_type": "code",
      "metadata": {
        "colab": {
          "base_uri": "https://localhost:8080/"
        },
        "id": "nSxk4zykdq4X",
        "outputId": "29c6ec9a-3bad-4845-bfd0-83ec9136c74e"
      },
      "source": [
        "x = np.arange(10)\n",
        "np.random.choice(x,5)"
      ],
      "execution_count": 12,
      "outputs": [
        {
          "output_type": "execute_result",
          "data": {
            "text/plain": [
              "array([2, 7, 2, 0, 0])"
            ]
          },
          "metadata": {},
          "execution_count": 12
        }
      ]
    },
    {
      "cell_type": "code",
      "metadata": {
        "colab": {
          "base_uri": "https://localhost:8080/"
        },
        "id": "r1dC5Md-enl8",
        "outputId": "22957bef-e996-4f23-b0d3-36c8779a3151"
      },
      "source": [
        "np.random.choice(x,5, replace = False)"
      ],
      "execution_count": 14,
      "outputs": [
        {
          "output_type": "execute_result",
          "data": {
            "text/plain": [
              "array([2, 3, 7, 1, 9])"
            ]
          },
          "metadata": {},
          "execution_count": 14
        }
      ]
    },
    {
      "cell_type": "code",
      "metadata": {
        "colab": {
          "base_uri": "https://localhost:8080/"
        },
        "id": "gTNFj0AGeshb",
        "outputId": "69a2ba45-e7b3-46c6-872e-6761346e30f2"
      },
      "source": [
        "### 5) 난수 생성 \n",
        "\n",
        "np.random.rand(5) # 0~1사이의 균일분포 "
      ],
      "execution_count": 15,
      "outputs": [
        {
          "output_type": "execute_result",
          "data": {
            "text/plain": [
              "array([0.44994999, 0.61306346, 0.90234858, 0.09928035, 0.96980907])"
            ]
          },
          "metadata": {},
          "execution_count": 15
        }
      ]
    },
    {
      "cell_type": "code",
      "metadata": {
        "colab": {
          "base_uri": "https://localhost:8080/"
        },
        "id": "AJrJ9mbHe5dY",
        "outputId": "67f7457d-0b77-4ad7-dc65-2b2454f45048"
      },
      "source": [
        "np.random.rand(5,5)"
      ],
      "execution_count": 16,
      "outputs": [
        {
          "output_type": "execute_result",
          "data": {
            "text/plain": [
              "array([[0.65314004, 0.17090959, 0.35815217, 0.75068614, 0.60783067],\n",
              "       [0.32504723, 0.03842543, 0.63427406, 0.95894927, 0.65279032],\n",
              "       [0.63505887, 0.99529957, 0.58185033, 0.41436859, 0.4746975 ],\n",
              "       [0.6235101 , 0.33800761, 0.67475232, 0.31720174, 0.77834548],\n",
              "       [0.94957105, 0.66252687, 0.01357164, 0.6228461 , 0.67365963]])"
            ]
          },
          "metadata": {},
          "execution_count": 16
        }
      ]
    },
    {
      "cell_type": "code",
      "metadata": {
        "colab": {
          "base_uri": "https://localhost:8080/"
        },
        "id": "VSeJ8B7_e7Cm",
        "outputId": "0d70589f-1334-4295-f973-d69b4f0278dc"
      },
      "source": [
        "np.random.randn(10) # 가우시안 표준 정규분포 "
      ],
      "execution_count": 17,
      "outputs": [
        {
          "output_type": "execute_result",
          "data": {
            "text/plain": [
              "array([-0.68658948,  0.01487332, -0.3756659 , -0.03822364,  0.36797447,\n",
              "       -0.0447237 , -0.30237513, -2.2244036 ,  0.72400636,  0.35900276])"
            ]
          },
          "metadata": {},
          "execution_count": 17
        }
      ]
    },
    {
      "cell_type": "code",
      "metadata": {
        "colab": {
          "base_uri": "https://localhost:8080/"
        },
        "id": "ydavCTnLfHBh",
        "outputId": "3433d915-d5c8-4064-ba1e-5d94a5dd9df2"
      },
      "source": [
        "np.random.randn(2,3)"
      ],
      "execution_count": 18,
      "outputs": [
        {
          "output_type": "execute_result",
          "data": {
            "text/plain": [
              "array([[1.07612104, 0.19214083, 0.85292596],\n",
              "       [0.01835718, 0.42830357, 0.99627783]])"
            ]
          },
          "metadata": {},
          "execution_count": 18
        }
      ]
    },
    {
      "cell_type": "code",
      "metadata": {
        "colab": {
          "base_uri": "https://localhost:8080/"
        },
        "id": "Mm-okHR2fKE9",
        "outputId": "0952de71-a114-491b-f81d-757b19f046de"
      },
      "source": [
        "np.random.randint(10, size = 5) # low , high = None, size = None \n",
        "# 0부터 10 사이의 정수 출력 "
      ],
      "execution_count": 20,
      "outputs": [
        {
          "output_type": "execute_result",
          "data": {
            "text/plain": [
              "array([8, 8, 8, 2, 3])"
            ]
          },
          "metadata": {},
          "execution_count": 20
        }
      ]
    },
    {
      "cell_type": "code",
      "metadata": {
        "colab": {
          "base_uri": "https://localhost:8080/"
        },
        "id": "sidFBjAvfZjn",
        "outputId": "60380a48-5844-46e7-db6f-f17ca3b0a350"
      },
      "source": [
        "np.random.randint(10,30,size=(3,5))"
      ],
      "execution_count": 21,
      "outputs": [
        {
          "output_type": "execute_result",
          "data": {
            "text/plain": [
              "array([[12, 21, 23, 26, 18],\n",
              "       [18, 29, 18, 12, 13],\n",
              "       [22, 24, 10, 14, 13]])"
            ]
          },
          "metadata": {},
          "execution_count": 21
        }
      ]
    },
    {
      "cell_type": "code",
      "metadata": {
        "colab": {
          "base_uri": "https://localhost:8080/"
        },
        "id": "fEpR4E0eg-jN",
        "outputId": "1cc95397-7969-4d5c-a563-c02bb9b1d979"
      },
      "source": [
        " # 샘플링 해보기 \n",
        " sample_index = np.random.choice(df.index,size=5,replace=True)\n",
        " sample_index"
      ],
      "execution_count": 25,
      "outputs": [
        {
          "output_type": "execute_result",
          "data": {
            "text/plain": [
              "array([ 6, 13,  9, 13, 11])"
            ]
          },
          "metadata": {},
          "execution_count": 25
        }
      ]
    },
    {
      "cell_type": "code",
      "metadata": {
        "colab": {
          "base_uri": "https://localhost:8080/",
          "height": 204
        },
        "id": "RHoJpcYThOXG",
        "outputId": "9a0c42b1-da6b-4ead-fd65-6a8b834bdf52"
      },
      "source": [
        "df_sample = pd.DataFrame(columns = [\"de\", \"sal\", \"랜덤\"])\n",
        "for i in sample_index : \n",
        "  df_sample = df_sample.append(df.loc[i]) # df.loc[i] : 전체 데이터프레임에서 인덱스 이름이 i인 행만 추출해줘 \n",
        "  # df.iloc[i] : 전체 데이터프레임에서 i번째 행에 있는 값들만 추출해줘 \n",
        "\n",
        "df_sample"
      ],
      "execution_count": 40,
      "outputs": [
        {
          "output_type": "execute_result",
          "data": {
            "text/html": [
              "<div>\n",
              "<style scoped>\n",
              "    .dataframe tbody tr th:only-of-type {\n",
              "        vertical-align: middle;\n",
              "    }\n",
              "\n",
              "    .dataframe tbody tr th {\n",
              "        vertical-align: top;\n",
              "    }\n",
              "\n",
              "    .dataframe thead th {\n",
              "        text-align: right;\n",
              "    }\n",
              "</style>\n",
              "<table border=\"1\" class=\"dataframe\">\n",
              "  <thead>\n",
              "    <tr style=\"text-align: right;\">\n",
              "      <th></th>\n",
              "      <th>de</th>\n",
              "      <th>sal</th>\n",
              "      <th>랜덤</th>\n",
              "    </tr>\n",
              "  </thead>\n",
              "  <tbody>\n",
              "    <tr>\n",
              "      <th>6</th>\n",
              "      <td>30.0</td>\n",
              "      <td>340.0</td>\n",
              "      <td>0.315498</td>\n",
              "    </tr>\n",
              "    <tr>\n",
              "      <th>13</th>\n",
              "      <td>70.0</td>\n",
              "      <td>400.0</td>\n",
              "      <td>0.237143</td>\n",
              "    </tr>\n",
              "    <tr>\n",
              "      <th>9</th>\n",
              "      <td>50.0</td>\n",
              "      <td>700.0</td>\n",
              "      <td>0.390117</td>\n",
              "    </tr>\n",
              "    <tr>\n",
              "      <th>13</th>\n",
              "      <td>70.0</td>\n",
              "      <td>400.0</td>\n",
              "      <td>0.237143</td>\n",
              "    </tr>\n",
              "    <tr>\n",
              "      <th>11</th>\n",
              "      <td>70.0</td>\n",
              "      <td>2000.0</td>\n",
              "      <td>0.444931</td>\n",
              "    </tr>\n",
              "  </tbody>\n",
              "</table>\n",
              "</div>"
            ],
            "text/plain": [
              "      de     sal        랜덤\n",
              "6   30.0   340.0  0.315498\n",
              "13  70.0   400.0  0.237143\n",
              "9   50.0   700.0  0.390117\n",
              "13  70.0   400.0  0.237143\n",
              "11  70.0  2000.0  0.444931"
            ]
          },
          "metadata": {},
          "execution_count": 40
        }
      ]
    },
    {
      "cell_type": "markdown",
      "metadata": {
        "id": "61mcU3VOkHoj"
      },
      "source": [
        "### 2-2) Stratified sampling (층화 추출)\n",
        " - select objects from each group\n",
        "  - 같은 크기로 뽑음 \n",
        "  - 그룹의 크기에 비례해서 뽑을 수도 있음\n",
        "\n",
        "  [stratify](https://towardsdatascience.com/stratified-random-sampling-using-python-and-pandas-1c84f0362ebc)\n",
        "  "
      ]
    },
    {
      "cell_type": "code",
      "metadata": {
        "colab": {
          "base_uri": "https://localhost:8080/",
          "height": 545
        },
        "id": "KBaKwtBiiVfB",
        "outputId": "5d7c28cf-2925-44a4-c9ee-648223b7267f"
      },
      "source": [
        "df"
      ],
      "execution_count": 41,
      "outputs": [
        {
          "output_type": "execute_result",
          "data": {
            "text/html": [
              "<div>\n",
              "<style scoped>\n",
              "    .dataframe tbody tr th:only-of-type {\n",
              "        vertical-align: middle;\n",
              "    }\n",
              "\n",
              "    .dataframe tbody tr th {\n",
              "        vertical-align: top;\n",
              "    }\n",
              "\n",
              "    .dataframe thead th {\n",
              "        text-align: right;\n",
              "    }\n",
              "</style>\n",
              "<table border=\"1\" class=\"dataframe\">\n",
              "  <thead>\n",
              "    <tr style=\"text-align: right;\">\n",
              "      <th></th>\n",
              "      <th>de</th>\n",
              "      <th>sal</th>\n",
              "      <th>랜덤</th>\n",
              "    </tr>\n",
              "  </thead>\n",
              "  <tbody>\n",
              "    <tr>\n",
              "      <th>0</th>\n",
              "      <td>10</td>\n",
              "      <td>100</td>\n",
              "      <td>0.517878</td>\n",
              "    </tr>\n",
              "    <tr>\n",
              "      <th>1</th>\n",
              "      <td>10</td>\n",
              "      <td>200</td>\n",
              "      <td>0.960086</td>\n",
              "    </tr>\n",
              "    <tr>\n",
              "      <th>2</th>\n",
              "      <td>20</td>\n",
              "      <td>300</td>\n",
              "      <td>0.886876</td>\n",
              "    </tr>\n",
              "    <tr>\n",
              "      <th>3</th>\n",
              "      <td>20</td>\n",
              "      <td>40</td>\n",
              "      <td>0.362184</td>\n",
              "    </tr>\n",
              "    <tr>\n",
              "      <th>4</th>\n",
              "      <td>20</td>\n",
              "      <td>1000</td>\n",
              "      <td>0.644523</td>\n",
              "    </tr>\n",
              "    <tr>\n",
              "      <th>5</th>\n",
              "      <td>20</td>\n",
              "      <td>200</td>\n",
              "      <td>0.225139</td>\n",
              "    </tr>\n",
              "    <tr>\n",
              "      <th>6</th>\n",
              "      <td>30</td>\n",
              "      <td>340</td>\n",
              "      <td>0.315498</td>\n",
              "    </tr>\n",
              "    <tr>\n",
              "      <th>7</th>\n",
              "      <td>30</td>\n",
              "      <td>500</td>\n",
              "      <td>0.417479</td>\n",
              "    </tr>\n",
              "    <tr>\n",
              "      <th>8</th>\n",
              "      <td>40</td>\n",
              "      <td>60</td>\n",
              "      <td>0.131773</td>\n",
              "    </tr>\n",
              "    <tr>\n",
              "      <th>9</th>\n",
              "      <td>50</td>\n",
              "      <td>700</td>\n",
              "      <td>0.390117</td>\n",
              "    </tr>\n",
              "    <tr>\n",
              "      <th>10</th>\n",
              "      <td>50</td>\n",
              "      <td>100</td>\n",
              "      <td>0.069104</td>\n",
              "    </tr>\n",
              "    <tr>\n",
              "      <th>11</th>\n",
              "      <td>70</td>\n",
              "      <td>2000</td>\n",
              "      <td>0.444931</td>\n",
              "    </tr>\n",
              "    <tr>\n",
              "      <th>12</th>\n",
              "      <td>70</td>\n",
              "      <td>300</td>\n",
              "      <td>0.810185</td>\n",
              "    </tr>\n",
              "    <tr>\n",
              "      <th>13</th>\n",
              "      <td>70</td>\n",
              "      <td>400</td>\n",
              "      <td>0.237143</td>\n",
              "    </tr>\n",
              "    <tr>\n",
              "      <th>14</th>\n",
              "      <td>70</td>\n",
              "      <td>5000</td>\n",
              "      <td>0.485510</td>\n",
              "    </tr>\n",
              "    <tr>\n",
              "      <th>15</th>\n",
              "      <td>70</td>\n",
              "      <td>100</td>\n",
              "      <td>0.238398</td>\n",
              "    </tr>\n",
              "  </tbody>\n",
              "</table>\n",
              "</div>"
            ],
            "text/plain": [
              "    de   sal        랜덤\n",
              "0   10   100  0.517878\n",
              "1   10   200  0.960086\n",
              "2   20   300  0.886876\n",
              "3   20    40  0.362184\n",
              "4   20  1000  0.644523\n",
              "5   20   200  0.225139\n",
              "6   30   340  0.315498\n",
              "7   30   500  0.417479\n",
              "8   40    60  0.131773\n",
              "9   50   700  0.390117\n",
              "10  50   100  0.069104\n",
              "11  70  2000  0.444931\n",
              "12  70   300  0.810185\n",
              "13  70   400  0.237143\n",
              "14  70  5000  0.485510\n",
              "15  70   100  0.238398"
            ]
          },
          "metadata": {},
          "execution_count": 41
        }
      ]
    },
    {
      "cell_type": "code",
      "metadata": {
        "colab": {
          "base_uri": "https://localhost:8080/"
        },
        "id": "QudVoUQKkayQ",
        "outputId": "240345b8-5a65-4f2a-de4b-6d512013f75e"
      },
      "source": [
        "# preparing to stratify \n",
        "\n",
        "(df['de'].value_counts() / len(df)).sort_values()"
      ],
      "execution_count": 45,
      "outputs": [
        {
          "output_type": "execute_result",
          "data": {
            "text/plain": [
              "40    0.0625\n",
              "30    0.1250\n",
              "10    0.1250\n",
              "50    0.1250\n",
              "20    0.2500\n",
              "70    0.3125\n",
              "Name: de, dtype: float64"
            ]
          },
          "metadata": {},
          "execution_count": 45
        }
      ]
    },
    {
      "cell_type": "code",
      "metadata": {
        "colab": {
          "base_uri": "https://localhost:8080/"
        },
        "id": "bvSUhjrbsvRU",
        "outputId": "62bcc721-3af6-46da-8385-862fe2bb48d4"
      },
      "source": [
        "df['de'].unique()"
      ],
      "execution_count": 44,
      "outputs": [
        {
          "output_type": "execute_result",
          "data": {
            "text/plain": [
              "array([10, 20, 30, 40, 50, 70])"
            ]
          },
          "metadata": {},
          "execution_count": 44
        }
      ]
    },
    {
      "cell_type": "code",
      "metadata": {
        "id": "XY3XWarduesJ"
      },
      "source": [
        "def stratify_data(df_data, stratify_column_name, stratify_values, stratify_proportions, random_state=None):\n",
        "  \n",
        "    df_stratified = pd.DataFrame(columns = df_data.columns) # Create an empty DataFrame with column names matching df_data\n",
        "\n",
        "    pos = -1\n",
        "    for i in range(len(stratify_values)): # iterate over the stratify values (e.g. \"Male, Undergraduate\" etc.)\n",
        "        pos += 1\n",
        "        if pos == len(stratify_values) - 1: \n",
        "            ratio_len = len(df_data) - len(df_stratified) # if this is the final iteration make sure we calculate the number of values for the last set such that the return data has the same number of rows as the source data\n",
        "        else:\n",
        "            ratio_len = int(len(df_data) * stratify_proportions[i]) # Calculate the number of rows to match the desired proportion\n",
        "\n",
        "        df_filtered = df_data[df_data[stratify_column_name] ==stratify_values[i]] # Filter the source data based on the currently selected stratify value\n",
        "        df_temp = df_filtered.sample(replace=True, n=ratio_len, random_state=random_state) # Sample the filtered data using the calculated ratio\n",
        "        \n",
        "        df_stratified = pd.concat([df_stratified, df_temp]) # Add the sampled / stratified datasets together to produce the final result\n",
        "        \n",
        "    return df_stratified # Return the stratified, re-sampled data   "
      ],
      "execution_count": 47,
      "outputs": []
    },
    {
      "cell_type": "code",
      "metadata": {
        "colab": {
          "base_uri": "https://localhost:8080/",
          "height": 545
        },
        "id": "vQswmmLHtpna",
        "outputId": "fcb289ae-56d8-4734-e6b0-0ebef020da3e"
      },
      "source": [
        "stratify_values = [10, 20, 30, 40, 50, 70]\n",
        "stratify_proportions = [0.125,0.25,0.125,0.125,0.3125]\n",
        "\n",
        "df_stratified = stratify_data(df, 'de', stratify_values, stratify_proportions, random_state=42)\n",
        "df_stratified"
      ],
      "execution_count": 49,
      "outputs": [
        {
          "output_type": "execute_result",
          "data": {
            "text/html": [
              "<div>\n",
              "<style scoped>\n",
              "    .dataframe tbody tr th:only-of-type {\n",
              "        vertical-align: middle;\n",
              "    }\n",
              "\n",
              "    .dataframe tbody tr th {\n",
              "        vertical-align: top;\n",
              "    }\n",
              "\n",
              "    .dataframe thead th {\n",
              "        text-align: right;\n",
              "    }\n",
              "</style>\n",
              "<table border=\"1\" class=\"dataframe\">\n",
              "  <thead>\n",
              "    <tr style=\"text-align: right;\">\n",
              "      <th></th>\n",
              "      <th>de</th>\n",
              "      <th>sal</th>\n",
              "      <th>랜덤</th>\n",
              "    </tr>\n",
              "  </thead>\n",
              "  <tbody>\n",
              "    <tr>\n",
              "      <th>0</th>\n",
              "      <td>10</td>\n",
              "      <td>100</td>\n",
              "      <td>0.517878</td>\n",
              "    </tr>\n",
              "    <tr>\n",
              "      <th>1</th>\n",
              "      <td>10</td>\n",
              "      <td>200</td>\n",
              "      <td>0.960086</td>\n",
              "    </tr>\n",
              "    <tr>\n",
              "      <th>4</th>\n",
              "      <td>20</td>\n",
              "      <td>1000</td>\n",
              "      <td>0.644523</td>\n",
              "    </tr>\n",
              "    <tr>\n",
              "      <th>5</th>\n",
              "      <td>20</td>\n",
              "      <td>200</td>\n",
              "      <td>0.225139</td>\n",
              "    </tr>\n",
              "    <tr>\n",
              "      <th>2</th>\n",
              "      <td>20</td>\n",
              "      <td>300</td>\n",
              "      <td>0.886876</td>\n",
              "    </tr>\n",
              "    <tr>\n",
              "      <th>4</th>\n",
              "      <td>20</td>\n",
              "      <td>1000</td>\n",
              "      <td>0.644523</td>\n",
              "    </tr>\n",
              "    <tr>\n",
              "      <th>6</th>\n",
              "      <td>30</td>\n",
              "      <td>340</td>\n",
              "      <td>0.315498</td>\n",
              "    </tr>\n",
              "    <tr>\n",
              "      <th>7</th>\n",
              "      <td>30</td>\n",
              "      <td>500</td>\n",
              "      <td>0.417479</td>\n",
              "    </tr>\n",
              "    <tr>\n",
              "      <th>8</th>\n",
              "      <td>40</td>\n",
              "      <td>60</td>\n",
              "      <td>0.131773</td>\n",
              "    </tr>\n",
              "    <tr>\n",
              "      <th>8</th>\n",
              "      <td>40</td>\n",
              "      <td>60</td>\n",
              "      <td>0.131773</td>\n",
              "    </tr>\n",
              "    <tr>\n",
              "      <th>9</th>\n",
              "      <td>50</td>\n",
              "      <td>700</td>\n",
              "      <td>0.390117</td>\n",
              "    </tr>\n",
              "    <tr>\n",
              "      <th>10</th>\n",
              "      <td>50</td>\n",
              "      <td>100</td>\n",
              "      <td>0.069104</td>\n",
              "    </tr>\n",
              "    <tr>\n",
              "      <th>9</th>\n",
              "      <td>50</td>\n",
              "      <td>700</td>\n",
              "      <td>0.390117</td>\n",
              "    </tr>\n",
              "    <tr>\n",
              "      <th>9</th>\n",
              "      <td>50</td>\n",
              "      <td>700</td>\n",
              "      <td>0.390117</td>\n",
              "    </tr>\n",
              "    <tr>\n",
              "      <th>9</th>\n",
              "      <td>50</td>\n",
              "      <td>700</td>\n",
              "      <td>0.390117</td>\n",
              "    </tr>\n",
              "    <tr>\n",
              "      <th>14</th>\n",
              "      <td>70</td>\n",
              "      <td>5000</td>\n",
              "      <td>0.485510</td>\n",
              "    </tr>\n",
              "  </tbody>\n",
              "</table>\n",
              "</div>"
            ],
            "text/plain": [
              "    de   sal        랜덤\n",
              "0   10   100  0.517878\n",
              "1   10   200  0.960086\n",
              "4   20  1000  0.644523\n",
              "5   20   200  0.225139\n",
              "2   20   300  0.886876\n",
              "4   20  1000  0.644523\n",
              "6   30   340  0.315498\n",
              "7   30   500  0.417479\n",
              "8   40    60  0.131773\n",
              "8   40    60  0.131773\n",
              "9   50   700  0.390117\n",
              "10  50   100  0.069104\n",
              "9   50   700  0.390117\n",
              "9   50   700  0.390117\n",
              "9   50   700  0.390117\n",
              "14  70  5000  0.485510"
            ]
          },
          "metadata": {},
          "execution_count": 49
        }
      ]
    },
    {
      "cell_type": "code",
      "metadata": {
        "id": "btcKAOwk0eCC"
      },
      "source": [
        "df.drop('랜덤', axis = 1, inplace = True)"
      ],
      "execution_count": 50,
      "outputs": []
    },
    {
      "cell_type": "code",
      "metadata": {
        "colab": {
          "base_uri": "https://localhost:8080/"
        },
        "id": "loiEQjHfuOAp",
        "outputId": "1cc018e7-cd29-4d76-e123-34b4f1306a9c"
      },
      "source": [
        "# sklearn.model_selection 사용 \n",
        "!pip install sklearn\n",
        "from sklearn.model_selection import StratifiedShuffleSplit\n",
        "\n",
        "\n",
        "split = StratifiedShuffleSplit(n_splits=6, test_size=None, train_size=None, random_state=None)\n",
        "split.get_n_splits(df)"
      ],
      "execution_count": 52,
      "outputs": [
        {
          "output_type": "stream",
          "name": "stdout",
          "text": [
            "Requirement already satisfied: sklearn in /usr/local/lib/python3.7/dist-packages (0.0)\n",
            "Requirement already satisfied: scikit-learn in /usr/local/lib/python3.7/dist-packages (from sklearn) (0.22.2.post1)\n",
            "Requirement already satisfied: joblib>=0.11 in /usr/local/lib/python3.7/dist-packages (from scikit-learn->sklearn) (1.0.1)\n",
            "Requirement already satisfied: scipy>=0.17.0 in /usr/local/lib/python3.7/dist-packages (from scikit-learn->sklearn) (1.4.1)\n",
            "Requirement already satisfied: numpy>=1.11.0 in /usr/local/lib/python3.7/dist-packages (from scikit-learn->sklearn) (1.19.5)\n"
          ]
        },
        {
          "output_type": "execute_result",
          "data": {
            "text/plain": [
              "6"
            ]
          },
          "metadata": {},
          "execution_count": 52
        }
      ]
    },
    {
      "cell_type": "markdown",
      "metadata": {
        "id": "SQR6FwgIL4FS"
      },
      "source": [
        "....음 여기부터는 언젠가 다시 하길 "
      ]
    },
    {
      "cell_type": "markdown",
      "metadata": {
        "id": "D8mhSI0qSQAl"
      },
      "source": [
        "### 2-3) Progressive sampling \n",
        "- 셈플을 작게 잡아서 모델 돌리고 \n",
        "- 점점 샘플 크게 허용 \n",
        "- 성능이 더이상 안늘어날 때까지 "
      ]
    },
    {
      "cell_type": "markdown",
      "metadata": {
        "id": "fxav4KgLVLOx"
      },
      "source": [
        "## 03. Dimensionality Reduction"
      ]
    },
    {
      "cell_type": "code",
      "metadata": {
        "id": "6Uj2Zs0806Cg"
      },
      "source": [
        ""
      ],
      "execution_count": null,
      "outputs": []
    }
  ]
}