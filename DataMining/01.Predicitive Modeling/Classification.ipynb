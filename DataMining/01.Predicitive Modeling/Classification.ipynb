{
 "cells": [
  {
   "cell_type": "markdown",
   "source": [
    "# Classification \r\n",
    "\r\n",
    "- learn model (귀납)\r\n",
    "- apply model (연역)"
   ],
   "metadata": {}
  },
  {
   "cell_type": "markdown",
   "source": [
    "## Evaluation Metrics (평가지표)\r\n",
    "### Confusion Matrix"
   ],
   "metadata": {}
  },
  {
   "cell_type": "code",
   "execution_count": null,
   "source": [
    "# accuracy = (f11+f00) /(f10+f11+f01+f00)\r\n",
    "\r\n",
    "# error = (f10+f01) /(f10+f11+f01+f00)"
   ],
   "outputs": [],
   "metadata": {}
  },
  {
   "cell_type": "markdown",
   "source": [
    "# 01. Decision Tree "
   ],
   "metadata": {}
  },
  {
   "cell_type": "markdown",
   "source": [
    "- root, internal, leaf node \r\n",
    "- attribute test condition \r\n",
    "\r\n",
    "- 좋은 트리란? 사이즈가 작고, 정확도가 높음 "
   ],
   "metadata": {}
  },
  {
   "cell_type": "markdown",
   "source": [
    "- 성능이 좋은 것은 expensive \r\n",
    "- greedy가 = locally optimal 할수도 => optimal 포기 \r\n",
    "- \"Hunt's algorithm\""
   ],
   "metadata": {}
  },
  {
   "cell_type": "markdown",
   "source": [
    "## 1-1. Hunt's Algorithm\r\n",
    "\r\n",
    "1) single root node로 시작 \r\n",
    "2) 어떤 기준으로 나눌지 결정 \r\n",
    "3) stopping criterion 설정 \r\n",
    "    - depth 기준으로 멈추기\r\n",
    "    - 90% 이상 단일 클래스면 멈추기 \r\n",
    "    - 노드 개수로 멈추기 "
   ],
   "metadata": {}
  },
  {
   "cell_type": "code",
   "execution_count": 13,
   "source": [
    "home_owner = [1,0,0,1,0,0,1,0,0,0]\r\n",
    "marital = [\"1\",\"2\",\"1\",\"2\",\"3\",\"2\",\"3\",\"1\",\"2\",\"1\"]\r\n",
    "income = [125,100,70,120,95,60,220,85,75,90]\r\n",
    "default = [\"no\",\"no\",\"no\",\"no\",\"yes\",\"no\",\"no\",\"yes\",\"no\",\"yes\"]\r\n",
    "\r\n",
    "import pandas as pd \r\n",
    "df = pd.DataFrame({\r\n",
    "    \"home\" : home_owner, \r\n",
    "    \"marital\" : marital, \r\n",
    "    \"income\" : income, \r\n",
    "    \"default\" : default\r\n",
    "})"
   ],
   "outputs": [],
   "metadata": {}
  },
  {
   "cell_type": "code",
   "execution_count": 14,
   "source": [
    "df"
   ],
   "outputs": [
    {
     "output_type": "execute_result",
     "data": {
      "text/html": [
       "<div>\n",
       "<style scoped>\n",
       "    .dataframe tbody tr th:only-of-type {\n",
       "        vertical-align: middle;\n",
       "    }\n",
       "\n",
       "    .dataframe tbody tr th {\n",
       "        vertical-align: top;\n",
       "    }\n",
       "\n",
       "    .dataframe thead th {\n",
       "        text-align: right;\n",
       "    }\n",
       "</style>\n",
       "<table border=\"1\" class=\"dataframe\">\n",
       "  <thead>\n",
       "    <tr style=\"text-align: right;\">\n",
       "      <th></th>\n",
       "      <th>home</th>\n",
       "      <th>marital</th>\n",
       "      <th>income</th>\n",
       "      <th>default</th>\n",
       "    </tr>\n",
       "  </thead>\n",
       "  <tbody>\n",
       "    <tr>\n",
       "      <th>0</th>\n",
       "      <td>1</td>\n",
       "      <td>1</td>\n",
       "      <td>125</td>\n",
       "      <td>no</td>\n",
       "    </tr>\n",
       "    <tr>\n",
       "      <th>1</th>\n",
       "      <td>0</td>\n",
       "      <td>2</td>\n",
       "      <td>100</td>\n",
       "      <td>no</td>\n",
       "    </tr>\n",
       "    <tr>\n",
       "      <th>2</th>\n",
       "      <td>0</td>\n",
       "      <td>1</td>\n",
       "      <td>70</td>\n",
       "      <td>no</td>\n",
       "    </tr>\n",
       "    <tr>\n",
       "      <th>3</th>\n",
       "      <td>1</td>\n",
       "      <td>2</td>\n",
       "      <td>120</td>\n",
       "      <td>no</td>\n",
       "    </tr>\n",
       "    <tr>\n",
       "      <th>4</th>\n",
       "      <td>0</td>\n",
       "      <td>3</td>\n",
       "      <td>95</td>\n",
       "      <td>yes</td>\n",
       "    </tr>\n",
       "    <tr>\n",
       "      <th>5</th>\n",
       "      <td>0</td>\n",
       "      <td>2</td>\n",
       "      <td>60</td>\n",
       "      <td>no</td>\n",
       "    </tr>\n",
       "    <tr>\n",
       "      <th>6</th>\n",
       "      <td>1</td>\n",
       "      <td>3</td>\n",
       "      <td>220</td>\n",
       "      <td>no</td>\n",
       "    </tr>\n",
       "    <tr>\n",
       "      <th>7</th>\n",
       "      <td>0</td>\n",
       "      <td>1</td>\n",
       "      <td>85</td>\n",
       "      <td>yes</td>\n",
       "    </tr>\n",
       "    <tr>\n",
       "      <th>8</th>\n",
       "      <td>0</td>\n",
       "      <td>2</td>\n",
       "      <td>75</td>\n",
       "      <td>no</td>\n",
       "    </tr>\n",
       "    <tr>\n",
       "      <th>9</th>\n",
       "      <td>0</td>\n",
       "      <td>1</td>\n",
       "      <td>90</td>\n",
       "      <td>yes</td>\n",
       "    </tr>\n",
       "  </tbody>\n",
       "</table>\n",
       "</div>"
      ],
      "text/plain": [
       "   home marital  income default\n",
       "0     1       1     125      no\n",
       "1     0       2     100      no\n",
       "2     0       1      70      no\n",
       "3     1       2     120      no\n",
       "4     0       3      95     yes\n",
       "5     0       2      60      no\n",
       "6     1       3     220      no\n",
       "7     0       1      85     yes\n",
       "8     0       2      75      no\n",
       "9     0       1      90     yes"
      ]
     },
     "metadata": {},
     "execution_count": 14
    }
   ],
   "metadata": {}
  },
  {
   "cell_type": "code",
   "execution_count": 15,
   "source": [
    "# 모델 학습 \r\n",
    "from sklearn.tree import DecisionTreeClassifier\r\n",
    "\r\n",
    "\r\n",
    "x = df.drop(\"default\", axis = 1)\r\n",
    "y = df['default']\r\n",
    "\r\n",
    "tree = DecisionTreeClassifier(max_depth=3)\r\n",
    "tree.fit(x,y)\r\n"
   ],
   "outputs": [
    {
     "output_type": "execute_result",
     "data": {
      "text/plain": [
       "DecisionTreeClassifier(ccp_alpha=0.0, class_weight=None, criterion='gini',\n",
       "                       max_depth=3, max_features=None, max_leaf_nodes=None,\n",
       "                       min_impurity_decrease=0.0, min_impurity_split=None,\n",
       "                       min_samples_leaf=1, min_samples_split=2,\n",
       "                       min_weight_fraction_leaf=0.0, presort='deprecated',\n",
       "                       random_state=None, splitter='best')"
      ]
     },
     "metadata": {},
     "execution_count": 15
    }
   ],
   "metadata": {}
  },
  {
   "cell_type": "code",
   "execution_count": 19,
   "source": [
    "# 시각화 \r\n",
    "from sklearn.tree import export_graphviz\r\n",
    "\r\n",
    "export_graphviz(\r\n",
    "    tree, # 학습한 모형\r\n",
    "    out_file = 'tree.dot', # .dot 파일 저장 위치\r\n",
    "    feature_names = df.columns[:-1], # 사용한 변수 이름\r\n",
    "    class_names = df[\"default\"].unique(), # 예측할 타겟 클래스 이름\r\n",
    "    rounded=True, # 사각형 끝을 둥글게\r\n",
    "    filled=True # 사각형 안 색깔 채우기\r\n",
    ")\r\n",
    "import graphviz\r\n",
    "\r\n",
    "# 위에서 생성된 tree.dot 파일을 Graphviz 읽어서 Jupyter Notebook상에서 시각화 \r\n",
    "with open(\"tree.dot\") as f:\r\n",
    "    dot_graph = f.read()\r\n",
    "graphviz.Source(dot_graph)"
   ],
   "outputs": [
    {
     "output_type": "execute_result",
     "data": {
      "image/svg+xml": "<?xml version=\"1.0\" encoding=\"UTF-8\" standalone=\"no\"?>\r\n<!DOCTYPE svg PUBLIC \"-//W3C//DTD SVG 1.1//EN\"\r\n \"http://www.w3.org/Graphics/SVG/1.1/DTD/svg11.dtd\">\r\n<!-- Generated by graphviz version 2.38.0 (20140413.2041)\r\n -->\r\n<!-- Title: Tree Pages: 1 -->\r\n<svg width=\"287pt\" height=\"314pt\"\r\n viewBox=\"0.00 0.00 287.00 314.00\" xmlns=\"http://www.w3.org/2000/svg\" xmlns:xlink=\"http://www.w3.org/1999/xlink\">\r\n<g id=\"graph0\" class=\"graph\" transform=\"scale(1 1) rotate(0) translate(4 310)\">\r\n<title>Tree</title>\r\n<polygon fill=\"white\" stroke=\"none\" points=\"-4,4 -4,-310 283,-310 283,4 -4,4\"/>\r\n<!-- 0 -->\r\n<g id=\"node1\" class=\"node\"><title>0</title>\r\n<path fill=\"#f0b78e\" stroke=\"black\" d=\"M213.5,-306C213.5,-306 121.5,-306 121.5,-306 115.5,-306 109.5,-300 109.5,-294 109.5,-294 109.5,-235 109.5,-235 109.5,-229 115.5,-223 121.5,-223 121.5,-223 213.5,-223 213.5,-223 219.5,-223 225.5,-229 225.5,-235 225.5,-235 225.5,-294 225.5,-294 225.5,-300 219.5,-306 213.5,-306\"/>\r\n<text text-anchor=\"middle\" x=\"167.5\" y=\"-290.8\" font-family=\"Helvetica,sans-Serif\" font-size=\"14.00\">income &lt;= 97.5</text>\r\n<text text-anchor=\"middle\" x=\"167.5\" y=\"-275.8\" font-family=\"Helvetica,sans-Serif\" font-size=\"14.00\">gini = 0.42</text>\r\n<text text-anchor=\"middle\" x=\"167.5\" y=\"-260.8\" font-family=\"Helvetica,sans-Serif\" font-size=\"14.00\">samples = 10</text>\r\n<text text-anchor=\"middle\" x=\"167.5\" y=\"-245.8\" font-family=\"Helvetica,sans-Serif\" font-size=\"14.00\">value = [7, 3]</text>\r\n<text text-anchor=\"middle\" x=\"167.5\" y=\"-230.8\" font-family=\"Helvetica,sans-Serif\" font-size=\"14.00\">class = no</text>\r\n</g>\r\n<!-- 1 -->\r\n<g id=\"node2\" class=\"node\"><title>1</title>\r\n<path fill=\"#ffffff\" stroke=\"black\" d=\"M151.5,-187C151.5,-187 59.5,-187 59.5,-187 53.5,-187 47.5,-181 47.5,-175 47.5,-175 47.5,-116 47.5,-116 47.5,-110 53.5,-104 59.5,-104 59.5,-104 151.5,-104 151.5,-104 157.5,-104 163.5,-110 163.5,-116 163.5,-116 163.5,-175 163.5,-175 163.5,-181 157.5,-187 151.5,-187\"/>\r\n<text text-anchor=\"middle\" x=\"105.5\" y=\"-171.8\" font-family=\"Helvetica,sans-Serif\" font-size=\"14.00\">income &lt;= 80.0</text>\r\n<text text-anchor=\"middle\" x=\"105.5\" y=\"-156.8\" font-family=\"Helvetica,sans-Serif\" font-size=\"14.00\">gini = 0.5</text>\r\n<text text-anchor=\"middle\" x=\"105.5\" y=\"-141.8\" font-family=\"Helvetica,sans-Serif\" font-size=\"14.00\">samples = 6</text>\r\n<text text-anchor=\"middle\" x=\"105.5\" y=\"-126.8\" font-family=\"Helvetica,sans-Serif\" font-size=\"14.00\">value = [3, 3]</text>\r\n<text text-anchor=\"middle\" x=\"105.5\" y=\"-111.8\" font-family=\"Helvetica,sans-Serif\" font-size=\"14.00\">class = no</text>\r\n</g>\r\n<!-- 0&#45;&gt;1 -->\r\n<g id=\"edge1\" class=\"edge\"><title>0&#45;&gt;1</title>\r\n<path fill=\"none\" stroke=\"black\" d=\"M145.989,-222.907C141.373,-214.195 136.445,-204.897 131.674,-195.893\"/>\r\n<polygon fill=\"black\" stroke=\"black\" points=\"134.748,-194.218 126.973,-187.021 128.562,-197.496 134.748,-194.218\"/>\r\n<text text-anchor=\"middle\" x=\"119.63\" y=\"-207.218\" font-family=\"Helvetica,sans-Serif\" font-size=\"14.00\">True</text>\r\n</g>\r\n<!-- 4 -->\r\n<g id=\"node5\" class=\"node\"><title>4</title>\r\n<path fill=\"#e58139\" stroke=\"black\" d=\"M267,-179.5C267,-179.5 194,-179.5 194,-179.5 188,-179.5 182,-173.5 182,-167.5 182,-167.5 182,-123.5 182,-123.5 182,-117.5 188,-111.5 194,-111.5 194,-111.5 267,-111.5 267,-111.5 273,-111.5 279,-117.5 279,-123.5 279,-123.5 279,-167.5 279,-167.5 279,-173.5 273,-179.5 267,-179.5\"/>\r\n<text text-anchor=\"middle\" x=\"230.5\" y=\"-164.3\" font-family=\"Helvetica,sans-Serif\" font-size=\"14.00\">gini = 0.0</text>\r\n<text text-anchor=\"middle\" x=\"230.5\" y=\"-149.3\" font-family=\"Helvetica,sans-Serif\" font-size=\"14.00\">samples = 4</text>\r\n<text text-anchor=\"middle\" x=\"230.5\" y=\"-134.3\" font-family=\"Helvetica,sans-Serif\" font-size=\"14.00\">value = [4, 0]</text>\r\n<text text-anchor=\"middle\" x=\"230.5\" y=\"-119.3\" font-family=\"Helvetica,sans-Serif\" font-size=\"14.00\">class = no</text>\r\n</g>\r\n<!-- 0&#45;&gt;4 -->\r\n<g id=\"edge4\" class=\"edge\"><title>0&#45;&gt;4</title>\r\n<path fill=\"none\" stroke=\"black\" d=\"M189.358,-222.907C195.299,-211.873 201.747,-199.898 207.738,-188.773\"/>\r\n<polygon fill=\"black\" stroke=\"black\" points=\"210.981,-190.131 212.641,-179.667 204.818,-186.812 210.981,-190.131\"/>\r\n<text text-anchor=\"middle\" x=\"219.825\" y=\"-199.913\" font-family=\"Helvetica,sans-Serif\" font-size=\"14.00\">False</text>\r\n</g>\r\n<!-- 2 -->\r\n<g id=\"node3\" class=\"node\"><title>2</title>\r\n<path fill=\"#e58139\" stroke=\"black\" d=\"M85,-68C85,-68 12,-68 12,-68 6,-68 0,-62 0,-56 0,-56 0,-12 0,-12 0,-6 6,-0 12,-0 12,-0 85,-0 85,-0 91,-0 97,-6 97,-12 97,-12 97,-56 97,-56 97,-62 91,-68 85,-68\"/>\r\n<text text-anchor=\"middle\" x=\"48.5\" y=\"-52.8\" font-family=\"Helvetica,sans-Serif\" font-size=\"14.00\">gini = 0.0</text>\r\n<text text-anchor=\"middle\" x=\"48.5\" y=\"-37.8\" font-family=\"Helvetica,sans-Serif\" font-size=\"14.00\">samples = 3</text>\r\n<text text-anchor=\"middle\" x=\"48.5\" y=\"-22.8\" font-family=\"Helvetica,sans-Serif\" font-size=\"14.00\">value = [3, 0]</text>\r\n<text text-anchor=\"middle\" x=\"48.5\" y=\"-7.8\" font-family=\"Helvetica,sans-Serif\" font-size=\"14.00\">class = no</text>\r\n</g>\r\n<!-- 1&#45;&gt;2 -->\r\n<g id=\"edge2\" class=\"edge\"><title>1&#45;&gt;2</title>\r\n<path fill=\"none\" stroke=\"black\" d=\"M84.2753,-103.726C79.7649,-95.0615 74.9939,-85.8962 70.4568,-77.1802\"/>\r\n<polygon fill=\"black\" stroke=\"black\" points=\"73.556,-75.5537 65.834,-68.2996 67.3469,-78.7859 73.556,-75.5537\"/>\r\n</g>\r\n<!-- 3 -->\r\n<g id=\"node4\" class=\"node\"><title>3</title>\r\n<path fill=\"#399de5\" stroke=\"black\" d=\"M200,-68C200,-68 127,-68 127,-68 121,-68 115,-62 115,-56 115,-56 115,-12 115,-12 115,-6 121,-0 127,-0 127,-0 200,-0 200,-0 206,-0 212,-6 212,-12 212,-12 212,-56 212,-56 212,-62 206,-68 200,-68\"/>\r\n<text text-anchor=\"middle\" x=\"163.5\" y=\"-52.8\" font-family=\"Helvetica,sans-Serif\" font-size=\"14.00\">gini = 0.0</text>\r\n<text text-anchor=\"middle\" x=\"163.5\" y=\"-37.8\" font-family=\"Helvetica,sans-Serif\" font-size=\"14.00\">samples = 3</text>\r\n<text text-anchor=\"middle\" x=\"163.5\" y=\"-22.8\" font-family=\"Helvetica,sans-Serif\" font-size=\"14.00\">value = [0, 3]</text>\r\n<text text-anchor=\"middle\" x=\"163.5\" y=\"-7.8\" font-family=\"Helvetica,sans-Serif\" font-size=\"14.00\">class = yes</text>\r\n</g>\r\n<!-- 1&#45;&gt;3 -->\r\n<g id=\"edge3\" class=\"edge\"><title>1&#45;&gt;3</title>\r\n<path fill=\"none\" stroke=\"black\" d=\"M127.097,-103.726C131.687,-95.0615 136.541,-85.8962 141.158,-77.1802\"/>\r\n<polygon fill=\"black\" stroke=\"black\" points=\"144.274,-78.7748 145.862,-68.2996 138.088,-75.4982 144.274,-78.7748\"/>\r\n</g>\r\n</g>\r\n</svg>\r\n",
      "text/plain": [
       "<graphviz.files.Source at 0x2a181c6d6d8>"
      ]
     },
     "metadata": {},
     "execution_count": 19
    }
   ],
   "metadata": {}
  },
  {
   "cell_type": "markdown",
   "source": [
    "## 1-2. Design Issues of DT \r\n",
    "\r\n",
    "1) splitting criterion \r\n",
    "\r\n",
    "**attribute**\r\n",
    "- binary \r\n",
    "- nominal \r\n",
    "- ordinal \r\n",
    "- continuous \r\n",
    "\r\n",
    "\r\n",
    "**selecting attribute**\r\n",
    "- pure node 만드는 속성 \r\n",
    "\r\n",
    "2) stopping criterion \r\n"
   ],
   "metadata": {}
  },
  {
   "cell_type": "markdown",
   "source": [
    "## 1-3. Impurity Measures "
   ],
   "metadata": {}
  },
  {
   "cell_type": "markdown",
   "source": [
    "## 1) Entropy 엔트로피 지수 = 예상되는 정보량\r\n",
    "- 균일할수록 얻을 수 있는 정보량이 적다 \r\n",
    "- 즉, pure하다 \r\n",
    "\r\n",
    "- 0(pure) ~ 1(chaos)"
   ],
   "metadata": {}
  },
  {
   "cell_type": "markdown",
   "source": [
    "## 2) Gini index = 불평등 정도 \r\n",
    "- 0(pure) ~ 0.5(불평등)"
   ],
   "metadata": {}
  },
  {
   "cell_type": "markdown",
   "source": [
    "## 3) Classification Error \r\n",
    "- 0(pure) ~ 1(unpure)"
   ],
   "metadata": {}
  },
  {
   "cell_type": "code",
   "execution_count": 36,
   "source": [
    "data1 = [1,1,1,2,2,2]\r\n",
    "data2 = [1,1,1,1,1,2]\r\n",
    "data3 = [2,2,2,2,2,2]\r\n",
    "\r\n",
    "# entropy \r\n",
    "\r\n",
    "# gini \r\n",
    "def gini(data) : \r\n",
    "    label = list(set(data))\r\n",
    "    temp = []\r\n",
    "    for i in label : \r\n",
    "        temp.append(data.count(i)/len(data))\r\n",
    "    result = 1 \r\n",
    "    for j in temp : \r\n",
    "        result -= j**2\r\n",
    "    return result \r\n",
    "\r\n",
    "# classification error \r\n",
    "def classification_error(data) : \r\n",
    "    label = list(set(data))\r\n",
    "    temp = []\r\n",
    "    for i in label : \r\n",
    "        temp.append(data.count(i)/len(data))\r\n",
    "    result = 1 - max(temp)\r\n",
    "    return result "
   ],
   "outputs": [],
   "metadata": {}
  },
  {
   "cell_type": "code",
   "execution_count": 37,
   "source": [
    "print(\"gini : \" , gini(data1))\r\n",
    "print(\"classification error : \" ,classification_error(data1))"
   ],
   "outputs": [
    {
     "output_type": "stream",
     "name": "stdout",
     "text": [
      "gini :  0.5\n",
      "classification error :  0.5\n"
     ]
    }
   ],
   "metadata": {}
  },
  {
   "cell_type": "code",
   "execution_count": 38,
   "source": [
    "print(\"gini : \" , gini(data2))\r\n",
    "print(\"classification error : \" ,classification_error(data2))"
   ],
   "outputs": [
    {
     "output_type": "stream",
     "name": "stdout",
     "text": [
      "gini :  0.2777777777777777\n",
      "classification error :  0.16666666666666663\n"
     ]
    }
   ],
   "metadata": {}
  },
  {
   "cell_type": "code",
   "execution_count": 39,
   "source": [
    "print(\"gini : \" , gini(data3))\r\n",
    "print(\"classification error : \" ,classification_error(data3))"
   ],
   "outputs": [
    {
     "output_type": "stream",
     "name": "stdout",
     "text": [
      "gini :  0.0\n",
      "classification error :  0.0\n"
     ]
    }
   ],
   "metadata": {}
  },
  {
   "cell_type": "markdown",
   "source": [
    "## 1-4. iris 데이터로 DT 구현해보기"
   ],
   "metadata": {}
  },
  {
   "cell_type": "markdown",
   "source": [
    "### 정말 아무런 전처리 없이 해보기"
   ],
   "metadata": {}
  },
  {
   "cell_type": "code",
   "execution_count": 2,
   "source": [
    "# 데이터 불러오기 \r\n",
    "from sklearn.datasets import load_iris \r\n",
    "\r\n",
    "iris = load_iris()"
   ],
   "outputs": [],
   "metadata": {}
  },
  {
   "cell_type": "code",
   "execution_count": 3,
   "source": [
    "# 데이터 프레임 생성 \r\n",
    "x = iris.data\r\n",
    "y = iris.target\r\n",
    "\r\n",
    "import pandas as pd \r\n",
    "\r\n",
    "df_feature = pd.DataFrame(data = x , columns= iris.feature_names)\r\n",
    "df_target = pd.DataFrame({\"target\" : y})"
   ],
   "outputs": [],
   "metadata": {}
  },
  {
   "cell_type": "code",
   "execution_count": 4,
   "source": [
    "# 데이터 나누기 \r\n",
    "\r\n",
    "from sklearn.model_selection import train_test_split\r\n",
    "\r\n",
    "x_train, x_test, y_train, y_test= train_test_split(df_feature, df_target, test_size = 0.2, random_state = 100)"
   ],
   "outputs": [],
   "metadata": {}
  },
  {
   "cell_type": "code",
   "execution_count": 5,
   "source": [
    "# 모델 생성하기 \r\n",
    "from sklearn.tree import DecisionTreeClassifier # 모듈 불러오기 \r\n",
    "\r\n",
    "tree = DecisionTreeClassifier() # 모델 인스턴스 생성 \r\n",
    "# 기본 gini 계수 사용 "
   ],
   "outputs": [],
   "metadata": {}
  },
  {
   "cell_type": "code",
   "execution_count": 6,
   "source": [
    "tree.fit(x_train, y_train)\r\n",
    "\r\n",
    "# 그려보기 \r\n",
    "\r\n",
    "from sklearn.tree import export_graphviz\r\n",
    "export_graphviz(tree, out_file=\"tree.dot\", class_names = iris.target_names, \r\n",
    "                           feature_names = iris.feature_names, impurity=True, filled=True)\r\n",
    "import graphviz\r\n",
    "with open(\"tree.dot\") as f : \r\n",
    "    dot_graph = f.read()\r\n",
    "graphviz.Source(dot_graph)"
   ],
   "outputs": [
    {
     "output_type": "execute_result",
     "data": {
      "image/svg+xml": "<?xml version=\"1.0\" encoding=\"UTF-8\" standalone=\"no\"?>\r\n<!DOCTYPE svg PUBLIC \"-//W3C//DTD SVG 1.1//EN\"\r\n \"http://www.w3.org/Graphics/SVG/1.1/DTD/svg11.dtd\">\r\n<!-- Generated by graphviz version 2.38.0 (20140413.2041)\r\n -->\r\n<!-- Title: Tree Pages: 1 -->\r\n<svg width=\"599pt\" height=\"671pt\"\r\n viewBox=\"0.00 0.00 599.00 671.00\" xmlns=\"http://www.w3.org/2000/svg\" xmlns:xlink=\"http://www.w3.org/1999/xlink\">\r\n<g id=\"graph0\" class=\"graph\" transform=\"scale(1 1) rotate(0) translate(4 667)\">\r\n<title>Tree</title>\r\n<polygon fill=\"white\" stroke=\"none\" points=\"-4,4 -4,-667 595,-667 595,4 -4,4\"/>\r\n<!-- 0 -->\r\n<g id=\"node1\" class=\"node\"><title>0</title>\r\n<polygon fill=\"#f3fdf7\" stroke=\"black\" points=\"301,-663 143,-663 143,-580 301,-580 301,-663\"/>\r\n<text text-anchor=\"middle\" x=\"222\" y=\"-647.8\" font-family=\"Times New Roman,serif\" font-size=\"14.00\">petal length (cm) &lt;= 2.45</text>\r\n<text text-anchor=\"middle\" x=\"222\" y=\"-632.8\" font-family=\"Times New Roman,serif\" font-size=\"14.00\">gini = 0.665</text>\r\n<text text-anchor=\"middle\" x=\"222\" y=\"-617.8\" font-family=\"Times New Roman,serif\" font-size=\"14.00\">samples = 120</text>\r\n<text text-anchor=\"middle\" x=\"222\" y=\"-602.8\" font-family=\"Times New Roman,serif\" font-size=\"14.00\">value = [39, 44, 37]</text>\r\n<text text-anchor=\"middle\" x=\"222\" y=\"-587.8\" font-family=\"Times New Roman,serif\" font-size=\"14.00\">class = versicolor</text>\r\n</g>\r\n<!-- 1 -->\r\n<g id=\"node2\" class=\"node\"><title>1</title>\r\n<polygon fill=\"#e58139\" stroke=\"black\" points=\"202,-536.5 90,-536.5 90,-468.5 202,-468.5 202,-536.5\"/>\r\n<text text-anchor=\"middle\" x=\"146\" y=\"-521.3\" font-family=\"Times New Roman,serif\" font-size=\"14.00\">gini = 0.0</text>\r\n<text text-anchor=\"middle\" x=\"146\" y=\"-506.3\" font-family=\"Times New Roman,serif\" font-size=\"14.00\">samples = 39</text>\r\n<text text-anchor=\"middle\" x=\"146\" y=\"-491.3\" font-family=\"Times New Roman,serif\" font-size=\"14.00\">value = [39, 0, 0]</text>\r\n<text text-anchor=\"middle\" x=\"146\" y=\"-476.3\" font-family=\"Times New Roman,serif\" font-size=\"14.00\">class = setosa</text>\r\n</g>\r\n<!-- 0&#45;&gt;1 -->\r\n<g id=\"edge1\" class=\"edge\"><title>0&#45;&gt;1</title>\r\n<path fill=\"none\" stroke=\"black\" d=\"M195.632,-579.907C188.321,-568.652 180.374,-556.418 173.026,-545.106\"/>\r\n<polygon fill=\"black\" stroke=\"black\" points=\"175.927,-543.146 167.544,-536.667 170.057,-546.96 175.927,-543.146\"/>\r\n<text text-anchor=\"middle\" x=\"162.349\" y=\"-557.421\" font-family=\"Times New Roman,serif\" font-size=\"14.00\">True</text>\r\n</g>\r\n<!-- 2 -->\r\n<g id=\"node3\" class=\"node\"><title>2</title>\r\n<polygon fill=\"#e0fbeb\" stroke=\"black\" points=\"375.5,-544 220.5,-544 220.5,-461 375.5,-461 375.5,-544\"/>\r\n<text text-anchor=\"middle\" x=\"298\" y=\"-528.8\" font-family=\"Times New Roman,serif\" font-size=\"14.00\">petal width (cm) &lt;= 1.65</text>\r\n<text text-anchor=\"middle\" x=\"298\" y=\"-513.8\" font-family=\"Times New Roman,serif\" font-size=\"14.00\">gini = 0.496</text>\r\n<text text-anchor=\"middle\" x=\"298\" y=\"-498.8\" font-family=\"Times New Roman,serif\" font-size=\"14.00\">samples = 81</text>\r\n<text text-anchor=\"middle\" x=\"298\" y=\"-483.8\" font-family=\"Times New Roman,serif\" font-size=\"14.00\">value = [0, 44, 37]</text>\r\n<text text-anchor=\"middle\" x=\"298\" y=\"-468.8\" font-family=\"Times New Roman,serif\" font-size=\"14.00\">class = versicolor</text>\r\n</g>\r\n<!-- 0&#45;&gt;2 -->\r\n<g id=\"edge2\" class=\"edge\"><title>0&#45;&gt;2</title>\r\n<path fill=\"none\" stroke=\"black\" d=\"M248.368,-579.907C254.086,-571.105 260.193,-561.703 266.098,-552.612\"/>\r\n<polygon fill=\"black\" stroke=\"black\" points=\"269.167,-554.313 271.679,-544.021 263.296,-550.5 269.167,-554.313\"/>\r\n<text text-anchor=\"middle\" x=\"276.874\" y=\"-564.775\" font-family=\"Times New Roman,serif\" font-size=\"14.00\">False</text>\r\n</g>\r\n<!-- 3 -->\r\n<g id=\"node4\" class=\"node\"><title>3</title>\r\n<polygon fill=\"#4be78d\" stroke=\"black\" points=\"289,-425 131,-425 131,-342 289,-342 289,-425\"/>\r\n<text text-anchor=\"middle\" x=\"210\" y=\"-409.8\" font-family=\"Times New Roman,serif\" font-size=\"14.00\">petal length (cm) &lt;= 4.95</text>\r\n<text text-anchor=\"middle\" x=\"210\" y=\"-394.8\" font-family=\"Times New Roman,serif\" font-size=\"14.00\">gini = 0.156</text>\r\n<text text-anchor=\"middle\" x=\"210\" y=\"-379.8\" font-family=\"Times New Roman,serif\" font-size=\"14.00\">samples = 47</text>\r\n<text text-anchor=\"middle\" x=\"210\" y=\"-364.8\" font-family=\"Times New Roman,serif\" font-size=\"14.00\">value = [0, 43, 4]</text>\r\n<text text-anchor=\"middle\" x=\"210\" y=\"-349.8\" font-family=\"Times New Roman,serif\" font-size=\"14.00\">class = versicolor</text>\r\n</g>\r\n<!-- 2&#45;&gt;3 -->\r\n<g id=\"edge3\" class=\"edge\"><title>2&#45;&gt;3</title>\r\n<path fill=\"none\" stroke=\"black\" d=\"M267.469,-460.907C260.711,-451.923 253.485,-442.315 246.516,-433.05\"/>\r\n<polygon fill=\"black\" stroke=\"black\" points=\"249.285,-430.909 240.477,-425.021 243.691,-435.116 249.285,-430.909\"/>\r\n</g>\r\n<!-- 10 -->\r\n<g id=\"node11\" class=\"node\"><title>10</title>\r\n<polygon fill=\"#853fe6\" stroke=\"black\" points=\"465,-425 307,-425 307,-342 465,-342 465,-425\"/>\r\n<text text-anchor=\"middle\" x=\"386\" y=\"-409.8\" font-family=\"Times New Roman,serif\" font-size=\"14.00\">petal length (cm) &lt;= 4.85</text>\r\n<text text-anchor=\"middle\" x=\"386\" y=\"-394.8\" font-family=\"Times New Roman,serif\" font-size=\"14.00\">gini = 0.057</text>\r\n<text text-anchor=\"middle\" x=\"386\" y=\"-379.8\" font-family=\"Times New Roman,serif\" font-size=\"14.00\">samples = 34</text>\r\n<text text-anchor=\"middle\" x=\"386\" y=\"-364.8\" font-family=\"Times New Roman,serif\" font-size=\"14.00\">value = [0, 1, 33]</text>\r\n<text text-anchor=\"middle\" x=\"386\" y=\"-349.8\" font-family=\"Times New Roman,serif\" font-size=\"14.00\">class = virginica</text>\r\n</g>\r\n<!-- 2&#45;&gt;10 -->\r\n<g id=\"edge10\" class=\"edge\"><title>2&#45;&gt;10</title>\r\n<path fill=\"none\" stroke=\"black\" d=\"M328.531,-460.907C335.289,-451.923 342.515,-442.315 349.484,-433.05\"/>\r\n<polygon fill=\"black\" stroke=\"black\" points=\"352.309,-435.116 355.523,-425.021 346.715,-430.909 352.309,-435.116\"/>\r\n</g>\r\n<!-- 4 -->\r\n<g id=\"node5\" class=\"node\"><title>4</title>\r\n<polygon fill=\"#39e581\" stroke=\"black\" points=\"116,-298.5 0,-298.5 0,-230.5 116,-230.5 116,-298.5\"/>\r\n<text text-anchor=\"middle\" x=\"58\" y=\"-283.3\" font-family=\"Times New Roman,serif\" font-size=\"14.00\">gini = 0.0</text>\r\n<text text-anchor=\"middle\" x=\"58\" y=\"-268.3\" font-family=\"Times New Roman,serif\" font-size=\"14.00\">samples = 42</text>\r\n<text text-anchor=\"middle\" x=\"58\" y=\"-253.3\" font-family=\"Times New Roman,serif\" font-size=\"14.00\">value = [0, 42, 0]</text>\r\n<text text-anchor=\"middle\" x=\"58\" y=\"-238.3\" font-family=\"Times New Roman,serif\" font-size=\"14.00\">class = versicolor</text>\r\n</g>\r\n<!-- 3&#45;&gt;4 -->\r\n<g id=\"edge4\" class=\"edge\"><title>3&#45;&gt;4</title>\r\n<path fill=\"none\" stroke=\"black\" d=\"M157.264,-341.907C141.639,-329.88 124.561,-316.735 109.045,-304.791\"/>\r\n<polygon fill=\"black\" stroke=\"black\" points=\"111.148,-301.993 101.089,-298.667 106.878,-307.54 111.148,-301.993\"/>\r\n</g>\r\n<!-- 5 -->\r\n<g id=\"node6\" class=\"node\"><title>5</title>\r\n<polygon fill=\"#a06aec\" stroke=\"black\" points=\"289.5,-306 134.5,-306 134.5,-223 289.5,-223 289.5,-306\"/>\r\n<text text-anchor=\"middle\" x=\"212\" y=\"-290.8\" font-family=\"Times New Roman,serif\" font-size=\"14.00\">petal width (cm) &lt;= 1.55</text>\r\n<text text-anchor=\"middle\" x=\"212\" y=\"-275.8\" font-family=\"Times New Roman,serif\" font-size=\"14.00\">gini = 0.32</text>\r\n<text text-anchor=\"middle\" x=\"212\" y=\"-260.8\" font-family=\"Times New Roman,serif\" font-size=\"14.00\">samples = 5</text>\r\n<text text-anchor=\"middle\" x=\"212\" y=\"-245.8\" font-family=\"Times New Roman,serif\" font-size=\"14.00\">value = [0, 1, 4]</text>\r\n<text text-anchor=\"middle\" x=\"212\" y=\"-230.8\" font-family=\"Times New Roman,serif\" font-size=\"14.00\">class = virginica</text>\r\n</g>\r\n<!-- 3&#45;&gt;5 -->\r\n<g id=\"edge5\" class=\"edge\"><title>3&#45;&gt;5</title>\r\n<path fill=\"none\" stroke=\"black\" d=\"M210.694,-341.907C210.837,-333.558 210.989,-324.671 211.136,-316.02\"/>\r\n<polygon fill=\"black\" stroke=\"black\" points=\"214.636,-316.079 211.307,-306.021 207.637,-315.959 214.636,-316.079\"/>\r\n</g>\r\n<!-- 6 -->\r\n<g id=\"node7\" class=\"node\"><title>6</title>\r\n<polygon fill=\"#8139e5\" stroke=\"black\" points=\"123.5,-179.5 16.5,-179.5 16.5,-111.5 123.5,-111.5 123.5,-179.5\"/>\r\n<text text-anchor=\"middle\" x=\"70\" y=\"-164.3\" font-family=\"Times New Roman,serif\" font-size=\"14.00\">gini = 0.0</text>\r\n<text text-anchor=\"middle\" x=\"70\" y=\"-149.3\" font-family=\"Times New Roman,serif\" font-size=\"14.00\">samples = 3</text>\r\n<text text-anchor=\"middle\" x=\"70\" y=\"-134.3\" font-family=\"Times New Roman,serif\" font-size=\"14.00\">value = [0, 0, 3]</text>\r\n<text text-anchor=\"middle\" x=\"70\" y=\"-119.3\" font-family=\"Times New Roman,serif\" font-size=\"14.00\">class = virginica</text>\r\n</g>\r\n<!-- 5&#45;&gt;6 -->\r\n<g id=\"edge6\" class=\"edge\"><title>5&#45;&gt;6</title>\r\n<path fill=\"none\" stroke=\"black\" d=\"M162.734,-222.907C148.27,-210.99 132.475,-197.976 118.086,-186.12\"/>\r\n<polygon fill=\"black\" stroke=\"black\" points=\"120.197,-183.325 110.254,-179.667 115.746,-188.727 120.197,-183.325\"/>\r\n</g>\r\n<!-- 7 -->\r\n<g id=\"node8\" class=\"node\"><title>7</title>\r\n<polygon fill=\"#ffffff\" stroke=\"black\" points=\"294.5,-187 141.5,-187 141.5,-104 294.5,-104 294.5,-187\"/>\r\n<text text-anchor=\"middle\" x=\"218\" y=\"-171.8\" font-family=\"Times New Roman,serif\" font-size=\"14.00\">sepal length (cm) &lt;= 6.6</text>\r\n<text text-anchor=\"middle\" x=\"218\" y=\"-156.8\" font-family=\"Times New Roman,serif\" font-size=\"14.00\">gini = 0.5</text>\r\n<text text-anchor=\"middle\" x=\"218\" y=\"-141.8\" font-family=\"Times New Roman,serif\" font-size=\"14.00\">samples = 2</text>\r\n<text text-anchor=\"middle\" x=\"218\" y=\"-126.8\" font-family=\"Times New Roman,serif\" font-size=\"14.00\">value = [0, 1, 1]</text>\r\n<text text-anchor=\"middle\" x=\"218\" y=\"-111.8\" font-family=\"Times New Roman,serif\" font-size=\"14.00\">class = versicolor</text>\r\n</g>\r\n<!-- 5&#45;&gt;7 -->\r\n<g id=\"edge7\" class=\"edge\"><title>5&#45;&gt;7</title>\r\n<path fill=\"none\" stroke=\"black\" d=\"M214.082,-222.907C214.51,-214.558 214.966,-205.671 215.409,-197.02\"/>\r\n<polygon fill=\"black\" stroke=\"black\" points=\"218.905,-197.187 215.922,-187.021 211.914,-196.828 218.905,-197.187\"/>\r\n</g>\r\n<!-- 8 -->\r\n<g id=\"node9\" class=\"node\"><title>8</title>\r\n<polygon fill=\"#39e581\" stroke=\"black\" points=\"211,-68 95,-68 95,-0 211,-0 211,-68\"/>\r\n<text text-anchor=\"middle\" x=\"153\" y=\"-52.8\" font-family=\"Times New Roman,serif\" font-size=\"14.00\">gini = 0.0</text>\r\n<text text-anchor=\"middle\" x=\"153\" y=\"-37.8\" font-family=\"Times New Roman,serif\" font-size=\"14.00\">samples = 1</text>\r\n<text text-anchor=\"middle\" x=\"153\" y=\"-22.8\" font-family=\"Times New Roman,serif\" font-size=\"14.00\">value = [0, 1, 0]</text>\r\n<text text-anchor=\"middle\" x=\"153\" y=\"-7.8\" font-family=\"Times New Roman,serif\" font-size=\"14.00\">class = versicolor</text>\r\n</g>\r\n<!-- 7&#45;&gt;8 -->\r\n<g id=\"edge8\" class=\"edge\"><title>7&#45;&gt;8</title>\r\n<path fill=\"none\" stroke=\"black\" d=\"M193.796,-103.726C188.599,-94.9703 183.098,-85.7032 177.875,-76.9051\"/>\r\n<polygon fill=\"black\" stroke=\"black\" points=\"180.881,-75.1121 172.767,-68.2996 174.862,-78.6853 180.881,-75.1121\"/>\r\n</g>\r\n<!-- 9 -->\r\n<g id=\"node10\" class=\"node\"><title>9</title>\r\n<polygon fill=\"#8139e5\" stroke=\"black\" points=\"336.5,-68 229.5,-68 229.5,-0 336.5,-0 336.5,-68\"/>\r\n<text text-anchor=\"middle\" x=\"283\" y=\"-52.8\" font-family=\"Times New Roman,serif\" font-size=\"14.00\">gini = 0.0</text>\r\n<text text-anchor=\"middle\" x=\"283\" y=\"-37.8\" font-family=\"Times New Roman,serif\" font-size=\"14.00\">samples = 1</text>\r\n<text text-anchor=\"middle\" x=\"283\" y=\"-22.8\" font-family=\"Times New Roman,serif\" font-size=\"14.00\">value = [0, 0, 1]</text>\r\n<text text-anchor=\"middle\" x=\"283\" y=\"-7.8\" font-family=\"Times New Roman,serif\" font-size=\"14.00\">class = virginica</text>\r\n</g>\r\n<!-- 7&#45;&gt;9 -->\r\n<g id=\"edge9\" class=\"edge\"><title>7&#45;&gt;9</title>\r\n<path fill=\"none\" stroke=\"black\" d=\"M242.204,-103.726C247.401,-94.9703 252.902,-85.7032 258.125,-76.9051\"/>\r\n<polygon fill=\"black\" stroke=\"black\" points=\"261.138,-78.6853 263.233,-68.2996 255.119,-75.1121 261.138,-78.6853\"/>\r\n</g>\r\n<!-- 11 -->\r\n<g id=\"node12\" class=\"node\"><title>11</title>\r\n<polygon fill=\"#ab7bee\" stroke=\"black\" points=\"460.5,-306 309.5,-306 309.5,-223 460.5,-223 460.5,-306\"/>\r\n<text text-anchor=\"middle\" x=\"385\" y=\"-290.8\" font-family=\"Times New Roman,serif\" font-size=\"14.00\">sepal width (cm) &lt;= 3.1</text>\r\n<text text-anchor=\"middle\" x=\"385\" y=\"-275.8\" font-family=\"Times New Roman,serif\" font-size=\"14.00\">gini = 0.375</text>\r\n<text text-anchor=\"middle\" x=\"385\" y=\"-260.8\" font-family=\"Times New Roman,serif\" font-size=\"14.00\">samples = 4</text>\r\n<text text-anchor=\"middle\" x=\"385\" y=\"-245.8\" font-family=\"Times New Roman,serif\" font-size=\"14.00\">value = [0, 1, 3]</text>\r\n<text text-anchor=\"middle\" x=\"385\" y=\"-230.8\" font-family=\"Times New Roman,serif\" font-size=\"14.00\">class = virginica</text>\r\n</g>\r\n<!-- 10&#45;&gt;11 -->\r\n<g id=\"edge11\" class=\"edge\"><title>10&#45;&gt;11</title>\r\n<path fill=\"none\" stroke=\"black\" d=\"M385.653,-341.907C385.582,-333.649 385.507,-324.864 385.434,-316.302\"/>\r\n<polygon fill=\"black\" stroke=\"black\" points=\"388.932,-315.99 385.346,-306.021 381.932,-316.05 388.932,-315.99\"/>\r\n</g>\r\n<!-- 14 -->\r\n<g id=\"node15\" class=\"node\"><title>14</title>\r\n<polygon fill=\"#8139e5\" stroke=\"black\" points=\"591,-298.5 479,-298.5 479,-230.5 591,-230.5 591,-298.5\"/>\r\n<text text-anchor=\"middle\" x=\"535\" y=\"-283.3\" font-family=\"Times New Roman,serif\" font-size=\"14.00\">gini = 0.0</text>\r\n<text text-anchor=\"middle\" x=\"535\" y=\"-268.3\" font-family=\"Times New Roman,serif\" font-size=\"14.00\">samples = 30</text>\r\n<text text-anchor=\"middle\" x=\"535\" y=\"-253.3\" font-family=\"Times New Roman,serif\" font-size=\"14.00\">value = [0, 0, 30]</text>\r\n<text text-anchor=\"middle\" x=\"535\" y=\"-238.3\" font-family=\"Times New Roman,serif\" font-size=\"14.00\">class = virginica</text>\r\n</g>\r\n<!-- 10&#45;&gt;14 -->\r\n<g id=\"edge14\" class=\"edge\"><title>10&#45;&gt;14</title>\r\n<path fill=\"none\" stroke=\"black\" d=\"M437.695,-341.907C452.871,-329.99 469.446,-316.976 484.544,-305.12\"/>\r\n<polygon fill=\"black\" stroke=\"black\" points=\"487.058,-307.596 492.762,-298.667 482.735,-302.09 487.058,-307.596\"/>\r\n</g>\r\n<!-- 12 -->\r\n<g id=\"node13\" class=\"node\"><title>12</title>\r\n<polygon fill=\"#8139e5\" stroke=\"black\" points=\"431.5,-179.5 324.5,-179.5 324.5,-111.5 431.5,-111.5 431.5,-179.5\"/>\r\n<text text-anchor=\"middle\" x=\"378\" y=\"-164.3\" font-family=\"Times New Roman,serif\" font-size=\"14.00\">gini = 0.0</text>\r\n<text text-anchor=\"middle\" x=\"378\" y=\"-149.3\" font-family=\"Times New Roman,serif\" font-size=\"14.00\">samples = 3</text>\r\n<text text-anchor=\"middle\" x=\"378\" y=\"-134.3\" font-family=\"Times New Roman,serif\" font-size=\"14.00\">value = [0, 0, 3]</text>\r\n<text text-anchor=\"middle\" x=\"378\" y=\"-119.3\" font-family=\"Times New Roman,serif\" font-size=\"14.00\">class = virginica</text>\r\n</g>\r\n<!-- 11&#45;&gt;12 -->\r\n<g id=\"edge12\" class=\"edge\"><title>11&#45;&gt;12</title>\r\n<path fill=\"none\" stroke=\"black\" d=\"M382.571,-222.907C381.931,-212.204 381.238,-200.615 380.589,-189.776\"/>\r\n<polygon fill=\"black\" stroke=\"black\" points=\"384.075,-189.44 379.984,-179.667 377.088,-189.858 384.075,-189.44\"/>\r\n</g>\r\n<!-- 13 -->\r\n<g id=\"node14\" class=\"node\"><title>13</title>\r\n<polygon fill=\"#39e581\" stroke=\"black\" points=\"566,-179.5 450,-179.5 450,-111.5 566,-111.5 566,-179.5\"/>\r\n<text text-anchor=\"middle\" x=\"508\" y=\"-164.3\" font-family=\"Times New Roman,serif\" font-size=\"14.00\">gini = 0.0</text>\r\n<text text-anchor=\"middle\" x=\"508\" y=\"-149.3\" font-family=\"Times New Roman,serif\" font-size=\"14.00\">samples = 1</text>\r\n<text text-anchor=\"middle\" x=\"508\" y=\"-134.3\" font-family=\"Times New Roman,serif\" font-size=\"14.00\">value = [0, 1, 0]</text>\r\n<text text-anchor=\"middle\" x=\"508\" y=\"-119.3\" font-family=\"Times New Roman,serif\" font-size=\"14.00\">class = versicolor</text>\r\n</g>\r\n<!-- 11&#45;&gt;13 -->\r\n<g id=\"edge13\" class=\"edge\"><title>11&#45;&gt;13</title>\r\n<path fill=\"none\" stroke=\"black\" d=\"M427.674,-222.907C439.971,-211.211 453.378,-198.457 465.655,-186.78\"/>\r\n<polygon fill=\"black\" stroke=\"black\" points=\"468.299,-189.095 473.132,-179.667 463.474,-184.023 468.299,-189.095\"/>\r\n</g>\r\n</g>\r\n</svg>\r\n",
      "text/plain": [
       "<graphviz.files.Source at 0x1e7935d74a8>"
      ]
     },
     "metadata": {},
     "execution_count": 6
    }
   ],
   "metadata": {}
  },
  {
   "cell_type": "code",
   "execution_count": 7,
   "source": [
    "# accuracy 확인 \r\n",
    "\r\n",
    "from sklearn.metrics import accuracy_score\r\n",
    "\r\n",
    "y_predict = tree.predict(x_test)\r\n",
    "print(f\"Accuracy :{accuracy_score(y_test,y_predict)}\")"
   ],
   "outputs": [
    {
     "output_type": "stream",
     "name": "stdout",
     "text": [
      "Accuracy :0.9666666666666667\n"
     ]
    }
   ],
   "metadata": {}
  },
  {
   "cell_type": "markdown",
   "source": [
    "### 파라미터 정리하기 \r\n",
    "\r\n",
    "1) 전처리 : 데이터 스케일링\r\n",
    "2) splitting criterion : 불순도 지수 기준(지니계수, 엔트로피 지수 비교) \r\n",
    "3) stopping criterion : max_depth 설정해보기"
   ],
   "metadata": {}
  },
  {
   "cell_type": "code",
   "execution_count": 24,
   "source": [
    "# 데이터 특성 \r\n",
    "df_feature.head()\r\n",
    "\r\n",
    "# 해석 : 다 연속형 데이터군 "
   ],
   "outputs": [
    {
     "output_type": "execute_result",
     "data": {
      "text/html": [
       "<div>\n",
       "<style scoped>\n",
       "    .dataframe tbody tr th:only-of-type {\n",
       "        vertical-align: middle;\n",
       "    }\n",
       "\n",
       "    .dataframe tbody tr th {\n",
       "        vertical-align: top;\n",
       "    }\n",
       "\n",
       "    .dataframe thead th {\n",
       "        text-align: right;\n",
       "    }\n",
       "</style>\n",
       "<table border=\"1\" class=\"dataframe\">\n",
       "  <thead>\n",
       "    <tr style=\"text-align: right;\">\n",
       "      <th></th>\n",
       "      <th>sepal length (cm)</th>\n",
       "      <th>sepal width (cm)</th>\n",
       "      <th>petal length (cm)</th>\n",
       "      <th>petal width (cm)</th>\n",
       "    </tr>\n",
       "  </thead>\n",
       "  <tbody>\n",
       "    <tr>\n",
       "      <th>0</th>\n",
       "      <td>5.1</td>\n",
       "      <td>3.5</td>\n",
       "      <td>1.4</td>\n",
       "      <td>0.2</td>\n",
       "    </tr>\n",
       "    <tr>\n",
       "      <th>1</th>\n",
       "      <td>4.9</td>\n",
       "      <td>3.0</td>\n",
       "      <td>1.4</td>\n",
       "      <td>0.2</td>\n",
       "    </tr>\n",
       "    <tr>\n",
       "      <th>2</th>\n",
       "      <td>4.7</td>\n",
       "      <td>3.2</td>\n",
       "      <td>1.3</td>\n",
       "      <td>0.2</td>\n",
       "    </tr>\n",
       "    <tr>\n",
       "      <th>3</th>\n",
       "      <td>4.6</td>\n",
       "      <td>3.1</td>\n",
       "      <td>1.5</td>\n",
       "      <td>0.2</td>\n",
       "    </tr>\n",
       "    <tr>\n",
       "      <th>4</th>\n",
       "      <td>5.0</td>\n",
       "      <td>3.6</td>\n",
       "      <td>1.4</td>\n",
       "      <td>0.2</td>\n",
       "    </tr>\n",
       "  </tbody>\n",
       "</table>\n",
       "</div>"
      ],
      "text/plain": [
       "   sepal length (cm)  sepal width (cm)  petal length (cm)  petal width (cm)\n",
       "0                5.1               3.5                1.4               0.2\n",
       "1                4.9               3.0                1.4               0.2\n",
       "2                4.7               3.2                1.3               0.2\n",
       "3                4.6               3.1                1.5               0.2\n",
       "4                5.0               3.6                1.4               0.2"
      ]
     },
     "metadata": {},
     "execution_count": 24
    }
   ],
   "metadata": {}
  },
  {
   "cell_type": "code",
   "execution_count": 11,
   "source": [
    "# 데이터 스케일링 : 정규화 작업을 해줄 것이다 \r\n",
    "\r\n",
    "from sklearn.preprocessing import StandardScaler\r\n",
    "\r\n",
    "df_scaled = pd.DataFrame(StandardScaler().fit_transform(df_feature), columns= iris.feature_names)\r\n",
    "df_scaled.head()"
   ],
   "outputs": [
    {
     "output_type": "execute_result",
     "data": {
      "text/html": [
       "<div>\n",
       "<style scoped>\n",
       "    .dataframe tbody tr th:only-of-type {\n",
       "        vertical-align: middle;\n",
       "    }\n",
       "\n",
       "    .dataframe tbody tr th {\n",
       "        vertical-align: top;\n",
       "    }\n",
       "\n",
       "    .dataframe thead th {\n",
       "        text-align: right;\n",
       "    }\n",
       "</style>\n",
       "<table border=\"1\" class=\"dataframe\">\n",
       "  <thead>\n",
       "    <tr style=\"text-align: right;\">\n",
       "      <th></th>\n",
       "      <th>sepal length (cm)</th>\n",
       "      <th>sepal width (cm)</th>\n",
       "      <th>petal length (cm)</th>\n",
       "      <th>petal width (cm)</th>\n",
       "    </tr>\n",
       "  </thead>\n",
       "  <tbody>\n",
       "    <tr>\n",
       "      <th>0</th>\n",
       "      <td>-0.900681</td>\n",
       "      <td>1.019004</td>\n",
       "      <td>-1.340227</td>\n",
       "      <td>-1.315444</td>\n",
       "    </tr>\n",
       "    <tr>\n",
       "      <th>1</th>\n",
       "      <td>-1.143017</td>\n",
       "      <td>-0.131979</td>\n",
       "      <td>-1.340227</td>\n",
       "      <td>-1.315444</td>\n",
       "    </tr>\n",
       "    <tr>\n",
       "      <th>2</th>\n",
       "      <td>-1.385353</td>\n",
       "      <td>0.328414</td>\n",
       "      <td>-1.397064</td>\n",
       "      <td>-1.315444</td>\n",
       "    </tr>\n",
       "    <tr>\n",
       "      <th>3</th>\n",
       "      <td>-1.506521</td>\n",
       "      <td>0.098217</td>\n",
       "      <td>-1.283389</td>\n",
       "      <td>-1.315444</td>\n",
       "    </tr>\n",
       "    <tr>\n",
       "      <th>4</th>\n",
       "      <td>-1.021849</td>\n",
       "      <td>1.249201</td>\n",
       "      <td>-1.340227</td>\n",
       "      <td>-1.315444</td>\n",
       "    </tr>\n",
       "  </tbody>\n",
       "</table>\n",
       "</div>"
      ],
      "text/plain": [
       "   sepal length (cm)  sepal width (cm)  petal length (cm)  petal width (cm)\n",
       "0          -0.900681          1.019004          -1.340227         -1.315444\n",
       "1          -1.143017         -0.131979          -1.340227         -1.315444\n",
       "2          -1.385353          0.328414          -1.397064         -1.315444\n",
       "3          -1.506521          0.098217          -1.283389         -1.315444\n",
       "4          -1.021849          1.249201          -1.340227         -1.315444"
      ]
     },
     "metadata": {},
     "execution_count": 11
    }
   ],
   "metadata": {}
  },
  {
   "cell_type": "code",
   "execution_count": 23,
   "source": [
    "# 데이터 나누기 \r\n",
    "x_train, x_test, y_train, y_test= train_test_split(df_scaled, df_target, test_size = 0.2, random_state = 100)\r\n",
    "\r\n",
    "\r\n",
    "# 모델 생성 \r\n",
    "# split : 불순도 지수를 gini가 아닌 entropy로 사용해보기 \r\n",
    "## 사실, 모델 성능에는 문제가 없음, 다만 stop 기준에 영향을 줌 \r\n",
    "\r\n",
    "# stop : max_depth 설정 (오버피팅 막기)\r\n",
    "## 원래는 min_samples_split도 설정하고 싶었지만, iris는 데이터 수가 적기 때문에 디폴트 값 2로 사용했음 \r\n",
    "\r\n",
    "# entropy로 했을 때\r\n",
    "tree_en = DecisionTreeClassifier(criterion = \"entropy\", max_depth= 3, min_samples_split=2)\r\n",
    "\r\n",
    "# gini로 했을 때\r\n",
    "tree_gini = DecisionTreeClassifier(criterion = \"gini\", max_depth= 3, min_samples_split=2)"
   ],
   "outputs": [],
   "metadata": {}
  },
  {
   "cell_type": "code",
   "execution_count": 24,
   "source": [
    "# 모델 훈련\r\n",
    "tree_en.fit(x_train, y_train)\r\n",
    "tree_gini.fit(x_train, y_train)"
   ],
   "outputs": [
    {
     "output_type": "execute_result",
     "data": {
      "text/plain": [
       "DecisionTreeClassifier(ccp_alpha=0.0, class_weight=None, criterion='gini',\n",
       "                       max_depth=3, max_features=None, max_leaf_nodes=None,\n",
       "                       min_impurity_decrease=0.0, min_impurity_split=None,\n",
       "                       min_samples_leaf=1, min_samples_split=2,\n",
       "                       min_weight_fraction_leaf=0.0, presort='deprecated',\n",
       "                       random_state=None, splitter='best')"
      ]
     },
     "metadata": {},
     "execution_count": 24
    }
   ],
   "metadata": {}
  },
  {
   "cell_type": "code",
   "execution_count": 25,
   "source": [
    "# tree_en 그려보기 \r\n",
    "export_graphviz(tree_en, out_file=\"tree_en.dot\", class_names = iris.target_names, \r\n",
    "                           feature_names = iris.feature_names, impurity=True, filled=True)\r\n",
    "with open(\"tree_en.dot\") as f : \r\n",
    "    dot_graph = f.read()\r\n",
    "graphviz.Source(dot_graph)"
   ],
   "outputs": [
    {
     "output_type": "execute_result",
     "data": {
      "image/svg+xml": "<?xml version=\"1.0\" encoding=\"UTF-8\" standalone=\"no\"?>\r\n<!DOCTYPE svg PUBLIC \"-//W3C//DTD SVG 1.1//EN\"\r\n \"http://www.w3.org/Graphics/SVG/1.1/DTD/svg11.dtd\">\r\n<!-- Generated by graphviz version 2.38.0 (20140413.2041)\r\n -->\r\n<!-- Title: Tree Pages: 1 -->\r\n<svg width=\"533pt\" height=\"433pt\"\r\n viewBox=\"0.00 0.00 533.00 433.00\" xmlns=\"http://www.w3.org/2000/svg\" xmlns:xlink=\"http://www.w3.org/1999/xlink\">\r\n<g id=\"graph0\" class=\"graph\" transform=\"scale(1 1) rotate(0) translate(4 429)\">\r\n<title>Tree</title>\r\n<polygon fill=\"white\" stroke=\"none\" points=\"-4,4 -4,-429 529,-429 529,4 -4,4\"/>\r\n<!-- 0 -->\r\n<g id=\"node1\" class=\"node\"><title>0</title>\r\n<polygon fill=\"#f3fdf7\" stroke=\"black\" points=\"269.5,-425 102.5,-425 102.5,-342 269.5,-342 269.5,-425\"/>\r\n<text text-anchor=\"middle\" x=\"186\" y=\"-409.8\" font-family=\"Times New Roman,serif\" font-size=\"14.00\">petal width (cm) &lt;= &#45;0.526</text>\r\n<text text-anchor=\"middle\" x=\"186\" y=\"-394.8\" font-family=\"Times New Roman,serif\" font-size=\"14.00\">entropy = 1.581</text>\r\n<text text-anchor=\"middle\" x=\"186\" y=\"-379.8\" font-family=\"Times New Roman,serif\" font-size=\"14.00\">samples = 120</text>\r\n<text text-anchor=\"middle\" x=\"186\" y=\"-364.8\" font-family=\"Times New Roman,serif\" font-size=\"14.00\">value = [39, 44, 37]</text>\r\n<text text-anchor=\"middle\" x=\"186\" y=\"-349.8\" font-family=\"Times New Roman,serif\" font-size=\"14.00\">class = versicolor</text>\r\n</g>\r\n<!-- 1 -->\r\n<g id=\"node2\" class=\"node\"><title>1</title>\r\n<polygon fill=\"#e58139\" stroke=\"black\" points=\"165,-298.5 53,-298.5 53,-230.5 165,-230.5 165,-298.5\"/>\r\n<text text-anchor=\"middle\" x=\"109\" y=\"-283.3\" font-family=\"Times New Roman,serif\" font-size=\"14.00\">entropy = 0.0</text>\r\n<text text-anchor=\"middle\" x=\"109\" y=\"-268.3\" font-family=\"Times New Roman,serif\" font-size=\"14.00\">samples = 39</text>\r\n<text text-anchor=\"middle\" x=\"109\" y=\"-253.3\" font-family=\"Times New Roman,serif\" font-size=\"14.00\">value = [39, 0, 0]</text>\r\n<text text-anchor=\"middle\" x=\"109\" y=\"-238.3\" font-family=\"Times New Roman,serif\" font-size=\"14.00\">class = setosa</text>\r\n</g>\r\n<!-- 0&#45;&gt;1 -->\r\n<g id=\"edge1\" class=\"edge\"><title>0&#45;&gt;1</title>\r\n<path fill=\"none\" stroke=\"black\" d=\"M159.285,-341.907C151.878,-330.652 143.827,-318.418 136.382,-307.106\"/>\r\n<polygon fill=\"black\" stroke=\"black\" points=\"139.249,-305.096 130.828,-298.667 133.402,-308.944 139.249,-305.096\"/>\r\n<text text-anchor=\"middle\" x=\"125.779\" y=\"-319.452\" font-family=\"Times New Roman,serif\" font-size=\"14.00\">True</text>\r\n</g>\r\n<!-- 2 -->\r\n<g id=\"node3\" class=\"node\"><title>2</title>\r\n<polygon fill=\"#e0fbeb\" stroke=\"black\" points=\"345,-306 183,-306 183,-223 345,-223 345,-306\"/>\r\n<text text-anchor=\"middle\" x=\"264\" y=\"-290.8\" font-family=\"Times New Roman,serif\" font-size=\"14.00\">petal width (cm) &lt;= 0.593</text>\r\n<text text-anchor=\"middle\" x=\"264\" y=\"-275.8\" font-family=\"Times New Roman,serif\" font-size=\"14.00\">entropy = 0.995</text>\r\n<text text-anchor=\"middle\" x=\"264\" y=\"-260.8\" font-family=\"Times New Roman,serif\" font-size=\"14.00\">samples = 81</text>\r\n<text text-anchor=\"middle\" x=\"264\" y=\"-245.8\" font-family=\"Times New Roman,serif\" font-size=\"14.00\">value = [0, 44, 37]</text>\r\n<text text-anchor=\"middle\" x=\"264\" y=\"-230.8\" font-family=\"Times New Roman,serif\" font-size=\"14.00\">class = versicolor</text>\r\n</g>\r\n<!-- 0&#45;&gt;2 -->\r\n<g id=\"edge2\" class=\"edge\"><title>0&#45;&gt;2</title>\r\n<path fill=\"none\" stroke=\"black\" d=\"M213.062,-341.907C218.93,-333.105 225.198,-323.703 231.259,-314.612\"/>\r\n<polygon fill=\"black\" stroke=\"black\" points=\"234.351,-316.283 236.986,-306.021 228.527,-312.4 234.351,-316.283\"/>\r\n<text text-anchor=\"middle\" x=\"241.889\" y=\"-326.835\" font-family=\"Times New Roman,serif\" font-size=\"14.00\">False</text>\r\n</g>\r\n<!-- 3 -->\r\n<g id=\"node4\" class=\"node\"><title>3</title>\r\n<polygon fill=\"#4be78d\" stroke=\"black\" points=\"255,-187 91,-187 91,-104 255,-104 255,-187\"/>\r\n<text text-anchor=\"middle\" x=\"173\" y=\"-171.8\" font-family=\"Times New Roman,serif\" font-size=\"14.00\">petal length (cm) &lt;= 0.678</text>\r\n<text text-anchor=\"middle\" x=\"173\" y=\"-156.8\" font-family=\"Times New Roman,serif\" font-size=\"14.00\">entropy = 0.42</text>\r\n<text text-anchor=\"middle\" x=\"173\" y=\"-141.8\" font-family=\"Times New Roman,serif\" font-size=\"14.00\">samples = 47</text>\r\n<text text-anchor=\"middle\" x=\"173\" y=\"-126.8\" font-family=\"Times New Roman,serif\" font-size=\"14.00\">value = [0, 43, 4]</text>\r\n<text text-anchor=\"middle\" x=\"173\" y=\"-111.8\" font-family=\"Times New Roman,serif\" font-size=\"14.00\">class = versicolor</text>\r\n</g>\r\n<!-- 2&#45;&gt;3 -->\r\n<g id=\"edge3\" class=\"edge\"><title>2&#45;&gt;3</title>\r\n<path fill=\"none\" stroke=\"black\" d=\"M232.428,-222.907C225.44,-213.923 217.967,-204.315 210.761,-195.05\"/>\r\n<polygon fill=\"black\" stroke=\"black\" points=\"213.418,-192.766 204.516,-187.021 207.893,-197.063 213.418,-192.766\"/>\r\n</g>\r\n<!-- 6 -->\r\n<g id=\"node7\" class=\"node\"><title>6</title>\r\n<polygon fill=\"#853fe6\" stroke=\"black\" points=\"437,-187 273,-187 273,-104 437,-104 437,-187\"/>\r\n<text text-anchor=\"middle\" x=\"355\" y=\"-171.8\" font-family=\"Times New Roman,serif\" font-size=\"14.00\">petal length (cm) &lt;= 0.621</text>\r\n<text text-anchor=\"middle\" x=\"355\" y=\"-156.8\" font-family=\"Times New Roman,serif\" font-size=\"14.00\">entropy = 0.191</text>\r\n<text text-anchor=\"middle\" x=\"355\" y=\"-141.8\" font-family=\"Times New Roman,serif\" font-size=\"14.00\">samples = 34</text>\r\n<text text-anchor=\"middle\" x=\"355\" y=\"-126.8\" font-family=\"Times New Roman,serif\" font-size=\"14.00\">value = [0, 1, 33]</text>\r\n<text text-anchor=\"middle\" x=\"355\" y=\"-111.8\" font-family=\"Times New Roman,serif\" font-size=\"14.00\">class = virginica</text>\r\n</g>\r\n<!-- 2&#45;&gt;6 -->\r\n<g id=\"edge6\" class=\"edge\"><title>2&#45;&gt;6</title>\r\n<path fill=\"none\" stroke=\"black\" d=\"M295.572,-222.907C302.56,-213.923 310.033,-204.315 317.239,-195.05\"/>\r\n<polygon fill=\"black\" stroke=\"black\" points=\"320.107,-197.063 323.484,-187.021 314.582,-192.766 320.107,-197.063\"/>\r\n</g>\r\n<!-- 4 -->\r\n<g id=\"node5\" class=\"node\"><title>4</title>\r\n<polygon fill=\"#39e581\" stroke=\"black\" points=\"116,-68 0,-68 0,-0 116,-0 116,-68\"/>\r\n<text text-anchor=\"middle\" x=\"58\" y=\"-52.8\" font-family=\"Times New Roman,serif\" font-size=\"14.00\">entropy = 0.0</text>\r\n<text text-anchor=\"middle\" x=\"58\" y=\"-37.8\" font-family=\"Times New Roman,serif\" font-size=\"14.00\">samples = 42</text>\r\n<text text-anchor=\"middle\" x=\"58\" y=\"-22.8\" font-family=\"Times New Roman,serif\" font-size=\"14.00\">value = [0, 42, 0]</text>\r\n<text text-anchor=\"middle\" x=\"58\" y=\"-7.8\" font-family=\"Times New Roman,serif\" font-size=\"14.00\">class = versicolor</text>\r\n</g>\r\n<!-- 3&#45;&gt;4 -->\r\n<g id=\"edge4\" class=\"edge\"><title>3&#45;&gt;4</title>\r\n<path fill=\"none\" stroke=\"black\" d=\"M130.178,-103.726C120.408,-94.423 110.031,-84.5428 100.283,-75.2612\"/>\r\n<polygon fill=\"black\" stroke=\"black\" points=\"102.628,-72.6606 92.9722,-68.2996 97.8008,-77.7301 102.628,-72.6606\"/>\r\n</g>\r\n<!-- 5 -->\r\n<g id=\"node6\" class=\"node\"><title>5</title>\r\n<polygon fill=\"#a06aec\" stroke=\"black\" points=\"241.5,-68 134.5,-68 134.5,-0 241.5,-0 241.5,-68\"/>\r\n<text text-anchor=\"middle\" x=\"188\" y=\"-52.8\" font-family=\"Times New Roman,serif\" font-size=\"14.00\">entropy = 0.722</text>\r\n<text text-anchor=\"middle\" x=\"188\" y=\"-37.8\" font-family=\"Times New Roman,serif\" font-size=\"14.00\">samples = 5</text>\r\n<text text-anchor=\"middle\" x=\"188\" y=\"-22.8\" font-family=\"Times New Roman,serif\" font-size=\"14.00\">value = [0, 1, 4]</text>\r\n<text text-anchor=\"middle\" x=\"188\" y=\"-7.8\" font-family=\"Times New Roman,serif\" font-size=\"14.00\">class = virginica</text>\r\n</g>\r\n<!-- 3&#45;&gt;5 -->\r\n<g id=\"edge5\" class=\"edge\"><title>3&#45;&gt;5</title>\r\n<path fill=\"none\" stroke=\"black\" d=\"M178.585,-103.726C179.722,-95.4263 180.922,-86.6671 182.071,-78.2834\"/>\r\n<polygon fill=\"black\" stroke=\"black\" points=\"185.549,-78.6821 183.438,-68.2996 178.614,-77.732 185.549,-78.6821\"/>\r\n</g>\r\n<!-- 7 -->\r\n<g id=\"node8\" class=\"node\"><title>7</title>\r\n<polygon fill=\"#ab7bee\" stroke=\"black\" points=\"394.5,-68 287.5,-68 287.5,-0 394.5,-0 394.5,-68\"/>\r\n<text text-anchor=\"middle\" x=\"341\" y=\"-52.8\" font-family=\"Times New Roman,serif\" font-size=\"14.00\">entropy = 0.811</text>\r\n<text text-anchor=\"middle\" x=\"341\" y=\"-37.8\" font-family=\"Times New Roman,serif\" font-size=\"14.00\">samples = 4</text>\r\n<text text-anchor=\"middle\" x=\"341\" y=\"-22.8\" font-family=\"Times New Roman,serif\" font-size=\"14.00\">value = [0, 1, 3]</text>\r\n<text text-anchor=\"middle\" x=\"341\" y=\"-7.8\" font-family=\"Times New Roman,serif\" font-size=\"14.00\">class = virginica</text>\r\n</g>\r\n<!-- 6&#45;&gt;7 -->\r\n<g id=\"edge7\" class=\"edge\"><title>6&#45;&gt;7</title>\r\n<path fill=\"none\" stroke=\"black\" d=\"M349.787,-103.726C348.726,-95.4263 347.606,-86.6671 346.534,-78.2834\"/>\r\n<polygon fill=\"black\" stroke=\"black\" points=\"349.998,-77.7749 345.257,-68.2996 343.054,-78.6628 349.998,-77.7749\"/>\r\n</g>\r\n<!-- 8 -->\r\n<g id=\"node9\" class=\"node\"><title>8</title>\r\n<polygon fill=\"#8139e5\" stroke=\"black\" points=\"525,-68 413,-68 413,-0 525,-0 525,-68\"/>\r\n<text text-anchor=\"middle\" x=\"469\" y=\"-52.8\" font-family=\"Times New Roman,serif\" font-size=\"14.00\">entropy = 0.0</text>\r\n<text text-anchor=\"middle\" x=\"469\" y=\"-37.8\" font-family=\"Times New Roman,serif\" font-size=\"14.00\">samples = 30</text>\r\n<text text-anchor=\"middle\" x=\"469\" y=\"-22.8\" font-family=\"Times New Roman,serif\" font-size=\"14.00\">value = [0, 0, 30]</text>\r\n<text text-anchor=\"middle\" x=\"469\" y=\"-7.8\" font-family=\"Times New Roman,serif\" font-size=\"14.00\">class = virginica</text>\r\n</g>\r\n<!-- 6&#45;&gt;8 -->\r\n<g id=\"edge8\" class=\"edge\"><title>6&#45;&gt;8</title>\r\n<path fill=\"none\" stroke=\"black\" d=\"M397.449,-103.726C407.135,-94.423 417.421,-84.5428 427.084,-75.2612\"/>\r\n<polygon fill=\"black\" stroke=\"black\" points=\"429.544,-77.7511 434.332,-68.2996 424.695,-72.7027 429.544,-77.7511\"/>\r\n</g>\r\n</g>\r\n</svg>\r\n",
      "text/plain": [
       "<graphviz.files.Source at 0x1e795456048>"
      ]
     },
     "metadata": {},
     "execution_count": 25
    }
   ],
   "metadata": {}
  },
  {
   "cell_type": "code",
   "execution_count": 26,
   "source": [
    "# tree_gini 그려보기 \r\n",
    "export_graphviz(tree_gini, out_file=\"tree_gini.dot\", class_names = iris.target_names, \r\n",
    "                           feature_names = iris.feature_names, impurity=True, filled=True)\r\n",
    "with open(\"tree_gini.dot\") as f : \r\n",
    "    dot_graph = f.read()\r\n",
    "graphviz.Source(dot_graph)"
   ],
   "outputs": [
    {
     "output_type": "execute_result",
     "data": {
      "image/svg+xml": "<?xml version=\"1.0\" encoding=\"UTF-8\" standalone=\"no\"?>\r\n<!DOCTYPE svg PUBLIC \"-//W3C//DTD SVG 1.1//EN\"\r\n \"http://www.w3.org/Graphics/SVG/1.1/DTD/svg11.dtd\">\r\n<!-- Generated by graphviz version 2.38.0 (20140413.2041)\r\n -->\r\n<!-- Title: Tree Pages: 1 -->\r\n<svg width=\"533pt\" height=\"433pt\"\r\n viewBox=\"0.00 0.00 533.00 433.00\" xmlns=\"http://www.w3.org/2000/svg\" xmlns:xlink=\"http://www.w3.org/1999/xlink\">\r\n<g id=\"graph0\" class=\"graph\" transform=\"scale(1 1) rotate(0) translate(4 429)\">\r\n<title>Tree</title>\r\n<polygon fill=\"white\" stroke=\"none\" points=\"-4,4 -4,-429 529,-429 529,4 -4,4\"/>\r\n<!-- 0 -->\r\n<g id=\"node1\" class=\"node\"><title>0</title>\r\n<polygon fill=\"#f3fdf7\" stroke=\"black\" points=\"269.5,-425 102.5,-425 102.5,-342 269.5,-342 269.5,-425\"/>\r\n<text text-anchor=\"middle\" x=\"186\" y=\"-409.8\" font-family=\"Times New Roman,serif\" font-size=\"14.00\">petal width (cm) &lt;= &#45;0.526</text>\r\n<text text-anchor=\"middle\" x=\"186\" y=\"-394.8\" font-family=\"Times New Roman,serif\" font-size=\"14.00\">gini = 0.665</text>\r\n<text text-anchor=\"middle\" x=\"186\" y=\"-379.8\" font-family=\"Times New Roman,serif\" font-size=\"14.00\">samples = 120</text>\r\n<text text-anchor=\"middle\" x=\"186\" y=\"-364.8\" font-family=\"Times New Roman,serif\" font-size=\"14.00\">value = [39, 44, 37]</text>\r\n<text text-anchor=\"middle\" x=\"186\" y=\"-349.8\" font-family=\"Times New Roman,serif\" font-size=\"14.00\">class = versicolor</text>\r\n</g>\r\n<!-- 1 -->\r\n<g id=\"node2\" class=\"node\"><title>1</title>\r\n<polygon fill=\"#e58139\" stroke=\"black\" points=\"165,-298.5 53,-298.5 53,-230.5 165,-230.5 165,-298.5\"/>\r\n<text text-anchor=\"middle\" x=\"109\" y=\"-283.3\" font-family=\"Times New Roman,serif\" font-size=\"14.00\">gini = 0.0</text>\r\n<text text-anchor=\"middle\" x=\"109\" y=\"-268.3\" font-family=\"Times New Roman,serif\" font-size=\"14.00\">samples = 39</text>\r\n<text text-anchor=\"middle\" x=\"109\" y=\"-253.3\" font-family=\"Times New Roman,serif\" font-size=\"14.00\">value = [39, 0, 0]</text>\r\n<text text-anchor=\"middle\" x=\"109\" y=\"-238.3\" font-family=\"Times New Roman,serif\" font-size=\"14.00\">class = setosa</text>\r\n</g>\r\n<!-- 0&#45;&gt;1 -->\r\n<g id=\"edge1\" class=\"edge\"><title>0&#45;&gt;1</title>\r\n<path fill=\"none\" stroke=\"black\" d=\"M159.285,-341.907C151.878,-330.652 143.827,-318.418 136.382,-307.106\"/>\r\n<polygon fill=\"black\" stroke=\"black\" points=\"139.249,-305.096 130.828,-298.667 133.402,-308.944 139.249,-305.096\"/>\r\n<text text-anchor=\"middle\" x=\"125.779\" y=\"-319.452\" font-family=\"Times New Roman,serif\" font-size=\"14.00\">True</text>\r\n</g>\r\n<!-- 2 -->\r\n<g id=\"node3\" class=\"node\"><title>2</title>\r\n<polygon fill=\"#e0fbeb\" stroke=\"black\" points=\"345,-306 183,-306 183,-223 345,-223 345,-306\"/>\r\n<text text-anchor=\"middle\" x=\"264\" y=\"-290.8\" font-family=\"Times New Roman,serif\" font-size=\"14.00\">petal width (cm) &lt;= 0.593</text>\r\n<text text-anchor=\"middle\" x=\"264\" y=\"-275.8\" font-family=\"Times New Roman,serif\" font-size=\"14.00\">gini = 0.496</text>\r\n<text text-anchor=\"middle\" x=\"264\" y=\"-260.8\" font-family=\"Times New Roman,serif\" font-size=\"14.00\">samples = 81</text>\r\n<text text-anchor=\"middle\" x=\"264\" y=\"-245.8\" font-family=\"Times New Roman,serif\" font-size=\"14.00\">value = [0, 44, 37]</text>\r\n<text text-anchor=\"middle\" x=\"264\" y=\"-230.8\" font-family=\"Times New Roman,serif\" font-size=\"14.00\">class = versicolor</text>\r\n</g>\r\n<!-- 0&#45;&gt;2 -->\r\n<g id=\"edge2\" class=\"edge\"><title>0&#45;&gt;2</title>\r\n<path fill=\"none\" stroke=\"black\" d=\"M213.062,-341.907C218.93,-333.105 225.198,-323.703 231.259,-314.612\"/>\r\n<polygon fill=\"black\" stroke=\"black\" points=\"234.351,-316.283 236.986,-306.021 228.527,-312.4 234.351,-316.283\"/>\r\n<text text-anchor=\"middle\" x=\"241.889\" y=\"-326.835\" font-family=\"Times New Roman,serif\" font-size=\"14.00\">False</text>\r\n</g>\r\n<!-- 3 -->\r\n<g id=\"node4\" class=\"node\"><title>3</title>\r\n<polygon fill=\"#4be78d\" stroke=\"black\" points=\"255,-187 91,-187 91,-104 255,-104 255,-187\"/>\r\n<text text-anchor=\"middle\" x=\"173\" y=\"-171.8\" font-family=\"Times New Roman,serif\" font-size=\"14.00\">petal length (cm) &lt;= 0.678</text>\r\n<text text-anchor=\"middle\" x=\"173\" y=\"-156.8\" font-family=\"Times New Roman,serif\" font-size=\"14.00\">gini = 0.156</text>\r\n<text text-anchor=\"middle\" x=\"173\" y=\"-141.8\" font-family=\"Times New Roman,serif\" font-size=\"14.00\">samples = 47</text>\r\n<text text-anchor=\"middle\" x=\"173\" y=\"-126.8\" font-family=\"Times New Roman,serif\" font-size=\"14.00\">value = [0, 43, 4]</text>\r\n<text text-anchor=\"middle\" x=\"173\" y=\"-111.8\" font-family=\"Times New Roman,serif\" font-size=\"14.00\">class = versicolor</text>\r\n</g>\r\n<!-- 2&#45;&gt;3 -->\r\n<g id=\"edge3\" class=\"edge\"><title>2&#45;&gt;3</title>\r\n<path fill=\"none\" stroke=\"black\" d=\"M232.428,-222.907C225.44,-213.923 217.967,-204.315 210.761,-195.05\"/>\r\n<polygon fill=\"black\" stroke=\"black\" points=\"213.418,-192.766 204.516,-187.021 207.893,-197.063 213.418,-192.766\"/>\r\n</g>\r\n<!-- 6 -->\r\n<g id=\"node7\" class=\"node\"><title>6</title>\r\n<polygon fill=\"#853fe6\" stroke=\"black\" points=\"437,-187 273,-187 273,-104 437,-104 437,-187\"/>\r\n<text text-anchor=\"middle\" x=\"355\" y=\"-171.8\" font-family=\"Times New Roman,serif\" font-size=\"14.00\">petal length (cm) &lt;= 0.621</text>\r\n<text text-anchor=\"middle\" x=\"355\" y=\"-156.8\" font-family=\"Times New Roman,serif\" font-size=\"14.00\">gini = 0.057</text>\r\n<text text-anchor=\"middle\" x=\"355\" y=\"-141.8\" font-family=\"Times New Roman,serif\" font-size=\"14.00\">samples = 34</text>\r\n<text text-anchor=\"middle\" x=\"355\" y=\"-126.8\" font-family=\"Times New Roman,serif\" font-size=\"14.00\">value = [0, 1, 33]</text>\r\n<text text-anchor=\"middle\" x=\"355\" y=\"-111.8\" font-family=\"Times New Roman,serif\" font-size=\"14.00\">class = virginica</text>\r\n</g>\r\n<!-- 2&#45;&gt;6 -->\r\n<g id=\"edge6\" class=\"edge\"><title>2&#45;&gt;6</title>\r\n<path fill=\"none\" stroke=\"black\" d=\"M295.572,-222.907C302.56,-213.923 310.033,-204.315 317.239,-195.05\"/>\r\n<polygon fill=\"black\" stroke=\"black\" points=\"320.107,-197.063 323.484,-187.021 314.582,-192.766 320.107,-197.063\"/>\r\n</g>\r\n<!-- 4 -->\r\n<g id=\"node5\" class=\"node\"><title>4</title>\r\n<polygon fill=\"#39e581\" stroke=\"black\" points=\"116,-68 0,-68 0,-0 116,-0 116,-68\"/>\r\n<text text-anchor=\"middle\" x=\"58\" y=\"-52.8\" font-family=\"Times New Roman,serif\" font-size=\"14.00\">gini = 0.0</text>\r\n<text text-anchor=\"middle\" x=\"58\" y=\"-37.8\" font-family=\"Times New Roman,serif\" font-size=\"14.00\">samples = 42</text>\r\n<text text-anchor=\"middle\" x=\"58\" y=\"-22.8\" font-family=\"Times New Roman,serif\" font-size=\"14.00\">value = [0, 42, 0]</text>\r\n<text text-anchor=\"middle\" x=\"58\" y=\"-7.8\" font-family=\"Times New Roman,serif\" font-size=\"14.00\">class = versicolor</text>\r\n</g>\r\n<!-- 3&#45;&gt;4 -->\r\n<g id=\"edge4\" class=\"edge\"><title>3&#45;&gt;4</title>\r\n<path fill=\"none\" stroke=\"black\" d=\"M130.178,-103.726C120.408,-94.423 110.031,-84.5428 100.283,-75.2612\"/>\r\n<polygon fill=\"black\" stroke=\"black\" points=\"102.628,-72.6606 92.9722,-68.2996 97.8008,-77.7301 102.628,-72.6606\"/>\r\n</g>\r\n<!-- 5 -->\r\n<g id=\"node6\" class=\"node\"><title>5</title>\r\n<polygon fill=\"#a06aec\" stroke=\"black\" points=\"241.5,-68 134.5,-68 134.5,-0 241.5,-0 241.5,-68\"/>\r\n<text text-anchor=\"middle\" x=\"188\" y=\"-52.8\" font-family=\"Times New Roman,serif\" font-size=\"14.00\">gini = 0.32</text>\r\n<text text-anchor=\"middle\" x=\"188\" y=\"-37.8\" font-family=\"Times New Roman,serif\" font-size=\"14.00\">samples = 5</text>\r\n<text text-anchor=\"middle\" x=\"188\" y=\"-22.8\" font-family=\"Times New Roman,serif\" font-size=\"14.00\">value = [0, 1, 4]</text>\r\n<text text-anchor=\"middle\" x=\"188\" y=\"-7.8\" font-family=\"Times New Roman,serif\" font-size=\"14.00\">class = virginica</text>\r\n</g>\r\n<!-- 3&#45;&gt;5 -->\r\n<g id=\"edge5\" class=\"edge\"><title>3&#45;&gt;5</title>\r\n<path fill=\"none\" stroke=\"black\" d=\"M178.585,-103.726C179.722,-95.4263 180.922,-86.6671 182.071,-78.2834\"/>\r\n<polygon fill=\"black\" stroke=\"black\" points=\"185.549,-78.6821 183.438,-68.2996 178.614,-77.732 185.549,-78.6821\"/>\r\n</g>\r\n<!-- 7 -->\r\n<g id=\"node8\" class=\"node\"><title>7</title>\r\n<polygon fill=\"#ab7bee\" stroke=\"black\" points=\"394.5,-68 287.5,-68 287.5,-0 394.5,-0 394.5,-68\"/>\r\n<text text-anchor=\"middle\" x=\"341\" y=\"-52.8\" font-family=\"Times New Roman,serif\" font-size=\"14.00\">gini = 0.375</text>\r\n<text text-anchor=\"middle\" x=\"341\" y=\"-37.8\" font-family=\"Times New Roman,serif\" font-size=\"14.00\">samples = 4</text>\r\n<text text-anchor=\"middle\" x=\"341\" y=\"-22.8\" font-family=\"Times New Roman,serif\" font-size=\"14.00\">value = [0, 1, 3]</text>\r\n<text text-anchor=\"middle\" x=\"341\" y=\"-7.8\" font-family=\"Times New Roman,serif\" font-size=\"14.00\">class = virginica</text>\r\n</g>\r\n<!-- 6&#45;&gt;7 -->\r\n<g id=\"edge7\" class=\"edge\"><title>6&#45;&gt;7</title>\r\n<path fill=\"none\" stroke=\"black\" d=\"M349.787,-103.726C348.726,-95.4263 347.606,-86.6671 346.534,-78.2834\"/>\r\n<polygon fill=\"black\" stroke=\"black\" points=\"349.998,-77.7749 345.257,-68.2996 343.054,-78.6628 349.998,-77.7749\"/>\r\n</g>\r\n<!-- 8 -->\r\n<g id=\"node9\" class=\"node\"><title>8</title>\r\n<polygon fill=\"#8139e5\" stroke=\"black\" points=\"525,-68 413,-68 413,-0 525,-0 525,-68\"/>\r\n<text text-anchor=\"middle\" x=\"469\" y=\"-52.8\" font-family=\"Times New Roman,serif\" font-size=\"14.00\">gini = 0.0</text>\r\n<text text-anchor=\"middle\" x=\"469\" y=\"-37.8\" font-family=\"Times New Roman,serif\" font-size=\"14.00\">samples = 30</text>\r\n<text text-anchor=\"middle\" x=\"469\" y=\"-22.8\" font-family=\"Times New Roman,serif\" font-size=\"14.00\">value = [0, 0, 30]</text>\r\n<text text-anchor=\"middle\" x=\"469\" y=\"-7.8\" font-family=\"Times New Roman,serif\" font-size=\"14.00\">class = virginica</text>\r\n</g>\r\n<!-- 6&#45;&gt;8 -->\r\n<g id=\"edge8\" class=\"edge\"><title>6&#45;&gt;8</title>\r\n<path fill=\"none\" stroke=\"black\" d=\"M397.449,-103.726C407.135,-94.423 417.421,-84.5428 427.084,-75.2612\"/>\r\n<polygon fill=\"black\" stroke=\"black\" points=\"429.544,-77.7511 434.332,-68.2996 424.695,-72.7027 429.544,-77.7511\"/>\r\n</g>\r\n</g>\r\n</svg>\r\n",
      "text/plain": [
       "<graphviz.files.Source at 0x1e79352d4a8>"
      ]
     },
     "metadata": {},
     "execution_count": 26
    }
   ],
   "metadata": {}
  },
  {
   "cell_type": "code",
   "execution_count": 27,
   "source": [
    "# accuray 측정 \r\n",
    "\r\n",
    "from sklearn.metrics import accuracy_score\r\n",
    "\r\n",
    "y_en = tree_en.predict(x_test)\r\n",
    "y_gini = tree_gini.predict(x_test)\r\n",
    "\r\n",
    "en_accuracy = accuracy_score(y_test,y_en)\r\n",
    "gini_accuracy = accuracy_score(y_test,y_gini)\r\n",
    "\r\n",
    "print(f\"엔트로피 : {en_accuracy}, 지니계수 : {gini_accuracy}\")\r\n",
    "\r\n",
    "\r\n",
    "# 흠.... 데이터가 너무 작아서일까 전혀 증가하지 않았군 \r\n",
    "# 아직은 잘 모르겠다 어떻게 해야 증가시킬 수 있을 것인가...? "
   ],
   "outputs": [
    {
     "output_type": "stream",
     "name": "stdout",
     "text": [
      "엔트로피 : 0.9666666666666667, 지니계수 : 0.9666666666666667\n"
     ]
    }
   ],
   "metadata": {}
  },
  {
   "cell_type": "markdown",
   "source": [
    "# 02. KNN "
   ],
   "metadata": {}
  },
  {
   "cell_type": "code",
   "execution_count": 2,
   "source": [
    "# Majority voting \r\n",
    "\r\n",
    "from sklearn.datasets import load_iris \r\n",
    "iris = load_iris()"
   ],
   "outputs": [],
   "metadata": {}
  },
  {
   "cell_type": "code",
   "execution_count": 26,
   "source": [
    "from sklearn.preprocessing import MinMaxScaler\r\n",
    "\r\n",
    "x = iris.data\r\n",
    "y = iris.target"
   ],
   "outputs": [],
   "metadata": {}
  },
  {
   "cell_type": "code",
   "execution_count": 27,
   "source": [
    "scaler = MinMaxScaler()\r\n",
    "\r\n",
    "x = scaler.fit_transform(x)"
   ],
   "outputs": [],
   "metadata": {}
  },
  {
   "cell_type": "code",
   "execution_count": 28,
   "source": [
    "from sklearn.model_selection import train_test_split\r\n",
    "x_train, x_test, y_train, y_test = train_test_split(x,y)\r\n",
    "\r\n",
    "from sklearn.neighbors import KNeighborsClassifier\r\n",
    "model = KNeighborsClassifier(n_neighbors=3)\r\n"
   ],
   "outputs": [],
   "metadata": {}
  },
  {
   "cell_type": "code",
   "execution_count": 29,
   "source": [
    "model.fit(x_train,y_train)\r\n",
    "model.score(x_test, y_test)"
   ],
   "outputs": [
    {
     "output_type": "execute_result",
     "data": {
      "text/plain": [
       "0.9473684210526315"
      ]
     },
     "metadata": {},
     "execution_count": 29
    }
   ],
   "metadata": {}
  },
  {
   "cell_type": "code",
   "execution_count": 30,
   "source": [
    "# k값 변경해보기 \r\n",
    "\r\n",
    "for i in range(3,13) : \r\n",
    "    model = KNeighborsClassifier(n_neighbors=i)\r\n",
    "    model.fit(x_train,y_train)\r\n",
    "    print(\"k = {} : {}\".format(i, model.score(x_test, y_test)))"
   ],
   "outputs": [
    {
     "output_type": "stream",
     "name": "stdout",
     "text": [
      "k = 3 : 0.9473684210526315\n",
      "k = 4 : 0.9473684210526315\n",
      "k = 5 : 0.9736842105263158\n",
      "k = 6 : 0.9736842105263158\n",
      "k = 7 : 0.9736842105263158\n",
      "k = 8 : 0.9473684210526315\n",
      "k = 9 : 0.9473684210526315\n",
      "k = 10 : 0.9473684210526315\n",
      "k = 11 : 0.9473684210526315\n",
      "k = 12 : 0.9473684210526315\n"
     ]
    }
   ],
   "metadata": {}
  },
  {
   "cell_type": "code",
   "execution_count": 31,
   "source": [
    "# Distance-weighted voting \r\n",
    "\r\n",
    "for i in range(3,13) : \r\n",
    "    model = KNeighborsClassifier(n_neighbors=i, weights='distance')\r\n",
    "    model.fit(x_train,y_train)\r\n",
    "    print(\"k = {} : {}\".format(i, model.score(x_test, y_test)))"
   ],
   "outputs": [
    {
     "output_type": "stream",
     "name": "stdout",
     "text": [
      "k = 3 : 0.9473684210526315\n",
      "k = 4 : 0.9473684210526315\n",
      "k = 5 : 0.9473684210526315\n",
      "k = 6 : 0.9736842105263158\n",
      "k = 7 : 0.9473684210526315\n",
      "k = 8 : 0.9473684210526315\n",
      "k = 9 : 0.9473684210526315\n",
      "k = 10 : 0.9473684210526315\n",
      "k = 11 : 0.9473684210526315\n",
      "k = 12 : 0.9473684210526315\n"
     ]
    }
   ],
   "metadata": {}
  },
  {
   "cell_type": "markdown",
   "source": [
    "왜 오히려 정확도가 떨어지는거지..?\r\n",
    "그리고 정규화하니깐 더 정확도가 떨어짐...\r\n",
    "왜죠? 그리고 그냥 표준편차로 해주는 것보다 minmax가 더 정확도 높게 나옴"
   ],
   "metadata": {}
  },
  {
   "cell_type": "markdown",
   "source": [
    "# 03. Naive Bayes Classifier "
   ],
   "metadata": {}
  },
  {
   "cell_type": "code",
   "execution_count": 42,
   "source": [
    "# 사전 확률 P(y)\r\n",
    "\r\n",
    "def prior_prob(target, y_class) : \r\n",
    "    count = 0 \r\n",
    "    for value in target : \r\n",
    "        if value == y_class : \r\n",
    "            count +=1\r\n",
    "    return count /len(target)\r\n"
   ],
   "outputs": [],
   "metadata": {}
  },
  {
   "cell_type": "code",
   "execution_count": 40,
   "source": [
    "# 조건부 확률 p(x|y) \r\n",
    "\r\n",
    "def condition_prob(data,target, x_col, x_class, y_class) : \r\n",
    "    count = 0 \r\n",
    "    for i, value in enumerate(target) : \r\n",
    "        if (value == y_class) and (data[i][x_col]==x_class) : \r\n",
    "            count+=1\r\n",
    "\r\n",
    "    y_count = 0 \r\n",
    "    for value in target : \r\n",
    "        if value == y_class : \r\n",
    "            y_count +=1\r\n",
    "    \r\n",
    "    return count/y_count"
   ],
   "outputs": [],
   "metadata": {}
  },
  {
   "cell_type": "code",
   "execution_count": 49,
   "source": [
    "import numpy as np \r\n",
    "\r\n",
    "data = np.array([[4,3,5,1,6], [0,8,7,9,2]])\r\n",
    "target = np.array([[1],[0]])\r\n",
    "\r\n",
    "condition_prob(data, target,1, 3, 1)"
   ],
   "outputs": [
    {
     "output_type": "execute_result",
     "data": {
      "text/plain": [
       "1.0"
      ]
     },
     "metadata": {},
     "execution_count": 49
    }
   ],
   "metadata": {}
  },
  {
   "cell_type": "code",
   "execution_count": 45,
   "source": [
    "# 사후 확률 P(y|x) 이게 우리가 구하는 답 ~ 나이브 베이즈 구현 \r\n",
    "def naive_bayes(data,target,x_class, y_class) : \r\n",
    "    result = prior_prob(target,y_class)\r\n",
    "\r\n",
    "    for i, value in enumerate(x_class) : \r\n",
    "        result = result*condition_prob(data,target,i, value, y_class)\r\n",
    "\r\n",
    "    return result"
   ],
   "outputs": [],
   "metadata": {}
  },
  {
   "cell_type": "code",
   "execution_count": 55,
   "source": [
    "data = np.array([[1,1,0], [0,1,0], [0,1,1], [0,1,1],[1,1,0], [0,1,0], [0,1,1], [0,1,1]])\r\n",
    "\r\n",
    "target = np.array([[1],[0],[1],[0],[1],[0],[0],[1]])\r\n",
    "\r\n",
    "x_class = np.array([0,1,1])\r\n",
    "\r\n",
    "y_class = 1 \r\n",
    "\r\n",
    "naive_bayes(data,target,x_class, y_class)"
   ],
   "outputs": [
    {
     "output_type": "execute_result",
     "data": {
      "text/plain": [
       "0.125"
      ]
     },
     "metadata": {},
     "execution_count": 55
    }
   ],
   "metadata": {}
  },
  {
   "cell_type": "markdown",
   "source": [],
   "metadata": {}
  }
 ],
 "metadata": {
  "orig_nbformat": 4,
  "language_info": {
   "name": "python",
   "version": "3.7.3",
   "mimetype": "text/x-python",
   "codemirror_mode": {
    "name": "ipython",
    "version": 3
   },
   "pygments_lexer": "ipython3",
   "nbconvert_exporter": "python",
   "file_extension": ".py"
  },
  "kernelspec": {
   "name": "python3",
   "display_name": "Python 3.7.3 64-bit ('base': conda)"
  },
  "interpreter": {
   "hash": "8ca95d9937370959fe53b3f81cea8b7fb579a8b2e40b3ed544c9c6bb9cfba242"
  }
 },
 "nbformat": 4,
 "nbformat_minor": 2
}